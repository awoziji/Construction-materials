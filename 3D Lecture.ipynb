{
 "cells": [
  {
   "cell_type": "markdown",
   "metadata": {
    "slideshow": {
     "slide_type": "slide"
    }
   },
   "source": [
    "# 3D Printing "
   ]
  },
  {
   "cell_type": "markdown",
   "metadata": {
    "slideshow": {
     "slide_type": "fragment"
    }
   },
   "source": [
    "## The Sustainable Construction of <strike>the Future</strike> \n",
    "\n",
    "<img border=0 alt=\"TODAY (style missing)\" src=\"http://www.familylobby.com/common/tt10990415fltt.gif\">"
   ]
  },
  {
   "cell_type": "markdown",
   "metadata": {
    "slideshow": {
     "slide_type": "slide"
    }
   },
   "source": [
    "## Introduction\n",
    "\n",
    "<p><iframe width=\"560\" height=\"315\" src=\"//www.youtube.com/embed/VxPI0VK2YOo\" frameborder=\"0\" allowfullscreen></iframe></p>"
   ]
  },
  {
   "cell_type": "markdown",
   "metadata": {
    "slideshow": {
     "slide_type": "slide"
    }
   },
   "source": [
    "## Canal House\n",
    "\n",
    "<p><iframe src=\"https://player.vimeo.com/video/87843940\" width=\"500\" height=\"281\" frameborder=\"0\" webkitallowfullscreen mozallowfullscreen allowfullscreen></iframe></p> <p><a href=\"https://vimeo.com/87843940\">3D Print Canal House</a> from <a href=\"https://vimeo.com/user9732280\">3D Print Canal House</a> on <a href=\"https://vimeo.com\">Vimeo</a>.</p>\n",
    "\n",
    "[Canal House (site)](http://3dprintcanalhouse.com/)"
   ]
  },
  {
   "cell_type": "markdown",
   "metadata": {
    "slideshow": {
     "slide_type": "slide"
    }
   },
   "source": [
    "## 10 Houses in 24 hours\n",
    "\n",
    "<p><iframe width=\"420\" height=\"315\" src=\"//www.youtube.com/embed/SObzNdyRTBs\" frameborder=\"0\" allowfullscreen></iframe></p>\n"
   ]
  },
  {
   "cell_type": "markdown",
   "metadata": {
    "slideshow": {
     "slide_type": "slide"
    }
   },
   "source": [
    "## 6 Story Printed Apartment\n",
    "\n",
    "<p><iframe width=\"560\" height=\"315\" src=\"//www.youtube.com/embed/UkQSaM43nNw\" frameborder=\"0\" allowfullscreen></iframe></p>\n",
    "\n"
   ]
  },
  {
   "cell_type": "markdown",
   "metadata": {
    "slideshow": {
     "slide_type": "subslide"
    }
   },
   "source": [
    "[6 Story Printed Apartment (article + video)](http://3dprint.com/38144/3d-printed-apartment-building/)\n",
    "\n",
    "<p> <iframe src=\"http://3dprint.com/38144/3d-printed-apartment-building/\" width=800 height=800 scrolling=\"yes\"></iframe> </p>"
   ]
  },
  {
   "cell_type": "markdown",
   "metadata": {
    "slideshow": {
     "slide_type": "slide"
    }
   },
   "source": [
    "## Contour Crafting\n",
    "\n",
    "<p><iframe width=\"560\" height=\"315\" src=\"//www.youtube.com/embed/JdbJP8Gxqog\" frameborder=\"0\" allowfullscreen></iframe></p>\n"
   ]
  },
  {
   "cell_type": "markdown",
   "metadata": {
    "slideshow": {
     "slide_type": "subslide"
    }
   },
   "source": [
    "[Contour Crafting (site)](http://www.contourcrafting.org/)\n",
    "\n",
    "<p> <iframe src=\"http://www.contourcrafting.org/\" width=800 height=800 scrolling=\"yes\"></iframe> </p>"
   ]
  },
  {
   "cell_type": "markdown",
   "metadata": {
    "slideshow": {
     "slide_type": "slide"
    }
   },
   "source": [
    "## Build Your Own Castle\n",
    "\n",
    "<p><iframe width=\"560\" height=\"315\" src=\"//www.youtube.com/embed/XENDSqp-Oss\" frameborder=\"0\" allowfullscreen></iframe></p>\n",
    "\n"
   ]
  },
  {
   "cell_type": "markdown",
   "metadata": {
    "slideshow": {
     "slide_type": "slide"
    }
   },
   "source": [
    "## Printing with Steel\n",
    "\n",
    "<p><iframe width=\"560\" height=\"315\" src=\"//www.youtube.com/embed/pZNTzkAR1Ho\" frameborder=\"0\" allowfullscreen></iframe></p>\n",
    "\n",
    "[Steel Bridge (site)](http://mx3d.com/projects/bridge/)"
   ]
  },
  {
   "cell_type": "markdown",
   "metadata": {
    "slideshow": {
     "slide_type": "subslide"
    }
   },
   "source": [
    "[Steel Bridge (article)](http://gizmodo.com/the-plan-to-3d-print-a-steel-bridge-in-mid-air-1710882593)\n",
    "\n",
    "<p> <iframe src=\"http://gizmodo.com/the-plan-to-3d-print-a-steel-bridge-in-mid-air-1710882593\" width=800 height=800 scrolling=\"yes\"></iframe> </p>"
   ]
  },
  {
   "cell_type": "markdown",
   "metadata": {
    "slideshow": {
     "slide_type": "slide"
    }
   },
   "source": [
    "## 25-100 x Faster 3D Printing (1000 x Faster?)\n",
    "\n",
    "<p><iframe width=\"560\" height=\"315\" src=\"//www.youtube.com/embed/ihR9SX7dgRo\" frameborder=\"0\" allowfullscreen></iframe></p>\n",
    "\n",
    "[Rapid Printing - Carbon3D (site)](http://carbon3d.com/)"
   ]
  },
  {
   "cell_type": "markdown",
   "metadata": {
    "slideshow": {
     "slide_type": "slide"
    }
   },
   "source": [
    "## Now Glass Printing\n",
    "\n",
    "<p><iframe width=\"560\" height=\"315\" src=\"//www.youtube.com/embed/_Lx2loldi6o\" frameborder=\"0\" allowfullscreen></iframe></p>\n"
   ]
  },
  {
   "cell_type": "markdown",
   "metadata": {
    "slideshow": {
     "slide_type": "slide"
    }
   },
   "source": [
    "## UF's 3D printing - A$^2$ Fab Lab\n",
    "\n",
    "[A$^2$ Fab Lab - University of Florida](http://legacy.arts.ufl.edu/aafablab/)\n",
    "\n",
    "<p> <iframe src=\"http://legacy.arts.ufl.edu/aafablab/\" width=800 height=800 scrolling=\"yes\"></iframe> </p>"
   ]
  },
  {
   "cell_type": "markdown",
   "metadata": {
    "slideshow": {
     "slide_type": "skip"
    }
   },
   "source": [
    "## Resources\n",
    "\n",
    "[3D Printing Intro (video)](https://www.youtube.com/watch?v=VxPI0VK2YOo)\n",
    "\n",
    "[Canal House (site)](http://3dprintcanalhouse.com/)\n",
    "\n",
    "[Canal House (video)](https://vimeo.com/87843940)\n",
    "\n",
    "[10 Houses in 24 hours](https://www.youtube.com/watch?v=SObzNdyRTBs)\n",
    "\n",
    "[6 Story Printed Apartment (article + video)](http://3dprint.com/38144/3d-printed-apartment-building/)\n",
    "\n",
    "[Contour Crafting (site)](http://www.contourcrafting.org/)\n",
    "\n",
    "[Contour Crafting (TED talk)](https://www.youtube.com/watch?v=JdbJP8Gxqog)\n",
    "\n",
    "[Castle (news video)](https://www.youtube.com/watch?v=XENDSqp-Oss)\n",
    "\n",
    "[Castle (site)](http://www.totalkustom.com/)\n",
    "\n",
    "[Steel Bridge (article)](http://gizmodo.com/the-plan-to-3d-print-a-steel-bridge-in-mid-air-1710882593)\n",
    "\n",
    "[Steel Bridge (site)](http://mx3d.com/projects/bridge/ )\n",
    "\n",
    "[Steel Bridge (video)](https://www.youtube.com/watch?v=pZNTzkAR1Ho)\n",
    "\n",
    "[Rapid Printing (video + demo)](https://www.youtube.com/watch?v=ihR9SX7dgRo)\n",
    "\n",
    "[Rapid Printing - Carbon3D (site)](http://carbon3d.com/)\n",
    "\n",
    "[MIT Glass Printing (video)](https://www.youtube.com/watch?v=_Lx2loldi6o)\n",
    "\n",
    "[UF's Fab Lab](http://legacy.arts.ufl.edu/aafablab/)\n"
   ]
  }
 ],
 "metadata": {
  "celltoolbar": "Slideshow",
  "kernelspec": {
   "display_name": "Python 3",
   "language": "python",
   "name": "python3"
  },
  "language_info": {
   "codemirror_mode": {
    "name": "ipython",
    "version": 3
   },
   "file_extension": ".py",
   "mimetype": "text/x-python",
   "name": "python",
   "nbconvert_exporter": "python",
   "pygments_lexer": "ipython3",
   "version": "3.4.0"
  }
 },
 "nbformat": 4,
 "nbformat_minor": 0
}
