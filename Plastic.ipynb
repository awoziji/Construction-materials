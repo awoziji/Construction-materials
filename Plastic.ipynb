{
 "cells": [
  {
   "cell_type": "markdown",
   "metadata": {
    "slideshow": {
     "slide_type": "slide"
    }
   },
   "source": [
    "# Plastic"
   ]
  },
  {
   "cell_type": "markdown",
   "metadata": {
    "slideshow": {
     "slide_type": "-"
    }
   },
   "source": [
    "Embedded YouTube Video"
   ]
  },
  {
   "cell_type": "markdown",
   "metadata": {
    "slideshow": {
     "slide_type": "slide"
    }
   },
   "source": [
    "## Slide Show Table of Contents"
   ]
  },
  {
   "cell_type": "markdown",
   "metadata": {},
   "source": [
    "<audio controls data-autoplay preload>\n",
    " <source src=\"mp3 Path\"\n",
    "     type='audio/mp3'>\n",
    " <p>Your user agent does not support the HTML5 Audio element or the files are missing.</p>\n",
    "</audio>"
   ]
  },
  {
   "cell_type": "markdown",
   "metadata": {
    "slideshow": {
     "slide_type": "-"
    }
   },
   "source": [
    "* [Plastic](#)\n",
    "    * [Sustainability](#/3)\n",
    "    * [Toxicity and the Environment](#/4)\n",
    "    * [Recycling](#/5)\n",
    "    * [Reuse](#/6)\n",
    "    * [Material Properties](#/7)\n",
    "    * [Strength](#/8)\n",
    "    * [Structural Failure Modes](#/9)\n",
    "    * [Environment Induced Failure Modes](#/10)\n",
    "    * [Chemical Weaknesses](#/11)\n",
    "    * [Safe Operating Temperatures](#/12)\n",
    "    * [Material Tests](#/13)\n",
    "    * [Quality Levels](#/14)\n",
    "    * [Residential Applications](#/15)\n",
    "    * [Commercial Applications](#/16)\n",
    "    * [Industrial Applications](#/17)\n",
    "    * [Cost Examples](#/18)\n",
    "    * [Material Sources](#/19)\n",
    "    * [Examples of Installation Tools](#/20)\n",
    "    * [Famous Failures](#/21)\n",
    "    * [References](#/22)\n"
   ]
  },
  {
   "cell_type": "markdown",
   "metadata": {
    "slideshow": {
     "slide_type": "slide"
    }
   },
   "source": [
    "## Introduction\n",
    "\n",
    "<p><audio controls data-autoplay preload>\n",
    " <source src=\"https://github.com/damontallen/Construction-materials/raw/master/Lecture_Audio/Week_12/Plastic/Plastic-Introduction.mp3\"\n",
    "         type='audio/mp3'>\n",
    " <p>Your user agent does not support the HTML5 Audio element or the files is missing.</p>\n",
    "</audio></p>\n",
    "\n",
    "Hard rubber was discovered in 1851 and was the first thermosetting to be prepared.  Though rubber is not what we think of when we discuss modern plastics it was the first to use this process which is key in a large family of modern plastics.  The first material that would be considered a modern plastic, [Celluloid](https://en.wikipedia.org/wiki/Celluloid),was developed by John Hyatt in the 1860s.  This is created by combining nitrocellulose with camphor.  [Nitrocellulose (video)](https://www.youtube.com/watch?v=38w2-NCdtio) is also known as gun cotton previously used for propelling large cannon shells.  Because of this Celluloid is very flammable and isn't used much today.  It was used as a substitute for ivory in billiard balls when it was first produced however, and it eventually was very widely used in the film industry prior to the 1950s.\n",
    "\n",
    "[Phenol-formaldehyde resins](https://en.wikipedia.org/wiki/Phenol_formaldehyde_resin) were developed next just prior to the turn of the 20th century but they weren't that successful until the development of [Bakelite](https://en.wikipedia.org/wiki/Bakelite) in 1907.  Bakelite is a thermosetting plastic which was developed by Leo Baekeland and was the first widely used plastic.  Bakelite was sometimes referred to as “the material of 1000 uses” since it was used in such varying products as electrical insulators, kitchenware, jewelry, children's toys and guns.\n",
    "\n",
    "<a href = \"https://en.wikipedia.org/wiki/Polyvinyl_chloride\"> <img src=\"https://upload.wikimedia.org/wikipedia/commons/1/15/PVC-polymerisation-2D.png\" alt = \"PVC molecule image\" Title=\"PVC Molecule\"  style=\"max-width:300px; max-height:300px; border:1px solid blue; float:right; margin-left:10px;\"/></a>Other varieties began to show up over the succeeding decades with polyvinyl chloride (PVC) being plasticized in 1926.  PVC is one of the most used plastics today ([source](http://www.pvc.org/en/p/how-is-pvc-used)).  In the construction industry it is common to actually hear “PVC” when discussing piping.  It is used in electrical wiring insulation, as a wood substitute for trim, and floor covering just to name a few of its uses.  PVC is made up from polymerized vinyl chloride monomers.  The carbon double bond in the monomer is broken and reformed with other broken bonds on other vinyl chloride monomers forming chains thousands of carbons long.\n",
    "\n",
    "In 1978 the introduction of [low density polyethylene](https://en.wikipedia.org/wiki/Low-density_polyethylene#Applications) (LDPE) has added even more plastic into the construction industry.  Polyethylene's chemical structure is similar to PVC, containing only carbon and hydrogen without the chlorine.  New types of cable coverings and decorative applications use LDPE.\n",
    "\n",
    "Suffice it to say the construction industry would not be what is is today without plastics.  Plastics used for vapor barriers, foam insulation, and shatter resistant windows would have to be replaced with less effective and more expensive traditional materials.  However it is important that the plastic used is suitable for the application.  If a plastic is not formulated to be used outside it will likely degrade when exposed to ultraviolet light.  If a plastic is not formulated to take excessive heat then siding or roofing material made from it may soften and deform.  Fortunately most of the time you will be able to simple read the labeling to determine if it is right for your application.  What is important for you to learn is what problems plastic could have so you'll know to check for those weaknesses on the label; after all labels don't normally tell you what a product is not good for."
   ]
  },
  {
   "cell_type": "markdown",
   "metadata": {
    "slideshow": {
     "slide_type": "slide"
    }
   },
   "source": [
    "## Sustainability"
   ]
  },
  {
   "cell_type": "markdown",
   "metadata": {},
   "source": [
    "\n",
    "<audio controls data-autoplay preload>\n",
    " <source src=\"https://github.com/damontallen/Construction-materials/raw/master/Lecture_Audio/Week_12/Plastic/Plastic-Sustainability.mp3\"\n",
    "         type='audio/mp3'>\n",
    " <p>Your user agent does not support the HTML5 Audio element or the files is missing.</p>\n",
    "</audio>"
   ]
  },
  {
   "cell_type": "markdown",
   "metadata": {},
   "source": [
    "Over the last few decades there has been a push to make plastics more recyclable and environmentally friendly.  New methods have been developed to reclaim the embedded energy in most plastics and new types of plastics such as [bioplastics](https://en.wikipedia.org/wiki/Bioplastic) which have a reduce greenhouse gas footprint and are biodegradable.  Like plastic themselves this is a relatively new field and more developments are sure to be showing up in succeeding years.  "
   ]
  },
  {
   "cell_type": "markdown",
   "metadata": {
    "slideshow": {
     "slide_type": "slide"
    }
   },
   "source": [
    "## Types of Plastics\n",
    "\n",
    "<p><audio controls data-autoplay preload>\n",
    " <source src=\"https://github.com/damontallen/Construction-materials/raw/master/Lecture_Audio/Week_12/Plastic/Plastic-Types%20of%20Plastics.mp3\"\n",
    "         type='audio/mp3'>\n",
    " <p>Your user agent does not support the HTML5 Audio element or the files is missing.</p>\n",
    "</audio></p>\n",
    "\n",
    "There are two basic types of plastics, thermoplastics and thermosetting.  The key difference between the two types is their reaction to the addition of heat.  Thermoplastics will soften and melt but when the heat is removed they will cool an solidify into the same (chemically) plastic as they were before.  Thermosetting plastics will not soften when heat is added and instead will decompose though generally hat higher temperatures.\n",
    "\n",
    "PVC and polyethylene both fall into the thermoplastic category.  As such it is important to only use modified versions of both if they are going to be exposed to high temperatures.  The melting point of PVC is 100$^\\circ$C to 260$^\\circ$C depending on which formula is used.  Additionally PVC's glass transition temperature is only 80$^\\circ$C; this is the temperature at which it first softens.  Consider improperly formulated PVC pipe being used as a drain line in a kitchen sink.  How many times have you dumped boiling water (100$^\\circ$C ) down the drain.  A plumber friend of mine told me of tails of sink [traps](https://en.wikipedia.org/wiki/Trap_%28plumbing%29) deforming to a point that they were unusable due to just that.  This is why hot water pipes are not made from PVC; rather CPVC is used in those applications.\n",
    "\n",
    "Plastics made from phenol-formaldehyde and epoxies are thermosetting.  Phenol-formaldehyde is commonly used in glues as you might remember from the Lumber Liquidators [incident](http://www.cbsnews.com/news/lumber-liquidators-linked-to-health-and-safety-violations/).  In that particular situation they were using formulations that higher than allowed levels of formaldehyde and the concern was it was being released as a gas from the flooring at high levels.  The fact of the mater is that without these glues we wouldn't have plywood, or laminated veneer lumber (LVL), or medium density fiberboard (MDF).  These resins are used in cabinets, plumbing, roof shingles, and even consumer electronics so don't think it is going away.  \n",
    "\n",
    "In order to obtain the desired properties of plastics additional material is added to the base mises.  Things like plasticizers and stabilizers are added to aid in the manufacturing process and the long term behavior.  Fillers are added to change properties like hardness, toughness, or heat resistance.  They can also be added to reduce costs by simply taking up space.  Additional items can be added to reinforce the final products.  Paper, fiberglass, or polyester are common, with the last two being more common in the construction industry.  The ability to add colored pigments and dyes also make plastic popular."
   ]
  },
  {
   "cell_type": "markdown",
   "metadata": {
    "slideshow": {
     "slide_type": "slide"
    }
   },
   "source": [
    "## Material Properties"
   ]
  },
  {
   "cell_type": "markdown",
   "metadata": {},
   "source": [
    "\n",
    "<audio controls data-autoplay preload>\n",
    " <source src=\"https://github.com/damontallen/Construction-materials/raw/master/Lecture_Audio/Week_12/Plastic/Plastic-Material%20Properties.mp3\"\n",
    "         type='audio/mp3'>\n",
    " <p>Your user agent does not support the HTML5 Audio element or the files is missing.</p>\n",
    "</audio>"
   ]
  },
  {
   "cell_type": "markdown",
   "metadata": {},
   "source": [
    "Reinforced plastics have elastic moduli comparable to concrete and wood.  They are also generally light weight and water resistant.  Combine these facts with impact strength and this makes plastic useful in construction.  One particular aspect of plastics that have prevented them from being used in a lot of structural applications is their tendency to creep.  Creep occurs when a material continues to deform over time with no additional load being applied.  Wood and concrete will creep over time but long term creep in wood is generally limited to twice that of instantaneous deflections and limits in concrete are also controlled with reinforcing steel.  As we mentioned a long time ago in this class steel can undergo plastic deformation but it can creep as well; however creep in steel is typically only appreciable at elevated temperatures.  Given all of that if a plastic's is formulated properly it can be use in some structural applications.\n",
    "\n",
    "One of the really big innovations coming up in the next few years is when 3D printing comes to the construction industry.  This [video](https://www.youtube.com/watch?v=ihR9SX7dgRo) about fast 3D printing provides a bit of background into what we will be seeing; custom made parts with custom properties allowing for on-site fabrication of exactly what is needed just when it is needed.  There are even efforts being done to [print entire buildings (video)](https://www.youtube.com/watch?v=VxPI0VK2YOo).  Some of these efforts use plastics, but some use the more traditional concrete.  Several groups are printing with concrete and this contractor decided to get into the game and made his own 3D printer and started with printing a [castle (video)](https://www.youtube.com/watch?v=XENDSqp-Oss) for his own back yard.  That was back in 2014 in early 2015 he was looking into permits for [printing a 3D home](http://3dprint.com/40154/3d-printed-house-rudenko/)."
   ]
  },
  {
   "cell_type": "markdown",
   "metadata": {
    "slideshow": {
     "slide_type": "slide"
    }
   },
   "source": [
    "## Wrapping Up\n",
    "\n",
    "\n",
    "<p><audio controls data-autoplay preload>\n",
    " <source src=\"https://github.com/damontallen/Construction-materials/raw/master/Lecture_Audio/Week_12/Plastic/Plastic-Wrapping%20Up.mp3\"\n",
    "         type='audio/mp3'>\n",
    " <p>Your user agent does not support the HTML5 Audio element or the files is missing.</p>\n",
    "</audio></p>\n",
    "\n",
    "Since this is the shortest section that we have covered in this class I'm just going to wrap up by saying you only have a few pages of reading then a short quiz.  I hope you have found this course to be enjoyable or at least you have learned a lot about what is used in the construction industry today.  \n",
    "\n",
    "As with all of my classes this course is likely to change next semester based on your feedback so please be sure to fill out the evaluation questions and feel free tell me in person or email me any suggestions about changes in format, content, assignments or any other information that you feel would improve this course.\n"
   ]
  },
  {
   "cell_type": "markdown",
   "metadata": {
    "slideshow": {
     "slide_type": "slide"
    }
   },
   "source": [
    "# References"
   ]
  },
  {
   "cell_type": "markdown",
   "metadata": {},
   "source": [
    "[UF Class website](https://ufl.instructure.com/courses/) \n",
    "\n",
    "[Github.io version of course website](http://damontallen.github.io/Construction-materials/) *(Do not use this link if you are taking this course in Summer A or B.)*\n",
    "\n",
    "\n",
    "[IPython.org](http://ipython.org/) *(IPython is the opensource software used in the development of much of this course.)*\n",
    "\n",
    "[Complete Software List](http://nbviewer.ipython.org/github/damontallen/Construction-materials/blob/master/Resources.ipynb)\n",
    "\n",
    "## Report any problems\n",
    "\n",
    "[Issues](https://github.com/damontallen/Construction-materials/issues) Please report any problems that occurred during the viewing of this or any other lecture.\n",
    "\n",
    "Alternative Reporting - Email <a href=\"mailto:damontallen@gmail.com?Subject=Construction%20Materials%20Lecture%20Problems\" target=\"_top\">damontallen@gmail.com</a>"
   ]
  }
 ],
 "metadata": {
  "celltoolbar": "Slideshow",
  "kernelspec": {
   "display_name": "Python 3",
   "language": "python",
   "name": "python3"
  },
  "language_info": {
   "codemirror_mode": {
    "name": "ipython",
    "version": 3
   },
   "file_extension": ".py",
   "mimetype": "text/x-python",
   "name": "python",
   "nbconvert_exporter": "python",
   "pygments_lexer": "ipython3",
   "version": "3.4.0"
  }
 },
 "nbformat": 4,
 "nbformat_minor": 0
}
