{
 "cells": [
  {
   "cell_type": "code",
   "execution_count": 1,
   "metadata": {
    "collapsed": false
   },
   "outputs": [
    {
     "name": "stdout",
     "output_type": "stream",
     "text": [
      "<a href = \"https://en.wikipedia.org/wiki/Polyvinyl_chloride\"> <img src=\"https://en.wikipedia.org/wiki/File:PVC-polymerisation-2D.png\" alt = \"PVC molecule image\" Title=\"PVC Molecule\"  style=\"max-width:300px; max-height:300px; border:1px solid blue; float:right; margin-left:10px;\"/></a>\n"
     ]
    }
   ],
   "source": [
    "#Webpage where the image was found\n",
    "Ref     = \"https://en.wikipedia.org/wiki/Polyvinyl_chloride\"\n",
    "#Image url\n",
    "img     = \"https://en.wikipedia.org/wiki/File:PVC-polymerisation-2D.png\"\n",
    "Alt_txt = \"PVC molecule image\" #What shows up when no image is there\n",
    "Title   = \"PVC Molecule\" #Hoover Text\n",
    "Size    =  300 #px\n",
    "local   = 'r'\n",
    "\n",
    "img_tmp = \"\"\"<a href = \"REF\">\n",
    "<img src=\"SOURCE\" alt = \"ALT\" Title=\"TITLE\" \n",
    "style=\"max-width:SIZEpx; max-height:SIZEpx; border:1px solid blue; float:LOCAL; margin-NOT_LOCAL:10px;\"/></a>\"\"\"\n",
    "\n",
    "Locations = {'l':'left', 'r':'right'}\n",
    "Location = Locations[local.lower()]\n",
    "not_L = 'r' if local == 'l' else 'l'\n",
    "Not_Location = Locations[not_L]\n",
    "\n",
    "rep_dict = [('REF',Ref),('SOURCE',img),('ALT',Alt_txt),('TITLE',Title),\n",
    "            ('SIZE',str(Size)),('NOT_LOCAL',Not_Location),('LOCAL',Location)]\n",
    "for key, val in rep_dict:\n",
    "    img_tmp = img_tmp.replace(key,val)\n",
    "\n",
    "print(' '.join(img_tmp.splitlines()))"
   ]
  },
  {
   "cell_type": "code",
   "execution_count": null,
   "metadata": {
    "collapsed": true
   },
   "outputs": [],
   "source": []
  }
 ],
 "metadata": {
  "kernelspec": {
   "display_name": "Python 3",
   "language": "python",
   "name": "python3"
  },
  "language_info": {
   "codemirror_mode": {
    "name": "ipython",
    "version": 3
   },
   "file_extension": ".py",
   "mimetype": "text/x-python",
   "name": "python",
   "nbconvert_exporter": "python",
   "pygments_lexer": "ipython3",
   "version": "3.4.0"
  }
 },
 "nbformat": 4,
 "nbformat_minor": 0
}
