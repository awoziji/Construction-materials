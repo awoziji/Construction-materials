{
 "cells": [
  {
   "cell_type": "markdown",
   "metadata": {
    "slideshow": {
     "slide_type": "slide"
    }
   },
   "source": [
    "# Moisture"
   ]
  },
  {
   "cell_type": "markdown",
   "metadata": {
    "slideshow": {
     "slide_type": "-"
    }
   },
   "source": [
    "Embedded YouTube Video"
   ]
  },
  {
   "cell_type": "markdown",
   "metadata": {
    "slideshow": {
     "slide_type": "slide"
    }
   },
   "source": [
    "## Slide Show Table of Contents"
   ]
  },
  {
   "cell_type": "markdown",
   "metadata": {},
   "source": [
    "<audio controls data-autoplay preload>\n",
    " <source src=\"mp3 Path\"\n",
    "     type='audio/mp3'>\n",
    " <p>Your user agent does not support the HTML5 Audio element or the files are missing.</p>\n",
    "</audio>"
   ]
  },
  {
   "cell_type": "markdown",
   "metadata": {
    "slideshow": {
     "slide_type": "-"
    }
   },
   "source": [
    "* [Moisture](#)\n",
    "    * [Slide 1 Title](#/2)\n",
    "    * [Slide 2 Title](#/3)\n",
    "    * [Slide 3 Title](#/4)\n",
    "    * [Slide 4 Title](#/5)\n",
    "    * [Slide 5 Title](#/6)\n",
    "    * [Slide 6 Title](#/7)\n",
    "    * [Slide 7 Title](#/8)\n",
    "    * [Slide 8 Title](#/9)\n",
    "    * [Slide 9 Title](#/10)\n",
    "    * [References](#/11)\n"
   ]
  },
  {
   "cell_type": "markdown",
   "metadata": {
    "slideshow": {
     "slide_type": "slide"
    }
   },
   "source": [
    "## Moisture Introduction"
   ]
  },
  {
   "cell_type": "markdown",
   "metadata": {},
   "source": [
    "Edit Slide Audio\n",
    "<audio controls data-autoplay preload>\n",
    " <source src=\"https://github.com/damontallen/Construction-materials/raw/master/Lecture_Audio/Week_7/Moisture/Moisture-Slide_Title.mp3\"\n",
    "         type='audio/mp3'>\n",
    " <p>Your user agent does not support the HTML5 Audio element or the files is missing.</p>\n",
    "</audio>"
   ]
  },
  {
   "cell_type": "markdown",
   "metadata": {},
   "source": [
    "<a href = \"https://en.wikipedia.org/wiki/Water\"> <img src=\"https://upload.wikimedia.org/wikipedia/commons/thumb/c/c6/3D_model_hydrogen_bonds_in_water.svg/330px-3D_model_hydrogen_bonds_in_water.svg.png\" alt = \"Water hydrogen bond image\" Title=\"Hydrogen Bonding\"  style=\"max-width:200px; max-height:200px; border:1px solid blue; float:right; margin-left:10px;\"/></a>Sweating is a great way of getting rid of excess heat.  The reason for this is that the [hydrogen bonds](https://en.wikipedia.org/wiki/Hydrogen_bond) between the water molecules are fairly strong and require a lot of energy to break them.  From a thermodynamics prospective, it take a lot of heat to make water change from the liquid state to a gas.  This process, is known as evaporation and is also so effective that most power plants use it in the process of making electricity.  I'm digressing though.  The other phase changes of water have names as well.  Condensation is where water vapor (or steam) condenses into a liquid.  Sublimation is where ice turns directly into water vapor.  And the one you are all familiar with is freezing, where liquid water turns into a solid.  There is deposition of water vapor directly into a solid as well but you rarely hear about it.  Though it does come up when talking about metal vapor condensing.\n",
    "\n",
    "<a href = \"https://en.wikipedia.org/wiki/Water\"> <img src=\"https://upload.wikimedia.org/wikipedia/commons/thumb/4/41/Iceberg_with_hole_near_Sandersons_Hope_2007-07-28_2.jpg/330px-Iceberg_with_hole_near_Sandersons_Hope_2007-07-28_2.jpg\" alt = \"Three phases of water image\" Title=\"Three Phases of Water\"  style=\"max-width:200px; max-height:200px; border:1px solid blue; float:left; margin-right:10px;\"/></a>\n",
    "Moisture is what we need to be talking about so let's go over a few reasons it is important.  Firstly, as we have seen in previous lectures moisture and building materials mostly don't mix well.  Steel rusts, wood rots, concrete and masonry can spall if moisture freezes while inside.  Even asphalt can suffer if frost causes heaving.  If we focus on buildings though we need to also look at the contents of those buildings and how they react to moisture, or lack thereof."
   ]
  },
  {
   "cell_type": "markdown",
   "metadata": {
    "slideshow": {
     "slide_type": "slide"
    }
   },
   "source": [
    "## Relative Humidity"
   ]
  },
  {
   "cell_type": "markdown",
   "metadata": {},
   "source": [
    "Edit Slide Audio\n",
    "<audio controls data-autoplay preload>\n",
    " <source src=\"https://github.com/damontallen/Construction-materials/raw/master/Lecture_Audio/Week_7/Moisture/Moisture-Slide_Title.mp3\"\n",
    "         type='audio/mp3'>\n",
    " <p>Your user agent does not support the HTML5 Audio element or the files is missing.</p>\n",
    "</audio>"
   ]
  },
  {
   "cell_type": "markdown",
   "metadata": {},
   "source": [
    "To describe the amount of moisture in the air we can discuss it in terms of grains of water per pound of air.  There are about 15.43 gains per gram and a pound of air takes up the volume of a cube measuring 2.36 ft on each side (22,700 in$^3$) or about 0.7 m on each side (343 x 10$^6$ cm$^3$).  At 70$^\\circ$F a pound of air will hold a maximum of 108 gains of water or 7.0 grams.  It is important to note that 1 gram of water is defined as 1 cm$^3$ of water at 4$^\\circ$C but since water is fairly incompressible we can safely assume (for now) that we are talking about 7.0 cm$^3$ of water, or 0.43 in$^3$.  By volume this is about 1/50,000,0000$^\\text{th}$ of the total volume of air.\n",
    "\n",
    "Note that a [grain](https://en.wikipedia.org/wiki/Grain_%28unit%29) (gr) is an imperial unit of measure that was based on the weight of a [barley](https://en.wikipedia.org/wiki/Barley) grain and there are 7,000 grains in 1 pound (lb).\n",
    "\n",
    "However, we don't talk about moisture in the air that way we a much more convenient way to talk about it, [relative humidity](https://en.wikipedia.org/wiki/Relative_humidity) (RH).  We say that air at 70$^\\circ$F with 108 gains of water in it is saturated or at 100% RH.  If there were only 54 grains then it would be 50% RH.  \n",
    "\n",
    "If the maximum amount of water remained the same regardless of the temperature then there wouldn't be a need to use relative humidity but it can change quite a lot.  At 85$^\\circ$F air can hold about 190 grains of water and at 32$^\\circ$F it can only hold about 28 grains.  In both of those states the air is at 100% RH.  \n",
    "\n",
    "In cold weather the indoor relative humidity will generally be much lower than in warmer weather.  Do you see why?  Even if it is 100% RH outside at 32$^\\circ$F when the air is brought inside and heated up to 68$^\\circ$F (which requires 103 grains to be saturated) the relative humidity is,\n",
    "\n",
    "$$\\frac{28}{103} \\times 100\\text{%} = 27\\text{% RH}$$\n",
    "\n",
    "The range of 25 – 40% RH is what is considered to be necessary for good health so this would just barely be in the acceptable range.  However based on the [effective temperature](http://www.hvacairconditioningdesign.com/effective-temperature-and-human-comfort/)* (ET), the temperature at which 98% of people just feel warm with 100% RH, this is too low to feel comfortable.  In winter conditions there needs to be 100% RH for 68$^\\circ$F to feel warm.  \n",
    "\n",
    "The concept of effective temperature is based on polls conducted by the [American Society of Heating, Refrigeration, and Air-conditioning Engineers](https://www.ashrae.org/) (ASHRAE) and the U.S. Public Health Service.  The conditions of testing were such that the air movement was limited to no more than 25 feet per minute (fpm).  (Note that this concept is similar to Heat Index but it is not the same.)  Part of the reason for the testing was to determine the amount of moisture that was likely going to be inside buildings.  Which in turn provides an insight into how much condensation is likely to have to be dealt with.  \n",
    "\n",
    "*-Slow loading link"
   ]
  },
  {
   "cell_type": "markdown",
   "metadata": {
    "slideshow": {
     "slide_type": "slide"
    }
   },
   "source": [
    "## Condensation"
   ]
  },
  {
   "cell_type": "markdown",
   "metadata": {},
   "source": [
    "Edit Slide Audio\n",
    "<audio controls data-autoplay preload>\n",
    " <source src=\"https://github.com/damontallen/Construction-materials/raw/master/Lecture_Audio/Week_7/Moisture/Moisture-Slide_Title.mp3\"\n",
    "         type='audio/mp3'>\n",
    " <p>Your user agent does not support the HTML5 Audio element or the files is missing.</p>\n",
    "</audio>"
   ]
  },
  {
   "cell_type": "markdown",
   "metadata": {},
   "source": [
    "<a href = \"https://en.wikipedia.org/wiki/Condensation\"> <img src=\"https://upload.wikimedia.org/wikipedia/commons/thumb/8/8c/Window_in_Ireland.jpg/330px-Window_in_Ireland.jpg\" alt = \"Condensation on window image\" Title=\"Condensation\"  style=\"max-width:300px; max-height:300px; border:1px solid blue; float:right; margin-left:10px;\"/></a>It is important to control where condensation occurs.  If moisture is able to be absorbed by the walls, ceiling, or floor then at some point before it reaches the other side if the temperature on the other side is below the dew point.  The dew point is the temperature for air with a given amount of water become saturated or RH is 100%.  Any change in temperature below the dew point will cause water to condense out of the air onto a nearby cool surface.  \n",
    "\n",
    "An example of this issue is when condensation forms on the glass of a cold drink.  Since the temperature of the cold drink is less than the dew point for the air, water condenses on the surface of the glass.  This can happen on old windows in the winter if the water content on the inside and the temperature on the outside are incompatible with each other."
   ]
  },
  {
   "cell_type": "markdown",
   "metadata": {
    "slideshow": {
     "slide_type": "slide"
    }
   },
   "source": [
    "## Psychrometrics\n",
    "*(Engineering concerned with the determination of physical and thermodynamic properties of gas-vapor mixtures.)*"
   ]
  },
  {
   "cell_type": "markdown",
   "metadata": {},
   "source": [
    "Edit Slide Audio\n",
    "<audio controls data-autoplay preload>\n",
    " <source src=\"https://github.com/damontallen/Construction-materials/raw/master/Lecture_Audio/Week_7/Moisture/Moisture-Slide_Title.mp3\"\n",
    "         type='audio/mp3'>\n",
    " <p>Your user agent does not support the HTML5 Audio element or the files is missing.</p>\n",
    "</audio>"
   ]
  },
  {
   "cell_type": "markdown",
   "metadata": {},
   "source": [
    "<a href = \"https://en.wikipedia.org/wiki/Psychrometrics#Psychrometric_charts\"> <img src=\"https://upload.wikimedia.org/wikipedia/commons/9/9d/PsychrometricChart.SeaLevel.SI.svg\" alt = \"Psychrometric chart image\" Title=\"Psychrometric Chart (SI)\"  style=\"max-width:300px; max-height:300px; border:1px solid blue; float:right; margin-left:10px;\"/></a>\n",
    "You may be wondering just how humidity is determined.  There are electronic sensors that can do the job now by measuring the electrical, capacitive or thermal changes in a material susceptible to humidity.  Readings with less than 1% error can be achieved with relatively inexpensive sensors now.   \n",
    "\n",
    "<a href = \"https://en.wikipedia.org/wiki/Hygrometer\"> <img src=\"https://upload.wikimedia.org/wikipedia/commons/thumb/0/09/Sling_psychrometer.JPG/1191px-Sling_psychrometer.JPG\" alt = \"Sling hygrometer image\" Title=\"Sling Hygrometer\"  style=\"max-width:200px; max-height:200px; border:1px solid blue; float:left; margin-right:10px;\"/></a>However historically other methods were used like the use of a psychometric chart.  This required an apparatus known as a whirling psychrometer or a [sling hygrometer](https://en.wikipedia.org/wiki/Hygrometer#Sling_psychrometer).  A sling hygrometer uses two thermometers with the end of one of them placed in a sock soaked in distilled water.  They are slung around by the handle and the wet bulb would cool down due to evaporation of the water.  The amount of cooling would depend upon how much water could evaporate given the amount of water already present in the air.  The temperature difference between the dry bulb and the wet bulb could be used to determine the relative humidity on the psychometric chart.  \n",
    "\n",
    "For example if the wet bulb read 70$^\\circ$F (21.1 $^\\circ$C) and the dry bulb we at 84$^\\circ$F (28.9 $^\\circ$C) the the RH would be 50%."
   ]
  },
  {
   "cell_type": "markdown",
   "metadata": {
    "slideshow": {
     "slide_type": "slide"
    }
   },
   "source": [
    "## Permeance"
   ]
  },
  {
   "cell_type": "markdown",
   "metadata": {},
   "source": [
    "Edit Slide Audio\n",
    "<audio controls data-autoplay preload>\n",
    " <source src=\"https://github.com/damontallen/Construction-materials/raw/master/Lecture_Audio/Week_7/Moisture/Moisture-Slide_Title.mp3\"\n",
    "         type='audio/mp3'>\n",
    " <p>Your user agent does not support the HTML5 Audio element or the files is missing.</p>\n",
    "</audio>"
   ]
  },
  {
   "cell_type": "markdown",
   "metadata": {},
   "source": [
    "Back to what I mentioned earlier about moisture inside hidden spaces of a building.  This movement of water vapor is due to its partial pressure.  Partial pressures will always [diffuse](https://en.wikipedia.org/wiki/Diffusion) from areas of high pressure (high concentrations) to lower pressure; this difference is known as a gradient.  If you are wondering why this is the case just remember that the movement of molecules is random and there are simply more ways to arrange molecules such that they are about evenly distributed vs having them all in one location.  That is to say that it is far more likely for molecules to be arranged that way then not.  This is something of a restating of the second law of thermodynamics and generalizations of [Fick's laws](https://en.wikipedia.org/wiki/Fick's_laws_of_diffusion).\n",
    "\n",
    "<a href = \"http://www.buildingscience.com/documents/information-sheets/info-312-vapor-permeance-some-materials\"> <img src=\"http://www.buildingscience.com/documents/information-sheets/content/info-312-vapor-permeance-some-materials/images/vapor_permeance_chart_rev.jpg\" alt = \"Permeance table image\" Title=\"Permeance Values\"  style=\"max-width:300px; max-height:600px; border:1px solid blue; float:left; margin-right:10px;\"/></a>The ability of water vapor to move through a material is known as the materials permeance (M).  The higher its permeance the more quickly moisture will pass through it.  The unit of measure is a perm and it is equivalent to 1 grain of water per hour per square foot of area per inch of Hg (mercury) of vapor pressure.\n",
    "\n",
    "$$1 perm = \\frac{1 grain }{ hr ft^2 (inHg)}$$\n",
    "\n",
    "Assemblies of material can have their permeance calculated if the individual permeances are known by finding their [harmonic mean](https://en.wikipedia.org/wiki/Harmonic_mean).\n",
    "\n",
    "$$M_t = \\frac{1}{ \\frac{1}{M_1} + \\frac{1}{M_2} + \\frac{1}{M_3} + \\frac{1}{M_4} + ... + \\frac{1}{M_n}}$$\n",
    "\n",
    "For example if a wall was made up of concrete block (2.4 perm for 8” thick) painted on both sides (2.0 perm for primer and top coat) then the total wall permeance is,\n",
    "\n",
    "$$M_t = \\frac{1}{ \\frac{1}{2.4 perms} + \\frac{1}{2.0 perms} + \\frac{1}{2.0 perms}}=0.706 perms$$\n",
    "\n",
    "One more note on the effect of moisture on construction material.  Material like wood and other hygroscopic materials will absorb the moisture that is in the air and has adsorbed onto their surfaces.  This increase in moisture content can cause the material to swell.  In the case of wood this change in size is not equal in all directions; wood will expand radially and tangentially with the grain far more (10 – 40x as much) than in the direction of the grain (longitudinally).  This differential change dimension can cause stress at the connections and if there is insufficient room to expand crushing and eventually buckling can occur.\n",
    "The main take away that I want you to get, if nothing else, is you want to keep the humidity in a building at a constant low value and you want to keep the concealed cavities in a building as dry as possible.  Bare in mind that each person will generate around 6-12 lbs (42-84 x 10$^3$ grains) of moisture vapor per day.  As this moisture builds up it must get out of a building one way or another.  \n",
    "\n",
    "*(Table [source](http://www.buildingscience.com/documents/information-sheets/info-312-vapor-permeance-some-materials/view))*"
   ]
  },
  {
   "cell_type": "markdown",
   "metadata": {
    "slideshow": {
     "slide_type": "slide"
    }
   },
   "source": [
    "## Construction"
   ]
  },
  {
   "cell_type": "markdown",
   "metadata": {},
   "source": [
    "Edit Slide Audio\n",
    "<audio controls data-autoplay preload>\n",
    " <source src=\"https://github.com/damontallen/Construction-materials/raw/master/Lecture_Audio/Week_7/Moisture/Moisture-Slide_Title.mp3\"\n",
    "         type='audio/mp3'>\n",
    " <p>Your user agent does not support the HTML5 Audio element or the files is missing.</p>\n",
    "</audio>"
   ]
  },
  {
   "cell_type": "markdown",
   "metadata": {},
   "source": [
    "<a href = \"https://en.wikipedia.org/wiki/Vapor_barrier\"> <img src=\"https://upload.wikimedia.org/wikipedia/commons/thumb/3/3e/Vapour_barrier.JPG/300px-Vapour_barrier.JPG\" alt = \"Vapor barrier image\" Title=\"Wall Vapor Barrier\"  style=\"max-width:200px; max-height:200px; border:1px solid blue; float:right; margin-left:10px;\"/></a>Air conditioning can go pretty fair to reduce the amount of moisture in the air.  This calculation is far to complex for this class so suffice it to say that this will not be enough without some way to prevent moisture from coming back in to the building.  This is why vapor barriers are used.  Technically these are vapor retarders but <a href = \"https://en.wikipedia.org/wiki/Mold_growth,_assessment,_and_remediation\"> <img src=\"https://upload.wikimedia.org/wikipedia/commons/thumb/3/3f/DublinMold.jpg/675px-DublinMold.jpg\" alt = \"Mold growth image\" Title=\"Mold\"  style=\"max-width:300px; max-height:300px; border:1px solid blue; float:left; margin-right:10px;\"/></a>\n",
    "they are commonly referred to as just barriers.  In modern buildings these can take the form of placing plastic sheeting on the wall prior to the installation of the material that makes up the interior surface.  On the outside of the building this can be a membrane on the roof, or reinforced plastic sheeting nailed up prior to the application of the siding.  It could also be water proofing coatings over concrete or block; or low permeance insulation.  No mater what is used, both sides of assemblies that touch conditioned space need to be keep dry. \n",
    "\n",
    "There are situations where it is preferable not to have moisture barriers on both sides; places like the under side of a roof deck that is not in conditioned space.  If the roof is not insulated then there will not be a thermal gradient and no condensation will occur within it.  If there is no thermal gradient the dew point will not be reached within a wall, ceiling, roof, or floor. \n",
    "\n",
    "<a href = \"https://en.wikipedia.org/wiki/Attic\"> <img src=\"https://upload.wikimedia.org/wikipedia/en/thumb/5/53/Century_House_Attic_West.JPG/1200px-Century_House_Attic_West.JPG\" alt = \"Attic image\" Title=\"Unconditioned Space\"  style=\"max-width:200px; max-height:200px; border:1px solid blue; float:right; margin-left:10px;\"/></a>Speaking of floor, there is another location where a moisture barrier is needed.  If slab on grade is of sufficient size and is insufficiently reinforced against shrinkage it will likely develop cracks.  These can allow ground moisture to enter the building.  This is particularly a problem in construction below grade in areas with a high water table like Florida.  Walls and floors must have moisture barriers on the sides external to the building to prevent migration of moisture into the building.  These barriers can be applied to walls as a coating or as sheeting.  The type and thickness of these applications will vary based on the environmental factors.\n",
    "\n",
    "The CSI MasterFormat divisions that are used to address moisture are listed below. ([Source](http://www.constructionnotebook.com/ipin2/CSIDivisions.asp))\n",
    "\n",
    "* Division 7 Thermal and Moisture Protection\n",
    "    * 07050 Basic Thermal and Moisture Protection Materials and Methods\n",
    "    * 07100 Damproofing and Waterproofing\n",
    "    * 07200 Thermal Protection\n",
    "    * 07300 Shingles, Roof Tiles, and Roof Coverings\n",
    "    * 07400 Roofing and Siding Panels\n",
    "    * 07500 Membrane Roofing\n",
    "    * 07600 Flashing and Sheet Metal\n",
    "    * 07700 Roof Specialties and Accessories\n",
    "    * 07800 Fire and Smoke Protection\n",
    "    * 07900 Joint Sealers\n",
    "\n"
   ]
  },
  {
   "cell_type": "markdown",
   "metadata": {
    "slideshow": {
     "slide_type": "slide"
    }
   },
   "source": [
    "#References"
   ]
  },
  {
   "cell_type": "markdown",
   "metadata": {},
   "source": [
    "[UF Class website](https://ufl.instructure.com/courses/) \n",
    "\n",
    "[Github.io version of course website](http://damontallen.github.io/Construction-materials/) *(Do not use this link if you are taking this course in Summer A or B.)*\n",
    "\n",
    "\n",
    "[IPython.org](http://ipython.org/) *(IPython is the opensource software used in the development of much of this course.)*\n",
    "\n",
    "[Complete Software List](http://nbviewer.ipython.org/github/damontallen/Construction-materials/blob/master/Resources.ipynb)\n",
    "\n",
    "##Report any problems\n",
    "\n",
    "[Issues](https://github.com/damontallen/Construction-materials/issues) Please report any problems that occurred during the viewing of this or any other lecture.\n",
    "\n",
    "Alternative Reporting - Email <a href=\"mailto:damontallen@gmail.com?Subject=Construction%20Materials%20Lecture%20Problems\" target=\"_top\">damontallen@gmail.com</a>"
   ]
  }
 ],
 "metadata": {
  "celltoolbar": "Slideshow",
  "kernelspec": {
   "display_name": "Python 3",
   "language": "python",
   "name": "python3"
  },
  "language_info": {
   "codemirror_mode": {
    "name": "ipython",
    "version": 3
   },
   "file_extension": ".py",
   "mimetype": "text/x-python",
   "name": "python",
   "nbconvert_exporter": "python",
   "pygments_lexer": "ipython3",
   "version": "3.4.0"
  }
 },
 "nbformat": 4,
 "nbformat_minor": 0
}
