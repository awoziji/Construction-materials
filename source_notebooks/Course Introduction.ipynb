{
 "cells": [
  {
   "cell_type": "markdown",
   "metadata": {
    "slideshow": {
     "slide_type": "slide"
    }
   },
   "source": [
    "# Course Introduction"
   ]
  },
  {
   "cell_type": "markdown",
   "metadata": {
    "slideshow": {
     "slide_type": "-"
    }
   },
   "source": [
    "Embedded YouTube Video"
   ]
  },
  {
   "cell_type": "markdown",
   "metadata": {
    "slideshow": {
     "slide_type": "slide"
    }
   },
   "source": [
    "## Slide Show Table of Contents"
   ]
  },
  {
   "cell_type": "markdown",
   "metadata": {},
   "source": [
    "<audio controls data-autoplay preload>\n",
    " <source src=\"mp3 Path\"\n",
    "     type='audio/mp3'>\n",
    " <p>Your user agent does not support the HTML5 Audio element or the files are missing.</p>\n",
    "</audio>"
   ]
  },
  {
   "cell_type": "markdown",
   "metadata": {
    "slideshow": {
     "slide_type": "-"
    }
   },
   "source": [
    "* [Course Introduction](#)\n",
    "    * [Slide 1 Title](#/2)\n",
    "    * [Slide 2 Title](#/3)\n",
    "    * [Slide 3 Title](#/4)\n",
    "    * [Slide 4 Title](#/5)\n",
    "    * [Slide 5 Title](#/6)\n",
    "    * [Slide 6 Title](#/7)\n",
    "    * [Slide 7 Title](#/8)\n",
    "    * [Slide 8 Title](#/9)\n",
    "    * [Slide 9 Title](#/10)\n",
    "    * [References](#/11)\n"
   ]
  },
  {
   "cell_type": "markdown",
   "metadata": {
    "slideshow": {
     "slide_type": "slide"
    }
   },
   "source": [
    "## What are construction materials?"
   ]
  },
  {
   "cell_type": "markdown",
   "metadata": {},
   "source": [
    "Edit Slide Audio\n",
    "<audio controls data-autoplay preload>\n",
    " <source src=\"https://github.com/damontallen/Construction-materials/raw/master/Lecture_Audio/Week_0/Course%20Introduction/Course%20Introduction-Slide_Title.mp3\"\n",
    "         type='audio/mp3'>\n",
    " <p>Your user agent does not support the HTML5 Audio element or the files is missing.</p>\n",
    "</audio>"
   ]
  },
  {
   "cell_type": "markdown",
   "metadata": {},
   "source": [
    "You should have already gone through the Greetings lecture at this point and have been exposed to what materials I am covering in this course.  If you haven't I recommend you doing that now.  \n",
    "\n",
    "In general construction materials are products used in the construction process to build roads, bridges, or buildings.  These include structural components like steel and concrete as well as non structural components like plastics or paint.  Since this is such a broad category this course is not going to be an exhaustive exploration of all construction materials.  For instance I am not going to be covering aggregate nor will I be covering any electrical equipment.  What I am going to be covering is the basic materials that are the most common on every job and you are certain to need to know about.  \n",
    "\n",
    "Even this limited scope is really to broad to cover in substantial depth in one class so we will only be covering the background knowledge you should have about each topic.  As justification for the lack of depth covered in this course I only need to point out that half of both the Structures course and Soils and Concrete course are dedicated to concrete in more detail.  Not every topic gets a full semester of coverage in the undergraduate program but each of them are covered again in later classes.  \n",
    "\n",
    "My goal in this course is that by the end of the semester you should be able to recognize the common terms relating to each of the materials we cover and have an idea about their limitations.  I am also going to try to introduce new developments in the field of construction materials throughout the semester in anticipation of the commercial introduction of the new products."
   ]
  },
  {
   "cell_type": "markdown",
   "metadata": {
    "slideshow": {
     "slide_type": "slide"
    }
   },
   "source": [
    "## How is this course going to work?"
   ]
  },
  {
   "cell_type": "markdown",
   "metadata": {},
   "source": [
    "Edit Slide Audio\n",
    "<audio controls data-autoplay preload>\n",
    " <source src=\"https://github.com/damontallen/Construction-materials/raw/master/Lecture_Audio/Week_0/Course%20Introduction/Course%20Introduction-Slide_Title.mp3\"\n",
    "         type='audio/mp3'>\n",
    " <p>Your user agent does not support the HTML5 Audio element or the files is missing.</p>\n",
    "</audio>"
   ]
  },
  {
   "cell_type": "markdown",
   "metadata": {},
   "source": [
    "The content of this course is going to be presented in a combination of lectures, and reading assignments.  The lectures are going to serve as an introduction to the reading and most of the time will not contain the same material as the reading.  The length of each of the lectures will relate to the number of alternatives to the use of that particular material.  What I mean by that is if you are going to have a choice in using that material or substituting a different one to accomplish the same job I am going to spend more time talking about it.  For instance, you can build the main structural components of a building out of either wood, steel or concrete, therefore I spend a a lot of time introducing those topics.  There aren't a lot of viable alternatives to paint other than paint so I don't spend nearly as much time covering paint.\n",
    "\n",
    "As of this semester the topics I cover in this course are roughly arranged in order of length of the introduction with the longest ones coming at the beginning of the semester.  This was not done on purpose.  I tried to arrange the topics in approximately the order of when they would show up on a construction site, i.e. the structural material need to be in place prior to the roof, prior to the interior walls, etc.  The fact that the longer lectures are at the beginning of the semester is actually a good thing though.  Most classes get more complicated as the semester progresses and demand more and more of your time.  In the case of this course the amount of time you spend on each topic should decrease as the semester progresses allowing you time to focus on your other courses.  (Your welcome.)"
   ]
  },
  {
   "cell_type": "markdown",
   "metadata": {
    "slideshow": {
     "slide_type": "slide"
    }
   },
   "source": [
    "## Deliverables"
   ]
  },
  {
   "cell_type": "markdown",
   "metadata": {},
   "source": [
    "Edit Slide Audio\n",
    "<audio controls data-autoplay preload>\n",
    " <source src=\"https://github.com/damontallen/Construction-materials/raw/master/Lecture_Audio/Week_0/Course%20Introduction/Course%20Introduction-Slide_Title.mp3\"\n",
    "         type='audio/mp3'>\n",
    " <p>Your user agent does not support the HTML5 Audio element or the files is missing.</p>\n",
    "</audio>"
   ]
  },
  {
   "cell_type": "markdown",
   "metadata": {},
   "source": [
    "No matter what course you take you are going to need to turn in something.  In this course we will be having quizzes and possibly some short assignments and/or online discussions.  The quizzes will be timed and as of now they will be online on Canvas.  The quiz questions will be multiple choice or true false.  This has to do with the size of the class.  There are sections that meet in the classroom as well as a completely online section.  There are over 60 students enrolled in this course and that is a lot of grading for even simple assignments.\n",
    "\n",
    "Each quiz question is going to be worth 1 point.  As of now I am not sure if there will be and addition assignments other than quizzes but you will be told the point value for each assignment when it is given.  At the end of the semester the total amount of points you made on all the quizzes and assignments will be divided by the number of possible points you could have made and that will be your score in this class."
   ]
  },
  {
   "cell_type": "markdown",
   "metadata": {
    "slideshow": {
     "slide_type": "slide"
    }
   },
   "source": [
    "## Grading"
   ]
  },
  {
   "cell_type": "markdown",
   "metadata": {},
   "source": [
    "Edit Slide Audio\n",
    "<audio controls data-autoplay preload>\n",
    " <source src=\"https://github.com/damontallen/Construction-materials/raw/master/Lecture_Audio/Week_0/Course%20Introduction/Course%20Introduction-Slide_Title.mp3\"\n",
    "         type='audio/mp3'>\n",
    " <p>Your user agent does not support the HTML5 Audio element or the files is missing.</p>\n",
    "</audio>"
   ]
  },
  {
   "cell_type": "markdown",
   "metadata": {},
   "source": [
    "The grading scale I am going to be using for this course is below.\n",
    "\n",
    "<Table  align=\"center\">\n",
    "<caption><strong>Grading Scale</strong></caption>\n",
    "<tr><td>A-: 90% - 92.9%</td><td colspan=\"2\">A: 93% - 100%</td></tr>\n",
    "<tr><td>B-: 80% - 82.9%</td><td>B: 83% - 86.9%</td><td>B+: 87% - 89.9%</td></tr>\n",
    "<tr><td>C-: 70% - 72.9%</td><td>C: 73% - 76.9%</td><td>C+: 77% - 79.9%</td></tr>\n",
    "<tr><td>D-: 60% - 62.9%</td><td>D: 63% - 66.9%</td><td>D+: 67% - 69.9%</td></tr>\n",
    "<tr><td colspan=\"3\">E-: &lt; 60%</td></tr>\n",
    "</Table>"
   ]
  },
  {
   "cell_type": "markdown",
   "metadata": {
    "slideshow": {
     "slide_type": "slide"
    }
   },
   "source": [
    "## New Course Information"
   ]
  },
  {
   "cell_type": "markdown",
   "metadata": {},
   "source": [
    "Edit Slide Audio\n",
    "<audio controls data-autoplay preload>\n",
    " <source src=\"https://github.com/damontallen/Construction-materials/raw/master/Lecture_Audio/Week_0/Course%20Introduction/Course%20Introduction-Slide_Title.mp3\"\n",
    "         type='audio/mp3'>\n",
    " <p>Your user agent does not support the HTML5 Audio element or the files is missing.</p>\n",
    "</audio>"
   ]
  },
  {
   "cell_type": "markdown",
   "metadata": {},
   "source": [
    "I would like to take this opportunity to let you know a few things about this course in general.  Firstly this is the first time I am teaching this course and as such there are quite likely to be typos and minor errors in the presentations.  Additionally though I have taught many courses this is the first one that has freshmen enrolled in it.  The combination of those two facts means that I may not have gotten the difficulty curve right yet and due dates are subject to change based on feedback.  I will not be changing a due date based on a single person's input and it may not even be possible to change a due date while still covering all the course material.  That being said, if you are having difficulty finishing and assignment you can turn it in late for a small penalty.  If enough students are having a problem with an assignment I may waive the penalty and move the due date but don't rely on that.  \n",
    "\n",
    "The way the penalty will work is if you are a day late you will have 25% off of your score, two days, it will be 50% off, three days 75% off and you will receive no credit by the fourth day.\n",
    "\n",
    "Since this is the first time I am teaching this course I am interested in hearing about improvements you would like to see.  If you have an idea about one of the topics that you think should be mentioned you can write me an email or post it and an issue on github and if it is something that I can incorporate into the class I will award extra credit.  The amount of extra credit depends on how easy and useful the idea would be to this course.  It is not out of the realm of possibility for you to improve your final grade by a full letter grade if you come up will enough additional course content.  An individual idea will not be worth more than three points of your final grade at most and again that depends on how well it can be incorporated into the course."
   ]
  },
  {
   "cell_type": "markdown",
   "metadata": {
    "slideshow": {
     "slide_type": "slide"
    }
   },
   "source": [
    "## Additional information"
   ]
  },
  {
   "cell_type": "markdown",
   "metadata": {},
   "source": [
    "Edit Slide Audio\n",
    "<audio controls data-autoplay preload>\n",
    " <source src=\"https://github.com/damontallen/Construction-materials/raw/master/Lecture_Audio/Week_0/Course%20Introduction/Course%20Introduction-Slide_Title.mp3\"\n",
    "         type='audio/mp3'>\n",
    " <p>Your user agent does not support the HTML5 Audio element or the files is missing.</p>\n",
    "</audio>"
   ]
  },
  {
   "cell_type": "markdown",
   "metadata": {},
   "source": [
    "The lectures for this course are hosted on my github account.  You can view each lecture as one scrollable website [here](https://github.com/damontallen/Construction-materials) and the slide show versions hosted are [here](http://damontallen.github.io/Construction-materials/).  Github is a social media platform for programmers and software developers.  The reason I am hosting the lectures there is that I am using git for version control of my lectures and github is available for free public hosting.  You can create an account on github for free at [github.com](https://github.com/).  Do you need to know all of this?  No.  However I am going to get up on my soapbox for a minute or two to talk about some of the other software I'm using to try to encourage you to use it too.\n",
    "\n",
    "Firstly the lectures were all written using [IPython](http://ipython.org/).  IPython (also known as the [Jupyter](https://jupyter.org/) project) is a programming/communications application that lets you do computations, graphs (including in 3D), and include any rich content that can be embedded on a web page.  If you are familiar with programming it is a superset of the language Python.  Python is, in my opinion, the easiest programming language to learn.  Additionally it is extremely powerful and it is open-source.  This means it is free to download and use.  It has free symbolic language libraries available that are capable of Algebra, Calculus, and Statistics.  With IPython and Python you could write some short programs that would be able to do every assignment you had to do in your algebra course.  That being said I am not telling you to use it to cheat in math and physics courses.  However you can use it to check your work or make a record of how to do the problems you covered in a class.\n",
    "\n",
    "We will not be doing many calculations in this course so the utility of IPython for you here is limited but I do think it is worth you knowing about.  At some point in the future I will be teaching the all the structures courses in building construction and when I do I will be having my students do their assignments using IPython.  If you are interested in learning more about IPython you can either email me, stop by my office, or just come up and talk to me some time.  If you just want to look at it and play around you can go to [try.jupyter.org](https://try.jupyter.org/).\n",
    "\n",
    "Alright I'm stepping down off my soapbox and we can get on with the class."
   ]
  },
  {
   "cell_type": "markdown",
   "metadata": {
    "slideshow": {
     "slide_type": "slide"
    }
   },
   "source": [
    "## Slide 7 Title"
   ]
  },
  {
   "cell_type": "markdown",
   "metadata": {},
   "source": [
    "Edit Slide Audio\n",
    "<audio controls data-autoplay preload>\n",
    " <source src=\"https://github.com/damontallen/Construction-materials/raw/master/Lecture_Audio/Week_0/Course%20Introduction/Course%20Introduction-Slide_Title.mp3\"\n",
    "         type='audio/mp3'>\n",
    " <p>Your user agent does not support the HTML5 Audio element or the files is missing.</p>\n",
    "</audio>"
   ]
  },
  {
   "cell_type": "markdown",
   "metadata": {},
   "source": [
    "Slide Content"
   ]
  },
  {
   "cell_type": "markdown",
   "metadata": {
    "slideshow": {
     "slide_type": "slide"
    }
   },
   "source": [
    "## Slide 8 Title"
   ]
  },
  {
   "cell_type": "markdown",
   "metadata": {},
   "source": [
    "Edit Slide Audio\n",
    "<audio controls data-autoplay preload>\n",
    " <source src=\"https://github.com/damontallen/Construction-materials/raw/master/Lecture_Audio/Week_0/Course%20Introduction/Course%20Introduction-Slide_Title.mp3\"\n",
    "         type='audio/mp3'>\n",
    " <p>Your user agent does not support the HTML5 Audio element or the files is missing.</p>\n",
    "</audio>"
   ]
  },
  {
   "cell_type": "markdown",
   "metadata": {},
   "source": [
    "Slide Content"
   ]
  },
  {
   "cell_type": "markdown",
   "metadata": {
    "slideshow": {
     "slide_type": "slide"
    }
   },
   "source": [
    "#References"
   ]
  },
  {
   "cell_type": "markdown",
   "metadata": {},
   "source": [
    "[UF Class website](https://ufl.instructure.com/courses/) \n",
    "\n",
    "[Github.io version of course website](http://damontallen.github.io/Construction-materials/) *(Do not use this link if you are taking this course in Summer A or B.)*\n",
    "\n",
    "\n",
    "[IPython.org](http://ipython.org/) *(IPython is the opensource software used in the development of much of this course.)*\n",
    "\n",
    "[Complete Software List](http://nbviewer.ipython.org/github/damontallen/Construction-materials/blob/master/Resources.ipynb)\n",
    "\n",
    "##Report any problems\n",
    "\n",
    "[Issues](https://github.com/damontallen/Construction-materials/issues) Please report any problems that occurred during the viewing of this or any other lecture.\n",
    "\n",
    "Alternative Reporting - Email <a href=\"mailto:damontallen@gmail.com?Subject=Construction%20Materials%20Lecture%20Problems\" target=\"_top\">damontallen@gmail.com</a>"
   ]
  }
 ],
 "metadata": {
  "celltoolbar": "Slideshow",
  "kernelspec": {
   "display_name": "Python 3",
   "language": "python",
   "name": "python3"
  },
  "language_info": {
   "codemirror_mode": {
    "name": "ipython",
    "version": 3
   },
   "file_extension": ".py",
   "mimetype": "text/x-python",
   "name": "python",
   "nbconvert_exporter": "python",
   "pygments_lexer": "ipython3",
   "version": "3.4.0"
  }
 },
 "nbformat": 4,
 "nbformat_minor": 0
}
