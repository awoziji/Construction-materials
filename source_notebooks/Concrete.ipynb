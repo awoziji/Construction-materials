{
 "cells": [
  {
   "cell_type": "markdown",
   "metadata": {
    "slideshow": {
     "slide_type": "slide"
    }
   },
   "source": [
    "# Concrete"
   ]
  },
  {
   "cell_type": "markdown",
   "metadata": {
    "slideshow": {
     "slide_type": "-"
    }
   },
   "source": [
    "Embedded YouTube Video"
   ]
  },
  {
   "cell_type": "markdown",
   "metadata": {
    "slideshow": {
     "slide_type": "slide"
    }
   },
   "source": [
    "## Slide Show Table of Contents"
   ]
  },
  {
   "cell_type": "markdown",
   "metadata": {},
   "source": [
    "<audio controls data-autoplay preload>\n",
    " <source src=\"mp3 Path\"\n",
    "     type='audio/mp3'>\n",
    " <p>Your user agent does not support the HTML5 Audio element or the files are missing.</p>\n",
    "</audio>"
   ]
  },
  {
   "cell_type": "markdown",
   "metadata": {
    "slideshow": {
     "slide_type": "-"
    }
   },
   "source": [
    "* [Concrete](#)\n",
    "    * [Sustainability](#/3)\n",
    "    * [Toxicity and the Environment](#/4)\n",
    "    * [Recycling](#/5)\n",
    "    * [Reuse](#/6)\n",
    "    * [Material Properties](#/7)\n",
    "    * [Strength](#/8)\n",
    "    * [Structural Failure Modes](#/9)\n",
    "    * [Environment Induced Failure Modes](#/10)\n",
    "    * [Chemical Weaknesses](#/11)\n",
    "    * [Safe Operating Temperatures](#/12)\n",
    "    * [Material Tests](#/13)\n",
    "    * [Quality Levels](#/14)\n",
    "    * [Residential Applications](#/15)\n",
    "    * [Commercial Applications](#/16)\n",
    "    * [Industrial Applications](#/17)\n",
    "    * [Cost Examples](#/18)\n",
    "    * [Material Sources](#/19)\n",
    "    * [Examples of Installation Tools](#/20)\n",
    "    * [Famous Failures](#/21)\n",
    "    * [References](#/22)\n"
   ]
  },
  {
   "cell_type": "markdown",
   "metadata": {},
   "source": [
    "##Introduction\n",
    "\n",
    "<audio controls data-autoplay preload>\n",
    " <source src=\"https://github.com/damontallen/Construction-materials/raw/master/Lecture_Audio/Week_5/Concrete/Concrete-Introduction.mp3\"\n",
    "         type='audio/mp3'>\n",
    " <p>Your user agent does not support the HTML5 Audio element or the files is missing.</p>\n",
    "</audio>\n",
    "\n",
    "General description of concrete chemistry [video](https://www.youtube.com/watch?v=b43Iz2OoUNk).\n",
    "\n",
    "Crushing a concrete cylinder [video](https://www.youtube.com/watch?v=cfVvzjVzeE0) (consider replacing).\n",
    "\n",
    "<a href = \"http://www.concrete.org/tools/frequentlyaskedquestions.aspx?faqid=658\"> <img src=\"http://i.imgur.com/v4Hx008.jpg\" alt = \"Cylinder break image\" Title=\"Cylinder Break\"  style=\"max-width:200px; max-height:200px; border:1px solid blue; float:left; margin-right:10px;\"/></a>\n",
    "Concrete is a composite material consisting of cement and aggregate.  Once fully cured concrete is very strong in compression.  High strength concrete can resist as much as 19 ksi. This is not as much as steel but it weighs less and is much cheaper.  Additionally it is fire resistant; so much so that it is sometimes used to protect steel.  What you see in the video of a concrete cylinder being crushed (if available) is a sudden failure due to a cylinder being compressed.  However the failure is technically due to tension developed from the effect of [Poisson's ratio](https://en.wikipedia.org/wiki/Poisson%27s_ratio).  Again, this is something you'll see in other classes.\n",
    "\n",
    "Byt the way, the organization that publishes the concrete building code is the [American Concrete Institute](https://www.concrete.org/) (ACI).  You will also be hearinging more about them in other classes."
   ]
  },
  {
   "cell_type": "markdown",
   "metadata": {
    "slideshow": {
     "slide_type": "-"
    }
   },
   "source": [
    "###Brief History\n",
    "\n",
    "<a href = \"https://en.wikipedia.org/wiki/Ancient_Roman_architecture\"> <img src=\"https://upload.wikimedia.org/wikipedia/commons/thumb/d/d0/Pantheon_dome.jpg/550px-Pantheon_dome.jpg\" alt = \"Image of the Roman Pantheon\" Title=\"Roman Pantheon\"  style=\"max-width:200px; max-height:200px; border:1px solid blue; float:right; margin-left:10px;\"/></a>Concrete was reportedly first used by the ancient Mycenaeans in Greece in between 1400 and \n",
    "1200 BC ([source](http://arxiv.org/ftp/arxiv/papers/1110/1110.5230.pdf)) and there were less effective versions used by the ancient Egyptians.  However though the Romans' use of concrete is far better known.  Structures like the [Pantheon](https://en.wikipedia.org/wiki/Pantheon,_Rome), the [aqueducts](https://en.wikipedia.org/wiki/Roman_aqueduct) and [Colosseum](https://en.wikipedia.org/wiki/Colosseum) being made partly or wholly made from concrete and are still standing today speaks to its durability.  \n",
    "\n",
    "Modern concrete was first developed in 1824 by [Joseph Aspdin](https://en.wikipedia.org/wiki/Joseph_Aspdin).  The term \"Portland cement\" was coined by him since the hardened substance resembled limestone from the Isle of Portland in Dorset.  [Reinforced concrete](https://en.wikipedia.org/wiki/Reinforced_concrete) was developed in the 1850s with a patent being issued to a French gardener named [F. Joseph Monier](https://en.wikipedia.org/wiki/Joseph_Monier) in 1857.  The use of reinforcement provides a method to overcome the lack of tensile strength in unreinforced concrete."
   ]
  },
  {
   "cell_type": "markdown",
   "metadata": {
    "slideshow": {
     "slide_type": "slide"
    }
   },
   "source": [
    "## Sustainability"
   ]
  },
  {
   "cell_type": "markdown",
   "metadata": {},
   "source": [
    "\n",
    "<audio controls data-autoplay preload>\n",
    " <source src=\"https://github.com/damontallen/Construction-materials/raw/master/Lecture_Audio/Week_5/Concrete/Concrete-Sustainability.mp3\"\n",
    "         type='audio/mp3'>\n",
    " <p>Your user agent does not support the HTML5 Audio element or the files is missing.</p>\n",
    "</audio>"
   ]
  },
  {
   "cell_type": "markdown",
   "metadata": {},
   "source": [
    "Currently concrete manufacturing is one of the larger sources of CO$_2$.  The production of concrete is responsible for $\\approx$5% annually (377 million metric tons of carbon in 2007) ([source](http://www.nrmca.org/sustainability/CONCRETE%20CO2%20FACT%20SHEET%20FEB%202012.pdf)).  However there are several mix designs that reduce these emissions.  The way this is accomplished is by either reducing the amount of energy consumed during the manufacturing process (using more fly ash, [extreme example](http://www.nature.com/news/green-cement-concrete-solutions-1.12460)) and/or replacing [calcium oxide](https://en.wikipedia.org/wiki/Calcium_oxide) (aka quicklime) with others that don't emit CO$_2$ during manufacturing.  There is even research looking at incorporating [biofuel waste](http://cleantechnica.com/2013/03/19/concrete-with-lower-carbon-footprint-created-from-biofuel-waste/) to supplement the calcium oxide.\n",
    "\n",
    "The concrete industry is very interested in being considered as producers of a sustainable product and provide documentation on how to use concrete in LEED certified projects. \n",
    "\n",
    ">Potential LEED points gained through the use of ready mixed concrete are discussed in the following areas: stormwater management; landscape paving; minimizing energy use; optimizing energy performance; managing construction waste; recycled content; use of regional materials; use of certified wood; innovation in design; and reduction in the use of portland cement. \n",
    ">\n",
    ">...\n",
    ">\n",
    ">Pervious Concrete Paving - Pervious paving allows water to percolate to the ground, filter contaminants and recharge groundwater and aquifers.  Pervious concrete consists of specially formulated mixtures of portland cement, uniform, open-graded coarse aggregate, and water.  It usually contains little or no sand.  It has enough void space to allow rapid percolation of liquids through the pavement. ... It is placed over a layer of open-graded gravel and crushed stone.  Voids in the aggregate layers act as a storage reservoir for stormwater.\n",
    "\n",
    "*Source - Ready Mixed Concrete Industry [LEED Reference Guide](http://www.nrmca.org/greenconcrete/LEED_reference_guide_2009_3rd-edition.pdf)*\n",
    "\n",
    "They go on to discuss the pollution removing aspects of the use of pervious concrete paving.\n",
    "\n",
    "They provide contrast with asphalt in regards to the heat island effect.  Gray concrete reflects 35-45% of solar energy back into the atmosphere and white concrete will reflect 70-80%.  This is apposed to new and weathered asphalt which only reflects 5-15%.  The energy that is not reflected is converted to heat which causes the temperature to rise.  \n",
    "\n",
    "The report does note that white concrete is more expensive.  Additionally if concrete contains fly ash it may become darker and if it contains slag it may be lighter.\n",
    "\n",
    "Overall there aspect of concrete which are very useful in terms of sustainability.  There are even mixes of concrete that include [titanium dioxide](http://www.cement.org/cement-concrete-basics/products/self-cleaning-concrete) that are designed to remove smog from the air.\n",
    "\n"
   ]
  },
  {
   "cell_type": "markdown",
   "metadata": {
    "slideshow": {
     "slide_type": "slide"
    }
   },
   "source": [
    "## Toxicity and the Environment"
   ]
  },
  {
   "cell_type": "markdown",
   "metadata": {},
   "source": [
    "\n",
    "<audio controls data-autoplay preload>\n",
    " <source src=\"https://github.com/damontallen/Construction-materials/raw/master/Lecture_Audio/Week_5/Concrete/Concrete-Toxicity%20and%20the%20Environment.mp3\"\n",
    "         type='audio/mp3'>\n",
    " <p>Your user agent does not support the HTML5 Audio element or the files is missing.</p>\n",
    "</audio>"
   ]
  },
  {
   "cell_type": "markdown",
   "metadata": {},
   "source": [
    "Concrete is generally not toxic but before it has cured it is a very caustic liquid with a pH level about the same as bleach (12-13).  Exposure for an extended period of time can even lead to third degree chemical burns.  For this reason both eye and skin protection is required when pouring concrete. *(Source: [MSDS](http://www.lafarge-na.com/Ready_Mix_Concrete_MSDS_2017.pdf))*  It is also important to prevent the water used to wash out concrete mixing equipment from getting into local storm water facilities and aquatic habitats.  \n",
    "\n",
    ">Caustic washwater can harm fish gills and eyes and interfere with reproduction. The safe pH ranges for aquatic life habitats are 6.5 – 9 for freshwater and 6.5 – 8.5 for saltwater. *(Source: [EPA publication](http://water.epa.gov/polwaste/npdes/swbmp/upload/concretewashout.pdf))*\n",
    "\n",
    "\n"
   ]
  },
  {
   "cell_type": "markdown",
   "metadata": {
    "slideshow": {
     "slide_type": "slide"
    }
   },
   "source": [
    "## Recycling and Reuse"
   ]
  },
  {
   "cell_type": "markdown",
   "metadata": {},
   "source": [
    "\n",
    "<audio controls data-autoplay preload>\n",
    " <source src=\"https://github.com/damontallen/Construction-materials/raw/master/Lecture_Audio/Week_5/Concrete/Concrete-Recycling.mp3\"\n",
    "         type='audio/mp3'>\n",
    " <p>Your user agent does not support the HTML5 Audio element or the files is missing.</p>\n",
    "</audio>"
   ]
  },
  {
   "cell_type": "markdown",
   "metadata": {},
   "source": [
    "<a href = \"https://en.wikipedia.org/wiki/Riprap\"> <img src=\"https://upload.wikimedia.org/wikipedia/commons/thumb/0/01/11-8-07_riprap_photo.jpg/400px-11-8-07_riprap_photo.jpg\" alt = \"Concrete riprap image\" Title=\"Concrete Riprap\"  style=\"max-width:200px; max-height:200px; border:1px solid blue; float:right; margin-left:10px;\"/></a>Concrete is commonly recycled by breaking it up and using it as gravel or stone.  As gravel it can be used in fresh concrete, or bedding for roads, sidewalks or parking lots.  In larger pieces it can be used to control erosion as [riprap](https://en.wikipedia.org/wiki/Riprap).  As the process of recycling concrete it is becoming a more valuable commodity.  Larger chunks of concrete can be shaped and reused in landscaping as well.\n",
    "\n"
   ]
  },
  {
   "cell_type": "markdown",
   "metadata": {
    "slideshow": {
     "slide_type": "slide"
    }
   },
   "source": [
    "## Material Properties"
   ]
  },
  {
   "cell_type": "markdown",
   "metadata": {},
   "source": [
    "\n",
    "<audio controls data-autoplay preload>\n",
    " <source src=\"https://github.com/damontallen/Construction-materials/raw/master/Lecture_Audio/Week_5/Concrete/Concrete-Material%20Properties.mp3\"\n",
    "         type='audio/mp3'>\n",
    " <p>Your user agent does not support the HTML5 Audio element or the files is missing.</p>\n",
    "</audio>"
   ]
  },
  {
   "cell_type": "markdown",
   "metadata": {},
   "source": [
    "Concrete is a composite material that is formed as a liquid and cures to a solid. The solid finished product is basically rock, it has a large thermal mass, it is very durable, and highly reflective.  It is impervious unless specifically designed to be otherwise.  However its most important quality is its compressive strength.\n",
    "\n",
    "The compressive strength of concrete, denoted as $f'_c$, typically ranges from 2,500 psi to 6,000 psi but high strength versions have been made and strengths up to 18.9 ksi are commercially available.  This compressive strength has also been related to its modulus of elasticity if the unit weight is available.\n",
    "\n",
    "$$E_c = w_c^{1.5} 33 \\sqrt{f'_c}$$\n",
    "\n",
    "Where:\n",
    "\n",
    "* $E_c$ is the modulus of elasticity of concrete in psi\n",
    "* $w_c$ is the unit weight of concrete in pounds per cubic foot ($lb/ft^3$}\n",
    "* $f'_c$ is the compressive strength of concrete in psi\n",
    "\n",
    "If you don't have the unit weight then you are allowed to use the following.\n",
    "\n",
    "$$E_c = 57,000 \\sqrt{f'_c}$$\n",
    "\n",
    "One thing to be aware of is that concrete is a brittle material and is extremely weak in tension.  Some work has been done in an effort to create mixes that are ductile.  These are know as [Engineered Cementitious Composites](http://www.nrmcaevents.org/?nav=download&file=274) (ECC) or Strain-Hardening Cementitious Composites (SHCC) and are made with the addition of fine polymer fibers.  However they have not become used widely yet due to higher initial costs."
   ]
  },
  {
   "cell_type": "markdown",
   "metadata": {
    "slideshow": {
     "slide_type": "slide"
    }
   },
   "source": [
    "## Strength"
   ]
  },
  {
   "cell_type": "markdown",
   "metadata": {},
   "source": [
    "\n",
    "<audio controls data-autoplay preload>\n",
    " <source src=\"https://github.com/damontallen/Construction-materials/raw/master/Lecture_Audio/Week_5/Concrete/Concrete-Strength.mp3\"\n",
    "         type='audio/mp3'>\n",
    " <p>Your user agent does not support the HTML5 Audio element or the files is missing.</p>\n",
    "</audio>"
   ]
  },
  {
   "cell_type": "markdown",
   "metadata": {},
   "source": [
    "<a href = \"https://en.wikipedia.org/wiki/Reinforced_concrete\"> <img src=\"https://upload.wikimedia.org/wikipedia/commons/thumb/b/b9/RebarCloseup.jpg/440px-RebarCloseup.jpg\" alt = \"Rebar in walls and foundation image\" Title=\"Concrete Reinforcement (Rebar)\"  style=\"max-width:200px; max-height:200px; border:1px solid blue; float:right; margin-left:10px;\"/></a>Concrete is not only strong but inexpensive.  This makes it a popular choice in construction.  The problem with plain concrete construction is that when elements are placed in bending or tension they will crack and fail.  The reason that concrete became so popular is the development if using [reinforcement](https://en.wikipedia.org/wiki/Reinforced_concrete) (rebar).  Rebar is typically steel and comes in a variety of sizes and grades.  These grades, like noted in the steel lecture, refer to the yield strength of the steel in units of ksi.  The ones that are typically available are 40, 60, and 70. \n",
    "\n",
    "In terms of sizes, reinforcing bars have single number designations.  These numbers are approximately equal to the bar's diameter expressed in eighths of an inch, i.e. a number 3 bar has a diameter of 3/8\".\n",
    "<table style=\"float:left; margin-right:10px;\">\n",
    "<caption>Rebar Sizes</caption>\n",
    "    <tr><th>Bar No.</th><th>Diameter (in)</th><th>Area (in$^2$)</th></tr>\n",
    "    <tr><td style=\"text-align: right;\">#2</td><td style=\"text-align: left;\">0.250 = 2/8\"</td><td style=\"text-align: left;\">0.05</td></tr>\n",
    "    <tr><td style=\"text-align: right;\">#3</td><td style=\"text-align: left;\">0.375 = 3/8\"</td><td style=\"text-align: left;\">0.11</td></tr>\n",
    "    <tr><td style=\"text-align: right;\">#4</td><td style=\"text-align: left;\">0.500 = 4/8\"</td><td style=\"text-align: left;\"> 0.2</td></tr>\n",
    "    <tr><td style=\"text-align: right;\">#5</td><td style=\"text-align: left;\">0.625 = 5/8\"</td><td style=\"text-align: left;\">0.31</td></tr>\n",
    "    <tr><td style=\"text-align: right;\">#6</td><td style=\"text-align: left;\">0.750 = 6/8\"</td><td style=\"text-align: left;\">0.44</td></tr>\n",
    "    <tr><td style=\"text-align: right;\">#7</td><td style=\"text-align: left;\">0.875 = 7/8\"</td><td style=\"text-align: left;\"> 0.6</td></tr>\n",
    "    <tr><td style=\"text-align: right;\">#8</td><td style=\"text-align: left;\">1.000 = 8/8\"</td><td style=\"text-align: left;\">0.79</td></tr>\n",
    "    <tr><td style=\"text-align: right;\">#9</td><td style=\"text-align: left;\">1.128 = 9.02/8\"</td><td style=\"text-align: left;\"> 1.0</td></tr>\n",
    "    <tr><td style=\"text-align: right;\">#10</td><td style=\"text-align: left;\">1.270 = 10.16/8\"</td><td style=\"text-align: left;\">1.27</td></tr>\n",
    "    <tr><td style=\"text-align: right;\">#11</td><td style=\"text-align: left;\">1.410 = 11.28/8\"</td><td style=\"text-align: left;\">1.56</td></tr>\n",
    "    <tr><td style=\"text-align: right;\">#14</td><td style=\"text-align: left;\">1.693 = 13.54/8\"</td><td style=\"text-align: left;\">2.25</td></tr>\n",
    "    <tr><td style=\"text-align: right;\">#18</td><td style=\"text-align: left;\">2.257 = 18.06/8\"</td><td style=\"text-align: left;\"> 4.0</td></tr>\n",
    "</table>\n",
    "\n",
    "The steel reinforcing bars allow for beams to crack and still be strong since the steel carried the tension.  Additional techniques include using steel cables to prestress the concrete.  Prestressing is where a member is placed in compression before being used in service.  If the prestressing is done carefully it the side of the member that was going to be in tension will be in compression.  Once the service loading is applied, the tension will just lessen the pre-applied compression and the member will remain in compression.  This will prevent any cracking from forming since the member never goes into tension.  The ultimate effect is that the concrete element is stiffer and stronger making it unnecessary to use as large an element as without prestressing.\n",
    "\n",
    "<a href = \"https://en.wikipedia.org/wiki/Reinforced_concrete\"> <img src=\"http://i.imgur.com/j6rodE0.jpg\" alt = \"Concrete compression stress vs strain image\" Title=\"3,000 psi Concrete Stress vs. Strain\"  style=\"max-width:300px; max-height:300px; border:1px solid blue; float:right; margin-left:10px;\"/></a>The limit to the strength of reinforced concrete is set by the load at which any portion of a member undergoes 0.003 in/in strain.  This amount of strain is defined as when concrete fails.  It is a fixed value.  This isn't even where the peak strength of concrete occurs at but rather this is where concrete is considered to have lost internal cohesion due to turning to ruble.  It leads to some complications in design but through clever analysis these have been simplified.  The design process actually becomes easier by picking a fixed level of strain.  \n",
    "\n",
    "However, the details of designing concrete are not what we are covering in this class so let's leave it at that.\n",
    "\n",
    "Additionally, the stress vs. strain diagram is only showing compression.  If the plot included tension stress you would see a small line that ends at about 1/10 the peak compression stress and that would be at $f_t$.  This value can be estimated with the modulus of rupture ($f_r$).\n",
    "\n",
    "$$f_r = 7.5 \\sqrt{f'_c}$$\n",
    "\n",
    "<a href=\"http://www.cement.org/for-concrete-books-learning/concrete-technology/concrete-construction/curing-in-construction\"><img src=\"./Supporting Notebooks/Concrete/Strength_vs_Time.svg\" alt = \"Concrete strength vs cure time image\" Title=\"Strength vs Curing\"  style=\"max-width:400px; max-height:200px; border:1px solid blue; float:right; margin-left:10px;\"/></a>Where both $f_r$ and $f'_c$ are in psi.  This is an empirical equation as apposed to a theoretical one and the units do not work out correctly since the constant 7.5 does not have the correct units shown.  There equations like this out there and you just need to remember the units or look them up.\n",
    "\n",
    "One last note, the strength of concrete will depend on how long it is kept moist while curing.  If it isn't kept moist the concrete will dry out and there won't be sufficient water for the curing reactions to complete.  If concrete is steam cured it will actually react the 28 day strength much sooner due to the continuous moisture and additional heat.  This is one of the reasons precast plants often use steam curing, to increase production. "
   ]
  },
  {
   "cell_type": "markdown",
   "metadata": {
    "slideshow": {
     "slide_type": "slide"
    }
   },
   "source": [
    "## Structural Failure Modes"
   ]
  },
  {
   "cell_type": "markdown",
   "metadata": {},
   "source": [
    "\n",
    "<audio controls data-autoplay preload>\n",
    " <source src=\"https://github.com/damontallen/Construction-materials/raw/master/Lecture_Audio/Week_5/Concrete/Concrete-Structural%20Failure%20Modes.mp3\"\n",
    "         type='audio/mp3'>\n",
    " <p>Your user agent does not support the HTML5 Audio element or the files is missing.</p>\n",
    "</audio>"
   ]
  },
  {
   "cell_type": "markdown",
   "metadata": {},
   "source": [
    "<a href = \"https://en.wikipedia.org/wiki/Seismic_retrofit#Viaducts\"> <img src=\"https://upload.wikimedia.org/wikipedia/commons/thumb/8/86/022srUSGSCyprusVia.jpg/500px-022srUSGSCyprusVia.jpg\" alt = \"Viaduct collapse image\" Title=\"Concrete Failue Due to Earthquake\"  style=\"max-width:200px; max-height:200px; border:1px solid blue; float:right; margin-left:10px;\"/></a>\n",
    "Concrete will fail if it is subjected to tension.  This occurs when concrete is placed in tension or in bending.  Reinforced concrete provides a work-around but there are old buildings that were build without proper reinforcing.  Additionally, if the reinforcing has become damaged due to corrosion, accidents, or other reasons the effect of tension is unrestrained and the member can fail. \n",
    "\n",
    "<a href = \"https://en.wikipedia.org/wiki/Rebar#Stirrups\"> <img src=\"http://i.imgur.com/E2UUjpH.png\" alt = \"Beam shear failure image\" Title=\"Concrete Shear Failue\"  style=\"max-width:200px; max-height:200px; border:1px solid blue; float:left; margin-right:10px;\"/></a>\n",
    "This is particularly bad if the member is a supporting column.  The effect of Poisson's ratio is mitigated in columns with the use of reinforcement.  This can come in the form of loops of steel rebar or even spiral coils of rebar.  The steel carries the tension as [hoop stress](https://en.wikipedia.org/wiki/Cylinder_stress) and prevents the concrete from expanding and tearing itself apart.\n",
    "\n",
    "<a href = \"https://en.wikipedia.org/wiki/Shear_stress\"> <img src=\"https://upload.wikimedia.org/wikipedia/commons/thumb/3/34/Shear_stress_simple.svg/440px-Shear_stress_simple.svg.png\" alt = \"Shear deformation image\" Title=\"Shear Deformation\"  style=\"max-width:200px; max-height:200px; border:1px solid blue; float:right; margin-left:10px;\"/></a>Tension can also develop due to shear (see [Mohr's circle](https://en.wikipedia.org/wiki/Mohr%27s_circle)) as can bee see in the image on the right.  The upper right corner is being pulled away from the lower left corner; they are in tension with respect to each other.  Additionally the upper left corner is being pushed towards the lower right corner.  The line connecting these two corners is in compression.  Without getting into it further (again this will be covered in more detail in following classes) all failure modes of concrete can be thought of due to its poor capacity in tension."
   ]
  },
  {
   "cell_type": "markdown",
   "metadata": {
    "slideshow": {
     "slide_type": "slide"
    }
   },
   "source": [
    "## Environment Induced Failure Modes"
   ]
  },
  {
   "cell_type": "markdown",
   "metadata": {},
   "source": [
    "\n",
    "<audio controls data-autoplay preload>\n",
    " <source src=\"https://github.com/damontallen/Construction-materials/raw/master/Lecture_Audio/Week_5/Concrete/Concrete-Environment%20Induced%20Failure%20Modes.mp3\"\n",
    "         type='audio/mp3'>\n",
    " <p>Your user agent does not support the HTML5 Audio element or the files is missing.</p>\n",
    "</audio>"
   ]
  },
  {
   "cell_type": "markdown",
   "metadata": {},
   "source": [
    "Concrete can be damaged by repeated exposure to extreme temperature ranges in the presents of ice and salt.  If water manages to seep into cracks in a piece of concrete and it freezes, the concrete will break apart.  For similar reasons if saltwater seeps into a crack in a piece of concrete and then evaporates the salt will crystallize, expanding, and break apart the concrete.  One other process that can lead to expansion and spalling in concrete is rusting of the reinforcing steel.  Rust has a greater volume than the original steel and as it gets bigger it will break apart the concrete exposing more reinforcement to the elements.\n",
    "\n",
    "Fire can damage concrete by reversing the chemical process of hydration essentially driving off the water.  Concrete can even erode if it exposed to fast flowing water."
   ]
  },
  {
   "cell_type": "markdown",
   "metadata": {
    "slideshow": {
     "slide_type": "slide"
    }
   },
   "source": [
    "## Chemical Weaknesses"
   ]
  },
  {
   "cell_type": "markdown",
   "metadata": {},
   "source": [
    "\n",
    "<audio controls data-autoplay preload>\n",
    " <source src=\"https://github.com/damontallen/Construction-materials/raw/master/Lecture_Audio/Week_5/Concrete/Concrete-Chemical%20Weaknesses.mp3\"\n",
    "         type='audio/mp3'>\n",
    " <p>Your user agent does not support the HTML5 Audio element or the files is missing.</p>\n",
    "</audio>"
   ]
  },
  {
   "cell_type": "markdown",
   "metadata": {},
   "source": [
    "Concrete must be protected from soluble alkalis, sulfates, and acids.  All three of these compounds can react chemically with cured concrete and weaken it.  Though alkali salts are basic (not acidic) they can react with some aggregates in concrete forming a gel that takes up more volume that the original aggregate.  Sulfates will also react with the concrete creating an internal pressure that can break apart it apart.  Acid does not cause the concrete to swell but rather it reacts with the concrete by dissolving it and releasing carbon dioxide.  If you have ever see a reaction between [vinegar and baking soda](http://lmgtfy.com/?q=vinegar+and+baking+soda+video) then you are familiar with the type of reaction."
   ]
  },
  {
   "cell_type": "markdown",
   "metadata": {
    "slideshow": {
     "slide_type": "slide"
    }
   },
   "source": [
    "## Safe Operating Temperatures"
   ]
  },
  {
   "cell_type": "markdown",
   "metadata": {},
   "source": [
    "\n",
    "<audio controls data-autoplay preload>\n",
    " <source src=\"https://github.com/damontallen/Construction-materials/raw/master/Lecture_Audio/Week_5/Concrete/Concrete-Safe%20Operating%20Temperatures.mp3\"\n",
    "         type='audio/mp3'>\n",
    " <p>Your user agent does not support the HTML5 Audio element or the files is missing.</p>\n",
    "</audio>"
   ]
  },
  {
   "cell_type": "markdown",
   "metadata": {},
   "source": [
    "Solid concrete can be used in temperature ranges up to 750$^\\circ$F without suffering too much damage.  If it is going to be used at temperatures at or above this it will need to have some protection.\n",
    "\n",
    "Concrete that is liquid has a much lower and controlled temperature range.  It should only be placed in conditions between 40-90$^\\circ$F otherwise there are adverse effects in curing."
   ]
  },
  {
   "cell_type": "markdown",
   "metadata": {
    "slideshow": {
     "slide_type": "slide"
    }
   },
   "source": [
    "## Material Tests"
   ]
  },
  {
   "cell_type": "markdown",
   "metadata": {},
   "source": [
    "\n",
    "<audio controls data-autoplay preload>\n",
    " <source src=\"https://github.com/damontallen/Construction-materials/raw/master/Lecture_Audio/Week_5/Concrete/Concrete-Material%20Tests.mp3\"\n",
    "         type='audio/mp3'>\n",
    " <p>Your user agent does not support the HTML5 Audio element or the files is missing.</p>\n",
    "</audio>"
   ]
  },
  {
   "cell_type": "markdown",
   "metadata": {},
   "source": [
    "The main material test that is relevant to concrete is the compression test.  This results in the value for $f'_c$ and is used for determining shear strength, compressive strength, and even the modulus of elasticity.  This test is typically conducted by taking a cylindrical sample and applying a compression load to it until it fails.  This test is done for every batch of concrete used in a construction project to verify the strength.  It is also done to determine the strength of a mix design before it is ever used.  It is one of the most common tests done in construction.\n",
    "\n",
    "<a href = \"https://en.wikipedia.org/wiki/Concrete_slump_test\"> <img src=\"https://upload.wikimedia.org/wikipedia/commons/thumb/d/da/Cono_de_Abrams_04.jpg/240px-Cono_de_Abrams_04.jpg\" alt = \"Slump test image\" Title=\"Slump Test\"  style=\"max-width:200px; max-height:200px; border:1px solid blue; float:right; margin-left:10px;\"/></a>There are two other test that are commonly conducted and these are done in the field.  The first is the slump test.  The purpose of this test is to determine workability of the concrete and to verify consistency of water content.  To do this test concrete is placed in the test cone in three layers, tamping each layer after it is placed.  At the end of placement the surface is smoothed and the cone is removed.  The distance that the fresh concrete sags from its initial height is know as the slump.  If the slump varies from one batch to the next this may be an indication of a change in water content which will substantially effect its strength.\n",
    "\n",
    "The other test is for air content of the concrete.  This to will have an effect on the strength of the concrete.  This requires more specialized equipment and familiarity with the [ASTM C 231](http://www.astm.org/Standards/C231.htm) standard.\n",
    "\n",
    "There exists a test to determine the tensile strength of concrete but since concrete is not supposed to be used in tension the cylinder splitting test is not particularly relevant to most construction."
   ]
  },
  {
   "cell_type": "markdown",
   "metadata": {
    "slideshow": {
     "slide_type": "slide"
    }
   },
   "source": [
    "## Quality Levels"
   ]
  },
  {
   "cell_type": "markdown",
   "metadata": {},
   "source": [
    "\n",
    "<audio controls data-autoplay preload>\n",
    " <source src=\"https://github.com/damontallen/Construction-materials/raw/master/Lecture_Audio/Week_5/Concrete/Concrete-Quality%20Levels.mp3\"\n",
    "         type='audio/mp3'>\n",
    " <p>Your user agent does not support the HTML5 Audio element or the files is missing.</p>\n",
    "</audio>"
   ]
  },
  {
   "cell_type": "markdown",
   "metadata": {},
   "source": [
    "<a href = \"https://en.wikipedia.org/wiki/Normal_distribution#Standard_deviation_and_tolerance_intervals\"> <img src=\"https://upload.wikimedia.org/wikipedia/commons/thumb/a/a9/Empirical_Rule.PNG/700px-Empirical_Rule.PNG\" alt = \"Normal distribution image\" Title=\"Normal Distribution\"  style=\"max-width:300px; max-height:300px; border:1px solid blue; float:right; margin-left:10px;\"/></a>\n",
    "Concrete is specified by its compressive strength ($f'_c$).  Normal weight concrete can range from 2,500 psi to 4,000 psi and even up to 19 ksi.  Since there is a natural variation in each mix due to variations in aggregate quality, mixing and curring conditions it is generally not specified to increments of less than 100 psi.  \n",
    "\n",
    "When ordering concrete there is something else you'll need to keep in mind.  Every batch of concrete needs to have its quality verified.  This is done by taking three samples at the time of pouring.  These samples are typically prepared in cylinders and need to be cured in either laboratory or field conditions depending on the testing purpose.  If tests are being conducted to verify structural strength then they need to be cured in conditions as close as possible to the concrete being used in the structure.  These will be typically tested at 7 days and 28 day to verify strength.  The third cylinder is held in reserve if further testing is required.  \n",
    "\n",
    "If you have a specified concrete strength that needs to be ordered from a batch plant then you are going to be curing the samples in laboratory conditions.  This sort of testing should be done prior to the start of construction.  If you are ordering a mix that has previously been produced by the batch plant then you can use their records to check if the mix strength meets the required strength.  \n",
    "\n",
    "To determine the required strength for a project you need to take use the standard deviation ($S$ or $\\sigma$ in the plot above) of the mix strength.\n",
    "\n",
    "$$S = \\left[ \\frac{\\Sigma(X_i - \\bar{X})^2}{(n-1)} \\right]^{1/2}$$\n",
    "\n",
    "<table style=\"float:right\">\n",
    "<tr><td>No. of tests</td><td>Modification Factor</td></tr>\n",
    "<tr><td>15</td><td>1.16</td></tr>\n",
    "<tr><td>20</td><td>1.08</td></tr>\n",
    "<tr><td>25</td><td>1.03</td></tr>\n",
    "<tr><td>30 or more</td><td>1.00</td></tr>\n",
    "</table>Where:\n",
    "\n",
    "* $X_i$ is individual strength test results\n",
    "* $\\bar{X}$ is average of the $n$ strength tests ($\\mu$ in the plot above)\n",
    "* $n$ is the number of consecutive strength tests (must be at least 15 to uses this method)\n",
    "\n",
    "If $n$ is less than 30 then the value of $S$ needs to be increased by 3 to 16% depending on the number of tests available.\n",
    "\n",
    "Next the required average compressive strength ($f'_{cr}$) needs to be calculated.  This is done by finding the larger value of the two following equations.\n",
    "\n",
    "$$f'_{cr} = f'_c + 1.34 S$$\n",
    "$$f'_{cr} = f'_c + 2.33 S - 500$$\n",
    "\n",
    "Where:\n",
    "\n",
    "* $f'c$ is in psi and is less then or equal to 5,000 psi\n",
    "* $S$ is the modified standard deviation\n",
    "\n",
    "If $f'c$ is greater than 5,000 psi then the second equation becomes:\n",
    "\n",
    "$$f'_{cr} = 0.90 f'_c + 2.33 S $$\n",
    "\n",
    "<a href = \"https://en.wikipedia.org/wiki/Probabilistic_design\"> <img src=\"http://i.imgur.com/8SCmmm4.jpg\" alt = \"Statistical interference of distributions image\" Title=\"Strength vs. Resistance\"  style=\"max-width:200px; max-height:200px; border:1px solid blue; float:left; margin-right:10px;\"/></a>\n",
    "If and only if the batch plant's mix is of equal or greater value than the largest value of $f'_{cr}$ then it can be used.  The purpose of this check is to provide a safety factor in ordering concrete.  If a batch of concrete is poured on site and turns out to have a strength of more then 500 psi less than the specified $f'_c$ it will need to be removed and replaced.  This can be quite costly and time consuming.  This procedure will limit the probability of a batch strength failure to less then 1 in 100.\n"
   ]
  },
  {
   "cell_type": "markdown",
   "metadata": {
    "slideshow": {
     "slide_type": "slide"
    }
   },
   "source": [
    "## Residential Applications"
   ]
  },
  {
   "cell_type": "markdown",
   "metadata": {},
   "source": [
    "\n",
    "<audio controls data-autoplay preload>\n",
    " <source src=\"https://github.com/damontallen/Construction-materials/raw/master/Lecture_Audio/Week_5/Concrete/Concrete-Residential%20Applications.mp3\"\n",
    "         type='audio/mp3'>\n",
    " <p>Your user agent does not support the HTML5 Audio element or the files is missing.</p>\n",
    "</audio>"
   ]
  },
  {
   "cell_type": "markdown",
   "metadata": {},
   "source": [
    "<a href = \"https://en.wikipedia.org/wiki/Insulating_concrete_form\"> <img src=\"https://upload.wikimedia.org/wikipedia/commons/thumb/7/71/FEMA_-_5754_-_Photograph_by_Kent_Baxter_taken_on_11-23-2001_in_Oklahoma.jpg/440px-FEMA_-_5754_-_Photograph_by_Kent_Baxter_taken_on_11-23-2001_in_Oklahoma.jpg\" alt = \"ICF wall image\" Title=\"Insulated Concrete Form\"  style=\"max-width:200px; max-height:200px; border:1px solid blue; float:right; margin-left:10px;\"/></a>Concrete is used in the residential arena mainly in foundations and floors.  However as insulated concrete forms (ICFs) become more popular it is being used more in walls as well.  Walls can also be made from concrete using concrete masonry units (concrete blocks) though these come as preformed units rather than liquid concrete.  Depending on the location of the residence it may be necessary thought to pour concrete in the open cells of these block walls for additional strength.  \n",
    "\n",
    "Concrete walkways, driveways and support pads are also very common in residential applications.  Some of these can be preformed or even decorative but the durable nature of concrete means that it alway economical long term."
   ]
  },
  {
   "cell_type": "markdown",
   "metadata": {
    "slideshow": {
     "slide_type": "slide"
    }
   },
   "source": [
    "## Commercial Applications"
   ]
  },
  {
   "cell_type": "markdown",
   "metadata": {},
   "source": [
    "\n",
    "<audio controls data-autoplay preload>\n",
    " <source src=\"https://github.com/damontallen/Construction-materials/raw/master/Lecture_Audio/Week_5/Concrete/Concrete-Commercial%20Applications.mp3\"\n",
    "         type='audio/mp3'>\n",
    " <p>Your user agent does not support the HTML5 Audio element or the files is missing.</p>\n",
    "</audio>"
   ]
  },
  {
   "cell_type": "markdown",
   "metadata": {},
   "source": [
    "<a href = \"https://commons.wikimedia.org/wiki/File:Tree_of_Life,_Disney%27s_Animal_Kingdom_trunk_detail_1.JPG\"> <img src=\"https://upload.wikimedia.org/wikipedia/commons/thumb/6/63/Tree_of_Life%2C_Disney%27s_Animal_Kingdom_trunk_detail_1.JPG/800px-Tree_of_Life%2C_Disney%27s_Animal_Kingdom_trunk_detail_1.JPG\" alt = \"Disney's tree of life image\" Title=\"Disney's Tree of Life\"  style=\"max-width:200px; max-height:200px; border:1px solid blue; float:right; margin-left:10px;\"/></a>Concrete is used in commercial buildings as foundations, slabs, floors, and roofs.  It is cheap and readily available making it ubiquitous in the commercial sector.  It is also use in decorative effect.  Being infinitely formable concrete allows architects design with curves and shapes that would be cost prohibitive with other materials.  Disney's [Tree of Life&reg;](https://disneyworld.disney.go.com/attractions/animal-kingdom/tree-of-life/) in the Animal Kingdom is made from reinforced concrete.  Due to the size and location no other material would make sense to use."
   ]
  },
  {
   "cell_type": "markdown",
   "metadata": {
    "slideshow": {
     "slide_type": "slide"
    }
   },
   "source": [
    "## Industrial Applications"
   ]
  },
  {
   "cell_type": "markdown",
   "metadata": {},
   "source": [
    "\n",
    "<audio controls data-autoplay preload>\n",
    " <source src=\"https://github.com/damontallen/Construction-materials/raw/master/Lecture_Audio/Week_5/Concrete/Concrete-Industrial%20Applications.mp3\"\n",
    "         type='audio/mp3'>\n",
    " <p>Your user agent does not support the HTML5 Audio element or the files is missing.</p>\n",
    "</audio>"
   ]
  },
  {
   "cell_type": "markdown",
   "metadata": {},
   "source": [
    "Concrete is used in the industrial setting in many ways.  Obviously foundations for any structures but also some of the structures themselves.  Large holding tanks can be made from concrete.  Piping can be concrete.  Retention facilities like settling ponds can be concrete.  Anything that needs to be durable and/or exceptionally stable and strong is likely to contain a substantial amount of concrete.  \n",
    "\n",
    "In settings like hydroelectric power plant the very facility would not be possible without the use of substantial amounts of concrete.  Large bridges would be impossible without the use of concrete foundations and often the superstructure itself."
   ]
  },
  {
   "cell_type": "markdown",
   "metadata": {
    "slideshow": {
     "slide_type": "slide"
    }
   },
   "source": [
    "## Cost Examples and Material Sources"
   ]
  },
  {
   "cell_type": "markdown",
   "metadata": {},
   "source": [
    "\n",
    "<audio controls data-autoplay preload>\n",
    " <source src=\"https://github.com/damontallen/Construction-materials/raw/master/Lecture_Audio/Week_5/Concrete/Concrete-Cost%20Examples.mp3\"\n",
    "         type='audio/mp3'>\n",
    " <p>Your user agent does not support the HTML5 Audio element or the files is missing.</p>\n",
    "</audio>"
   ]
  },
  {
   "cell_type": "markdown",
   "metadata": {},
   "source": [
    "<a href = \"https://en.wikipedia.org/wiki/Concrete_mixer\"> <img src=\"https://upload.wikimedia.org/wikipedia/commons/thumb/1/1c/Operation_of_a_truck_mixer.gif/500px-Operation_of_a_truck_mixer.gif\" alt = \"Concrete mix truck animation\" Title=\"Mix Truck Operation\"  style=\"max-width:200px; max-height:200px; border:1px solid blue; float:right; margin-left:10px;\"/></a>\n",
    "Concrete is generally sold by the cubic yard or by the bag for small amounts.  Depending on the strength and aggregate used concrete can very from \\$95 - \\$105 per cubic yard. ([source](http://www.everything-about-concrete.com/how-much-does-concrete-cost.html))  Buying concrete by the cubic yard is done when purchasing premixed or batch concrete.  This concrete is delivered from a batch plant via ready mix trucks which are basically large concrete mixers.  The fact that concrete cures instead of drying means that considerations need to be taken when planning on ordering from a batch plant since the cure time starts at the plant.  Additives like curing retarders can be included in the mix but they add cost and there is a limit to what they can do.  It is interesting to note that on days that the temperature is high concrete cures more quickly.  To limit the impact of high temperature some batch plants will add ice to the mix to reduce the temperature and slow the curing process.\n",
    "\n",
    "<a href = \"https://en.wikipedia.org/wiki/Concrete_mixer\"> <img src=\"https://upload.wikimedia.org/wikipedia/commons/thumb/e/ea/Cement_mixer2.jpg/300px-Cement_mixer2.jpg\" alt = \"Concrete mixer image\" Title=\"Concrete Mixer\"  style=\"max-width:200px; max-height:200px; border:1px solid blue; float:left; margin-right:10px;\"/></a>\n",
    "I've digressed though and need to mention that batch plant will generally have a minimum order amount and a delivery fee.  Trucks hold approximately 10$~$yd$^3$s of concrete and can be ordered to deliver over a period of time rather than all at once.  Depending on the rate of construction and size of the project this could be as little as a few minutes apart to close to an hour.\n",
    "\n",
    "If you buy concrete buy the bag you will need to mix it on site which means you will have to have access to water that is suitable for mixing.  The mixing can be don via concrete mixer or by hand if necessary.  Either way, batch plant or on site mixing you will likely need to place the concrete with additional equipment such as a pump or wheelbarrow.  This will add additional costs to the project and though the cost may be small it should be considered.  In some situations a separate pump truck will have to be used and that is not a minor expense."
   ]
  },
  {
   "cell_type": "markdown",
   "metadata": {
    "slideshow": {
     "slide_type": "slide"
    }
   },
   "source": [
    "## Examples of Installation Tools"
   ]
  },
  {
   "cell_type": "markdown",
   "metadata": {},
   "source": [
    "\n",
    "<audio controls data-autoplay preload>\n",
    " <source src=\"https://github.com/damontallen/Construction-materials/raw/master/Lecture_Audio/Week_5/Concrete/Concrete-Examples%20of%20Installation%20Tools.mp3\"\n",
    "         type='audio/mp3'>\n",
    " <p>Your user agent does not support the HTML5 Audio element or the files is missing.</p>\n",
    "</audio>"
   ]
  },
  {
   "cell_type": "markdown",
   "metadata": {},
   "source": [
    "It is possible that you might place small quantities of concrete yourself.  For typical small jobs you would need a shovel and, a wheelbarrow to move the concrete around.  You would need finishing tools like a broom, concrete trowel and/or float depending on the type of finish.  But probably most important of all you need water.  Water for mixing, cleaning, and flushing you eyes or skin if you got concrete on you.  Concrete is very caustic and you'll need to wear gloves and eye protection.  This is a substance that you are likely to trust too much.  You can work with it without electricity so safety can become a secondary thought; it shouldn't be.  If you are not careful when working with concrete you can develop a wound that can lead to blood poising and even death.  Wear your safety equipment."
   ]
  },
  {
   "cell_type": "markdown",
   "metadata": {
    "slideshow": {
     "slide_type": "slide"
    }
   },
   "source": [
    "## Famous Failures"
   ]
  },
  {
   "cell_type": "markdown",
   "metadata": {},
   "source": [
    "\n",
    "<audio controls data-autoplay preload>\n",
    " <source src=\"https://github.com/damontallen/Construction-materials/raw/master/Lecture_Audio/Week_5/Concrete/Concrete-Famous%20Failures.mp3\"\n",
    "         type='audio/mp3'>\n",
    " <p>Your user agent does not support the HTML5 Audio element or the files is missing.</p>\n",
    "</audio>"
   ]
  },
  {
   "cell_type": "markdown",
   "metadata": {},
   "source": [
    "Concrete is one of those substances that you don't hear about in the news as a cause of failure.  Typically if it is it is due to poor engineering or corroded reinforcement.  If you do hear about a concrete structure collapsing it is typically something under construction, somewhere hit by an earthquake, or the structure was impacted by a vehicle or a bomb.  Concrete is tough and since it is cheap concrete structures have a tendency to be over designed.  There is an element of safety built into concrete structures as well by the code because it is a brittle material.  This is why you are more likely to hear about a steel structure collapsing, because it is build so much closer to the material's limit."
   ]
  },
  {
   "cell_type": "markdown",
   "metadata": {
    "slideshow": {
     "slide_type": "slide"
    }
   },
   "source": [
    "#References"
   ]
  },
  {
   "cell_type": "markdown",
   "metadata": {},
   "source": [
    "[UF Class website](https://ufl.instructure.com/courses/) \n",
    "\n",
    "[Github.io version of course website](http://damontallen.github.io/Construction-materials/) *(Do not use this link if you are taking this course in Summer A or B.)*\n",
    "\n",
    "\n",
    "[IPython.org](http://ipython.org/) *(IPython is the opensource software used in the development of much of this course.)*\n",
    "\n",
    "[Complete Software List](http://nbviewer.ipython.org/github/damontallen/Construction-materials/blob/master/Resources.ipynb)\n",
    "\n",
    "##Report any problems\n",
    "\n",
    "[Issues](https://github.com/damontallen/Construction-materials/issues) Please report any problems that occurred during the viewing of this or any other lecture.\n",
    "\n",
    "Alternative Reporting - Email <a href=\"mailto:damontallen@gmail.com?Subject=Construction%20Materials%20Lecture%20Problems\" target=\"_top\">damontallen@gmail.com</a>"
   ]
  },
  {
   "cell_type": "markdown",
   "metadata": {
    "slideshow": {
     "slide_type": "skip"
    }
   },
   "source": [
    "### Additional Resources Referenced\n",
    "\n",
    "####Wikipedia\n",
    "* [Portland cement](https://en.wikipedia.org/wiki/Portland_cement)\n",
    "* [Environmental impact of concrete](https://en.wikipedia.org/wiki/Environmental_impact_of_concrete)\n",
    "* [Cement](https://en.wikipedia.org/wiki/Cement)\n",
    "* [Concrete Recycling](https://en.wikipedia.org/wiki/Concrete_recycling)\n",
    "\n",
    "#### Others\n",
    "#####Concrete\n",
    "* [Titan America - MSDS](http://www.titanamerica.com/uploads/ready_mix_va.pdf)\n",
    "* [Nature - Green cement: Concrete solutions](http://www.nature.com/news/green-cement-concrete-solutions-1.12460)\n",
    "* [CNN - Could pollution-eating concrete clean up our urban jungles?](http://www.cnn.com/2010/TECH/innovation/08/06/concrete.pollution.solution/)\n",
    "* [Clean Tchnica - Concrete With Lower-Carbon Footprint Created From Biofuel Waste](http://cleantechnica.com/2013/03/19/concrete-with-lower-carbon-footprint-created-from-biofuel-waste/)\n",
    "* [Central Concrete - High Performing, Low-CO$_2$ Concrete](http://centralconcrete.com/sustainability/low-co2-concrete/)\n",
    "* [Concrete Network - What Makes Concrete a Sustainable Building Material?](http://www.concretenetwork.com/concrete/greenbuildinginformation/what_makes.html)\n",
    "* [Strain of concrete at peak compressive stress for a wide range of compressive strengths](http://link.springer.com/article/10.1007%2FBF02473034)\n",
    "* [Structures Magazine - What if Concrete Can Be Made Ductile?](http://www.structuremag.org/?p=1251)\n",
    "\n",
    "#####Misc.\n",
    "* [BioWorld - pH of Household Bleach ](http://www.bioworldusa.com/ph/household-bleach)"
   ]
  }
 ],
 "metadata": {
  "celltoolbar": "Slideshow",
  "kernelspec": {
   "display_name": "Python 3",
   "language": "python",
   "name": "python3"
  },
  "language_info": {
   "codemirror_mode": {
    "name": "ipython",
    "version": 3
   },
   "file_extension": ".py",
   "mimetype": "text/x-python",
   "name": "python",
   "nbconvert_exporter": "python",
   "pygments_lexer": "ipython3",
   "version": "3.4.0"
  }
 },
 "nbformat": 4,
 "nbformat_minor": 0
}
