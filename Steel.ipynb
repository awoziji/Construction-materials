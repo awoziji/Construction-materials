{
 "cells": [
  {
   "cell_type": "markdown",
   "metadata": {
    "slideshow": {
     "slide_type": "slide"
    }
   },
   "source": [
    "# Steel"
   ]
  },
  {
   "cell_type": "markdown",
   "metadata": {
    "slideshow": {
     "slide_type": "-"
    }
   },
   "source": [
    "Embedded YouTube Video"
   ]
  },
  {
   "cell_type": "markdown",
   "metadata": {
    "slideshow": {
     "slide_type": "slide"
    }
   },
   "source": [
    "## Slide Show Table of Contents"
   ]
  },
  {
   "cell_type": "markdown",
   "metadata": {},
   "source": [
    "<audio controls data-autoplay preload>\n",
    " <source src=\"mp3 Path\"\n",
    "     type='audio/mp3'>\n",
    " <p>Your user agent does not support the HTML5 Audio element or the files are missing.</p>\n",
    "</audio>"
   ]
  },
  {
   "cell_type": "markdown",
   "metadata": {
    "slideshow": {
     "slide_type": "-"
    }
   },
   "source": [
    "Edit this\n",
    "\n",
    "* [Steel](#)\n",
    "    * [Sustainability](#/3)\n",
    "    * [Toxicity and the Environment](#/4)\n",
    "    * [Recycling](#/5)\n",
    "    * [Reuse](#/6)\n",
    "    * [Material Properties](#/7)\n",
    "    * [Strength](#/8)\n",
    "    * [Structural Failure Modes](#/9)\n",
    "    * [Environment Induced Failure Modes](#/10)\n",
    "    * [Chemical Weaknesses](#/11)\n",
    "    * [Safe Operating Temperatures](#/12)\n",
    "    * [Material Tests](#/13)\n",
    "    * [Quality Levels](#/14)\n",
    "    * [Residential Applications](#/15)\n",
    "    * [Commercial Applications](#/16)\n",
    "    * [Industrial Applications](#/17)\n",
    "    * [Cost Examples](#/18)\n",
    "    * [Material Sources](#/19)\n",
    "    * [Examples of Installation Tools](#/20)\n",
    "    * [Famous Failures](#/21)\n",
    "    * [References](#/22)\n"
   ]
  },
  {
   "cell_type": "markdown",
   "metadata": {
    "slideshow": {
     "slide_type": "slide"
    }
   },
   "source": [
    "##Introduction\n",
    "\n",
    "\n",
    "<audio controls data-autoplay preload>\n",
    " <source src=\"https://github.com/damontallen/Construction-materials/raw/master/Lecture_Audio/Week_1/Steel/Steel-Introduction.mp3\"\n",
    "         type='audio/mp3'>\n",
    " <p>Your user agent does not support the HTML5 Audio element or the files is missing.</p>\n",
    "</audio>\n",
    "\n",
    "<a href = \"https://www.flickr.com/photos/fsnorthernregion/5209455273\"><img src=\"https://c2.staticflickr.com/6/5286/5209455273_8d601c1c93_b.jpg\" alt = \"Steel frame image\" Title=\"Steel Skeleton\" style=\"max-width:300px; max-height:300px; border:1px solid blue; float:right; margin-left:10px;\"/></a>Steel is made up of mainly iron, carbon and other trace elements.  Carbon usually is less than 2% by weight of steel.  Rather than cover the history of steel myself I'm just providing links to a couple of videos that do a pretty good job.\n",
    "\n",
    "[History of Steel](https://www.youtube.com/watch?v=nTLcA8sNUkY&list=PL5dzbOMJw6Gc_tZGMxoeTQQLK79Qvxwbd) (This ends with a commercial for a steel manufacturer but it is still good.)\n",
    "\n",
    "[Manufacturing video](https://www.youtube.com/watch?v=9l7JqonyoKA)\n",
    "\n",
    "Steel is also a pretty advanced building material.  This [link](http://www.digitaltrends.com/photogalleries/mx3d-wants-to-3d-print-a-bridge-in-amsterdam/) is to an article about a Dutch firm that is going to 3D-print a bridge out of steel.\n",
    "\n"
   ]
  },
  {
   "cell_type": "markdown",
   "metadata": {
    "slideshow": {
     "slide_type": "slide"
    }
   },
   "source": [
    "## Sustainability"
   ]
  },
  {
   "cell_type": "markdown",
   "metadata": {},
   "source": [
    "\n",
    "<audio controls data-autoplay preload>\n",
    " <source src=\"https://github.com/damontallen/Construction-materials/raw/master/Lecture_Audio/Week_1/Steel/Steel-Sustainability.mp3\"\n",
    "         type='audio/mp3'>\n",
    " <p>Your user agent does not support the HTML5 Audio element or the files is missing.</p>\n",
    "</audio>"
   ]
  },
  {
   "cell_type": "markdown",
   "metadata": {},
   "source": [
    "\n",
    "<a href = \"https://en.wikipedia.org/wiki/I-beam\"><img src=\"https://upload.wikimedia.org/wikipedia/commons/thumb/0/09/I-BeamCrossSection.svg/440px-I-BeamCrossSection.svg.png\" alt = \"I-beam image\" Title=\"Steel I-beam Diagram\" style=\"max-width:200px; max-height:200px; border:1px solid blue; float:right; margin-left:10px;\"/></a>In order to make steel sustainability it needs to be recycled.  Fortunately steel is one of the more recycled metals on the planet.\n",
    "\n",
    ">The steel industry has been recycling steel scrap for more than 150 years, using electric arc furnaces (EAF), which accounted for about 60% of the total raw steel produced in 2012. ([source](http://minerals.usgs.gov/minerals/pubs/commodity/iron_&_steel_scrap/myb1-2012-fescr.pdf))\n",
    "\n",
    "Since recycling steel uses much less energy than refining iron ore into steel about 88% of the steel produced in the United States in 2012 was recycled.  The energy savings were equivalent to 1 years of electrical consumption by 18 million houses.  By recycling it also reduces the need for new landfill facilities.  \n",
    "\n",
    "Generally steel is one of the more sustainable building products.  In the construction industry it shows up in many forms, steel beams, joists, decking, fasterners, reinforcement, etc.  Addtionally, in some forms, it is readily deconstructible and ready to be recycled."
   ]
  },
  {
   "cell_type": "markdown",
   "metadata": {
    "slideshow": {
     "slide_type": "slide"
    }
   },
   "source": [
    "## Toxicity and the Environment"
   ]
  },
  {
   "cell_type": "markdown",
   "metadata": {},
   "source": [
    "\n",
    "<audio controls data-autoplay preload>\n",
    " <source src=\"https://github.com/damontallen/Construction-materials/raw/master/Lecture_Audio/Week_1/Steel/Steel-Toxicity%20and%20the%20Environment.mp3\"\n",
    "         type='audio/mp3'>\n",
    " <p>Your user agent does not support the HTML5 Audio element or the files is missing.</p>\n",
    "</audio>"
   ]
  },
  {
   "cell_type": "markdown",
   "metadata": {},
   "source": [
    "Steel is generally nontoxic to the environment.  It simply reverts to iron oxide which occures naturally as iron ore.  Some steel alloys contain toxic elements however these are generally very low and exposure is typically limited to workers in the manufacturing process.  Overall steel is safe material to work with in regards to toxicity and the environment.\n",
    "\n",
    "Working with steel however can involve cutting, or grinding it.  During these processes small particals of steel and its coating can become airborn.  These airborn particals do have some associated health risks.  These include allorgies which irritate the lungs, skin, and/or eyes.  There can be problems if you consume large quanities of this steel dust, this however is rare.  (source - [Material Safety Data Sheet (MSDS)](http://www.russelmetals.com/en/Locations/Documents/Material%20Safety%20Data%20Sheets/MSDS%20-%20Steel.pdf))\n",
    "\n",
    "One thing you should be made aware of is that steel in older structures may be coated with lead paint.  This was done as an initial coat of paint and lead was used for reasons of durability.  This presents a problem now days if you have to wok on an older steel structure.  Cutting with a torch will release lead vapors which are toxic and grinding the paint away will create a fine dust that is also toxic.  Special measures must be taken to prevent toxic exposure."
   ]
  },
  {
   "cell_type": "markdown",
   "metadata": {
    "slideshow": {
     "slide_type": "slide"
    }
   },
   "source": [
    "## Recycling"
   ]
  },
  {
   "cell_type": "markdown",
   "metadata": {},
   "source": [
    "\n",
    "<audio controls data-autoplay preload>\n",
    " <source src=\"https://github.com/damontallen/Construction-materials/raw/master/Lecture_Audio/Week_1/Steel/Steel-Recycling.mp3\"\n",
    "         type='audio/mp3'>\n",
    " <p>Your user agent does not support the HTML5 Audio element or the files is missing.</p>\n",
    "</audio>"
   ]
  },
  {
   "cell_type": "markdown",
   "metadata": {},
   "source": [
    "\n",
    "<a href = \"https://en.wikipedia.org/wiki/Vehicle_recycling\"><img src=\"https://upload.wikimedia.org/wikipedia/commons/thumb/c/cd/Auto_scrapyard_1.jpg/440px-Auto_scrapyard_1.jpg\" alt = \"Image of crushed cars\" Title=\"Vehicle Recycling\" style=\"max-width:300px; max-height:300px; border:1px solid blue; float:right; margin-left:10px;\"/></a>As mentioned previously steel can be recycled very easily and steel scrap is currently in high demand.  Recycled steel comes from cars, buildings, bridges, cans, appliances, any thing made from steel has the potential to be recycled.  Recycling provides an added benifit in that modern high strength steels have only become possible due to the high quality raw material.  Making high strength steel requires delicate control over the ingredients used in its manufacuring.  It has only been in the last few decadeds that the highly refined raw material used in making high strength steel has become available.\n"
   ]
  },
  {
   "cell_type": "markdown",
   "metadata": {
    "slideshow": {
     "slide_type": "slide"
    }
   },
   "source": [
    "## Reuse"
   ]
  },
  {
   "cell_type": "markdown",
   "metadata": {},
   "source": [
    "\n",
    "<audio controls data-autoplay preload>\n",
    " <source src=\"https://github.com/damontallen/Construction-materials/raw/master/Lecture_Audio/Week_1/Steel/Steel-Reuse.mp3\"\n",
    "         type='audio/mp3'>\n",
    " <p>Your user agent does not support the HTML5 Audio element or the files is missing.</p>\n",
    "</audio>"
   ]
  },
  {
   "cell_type": "markdown",
   "metadata": {},
   "source": [
    "Though reuse is even simplier than recycling there are a lot potential difficulties with reusing steel.  This is not unheard in the automotic industry but in construction it is far less common.  Firstly if you are reusing parts of steel sturctures to make a new one you may not be able to find the steel components that have been specified.  \n",
    "\n",
    "<a href = \"https://en.wikipedia.org/wiki/Fatigue_limit\"><img src=\"https://upload.wikimedia.org/wikipedia/commons/3/30/S-N_curves.PNG\" alt = \"Fatigue limit example graph\" Title=\"Graph of Fatigue Limit\" style=\"max-width:300px; max-height:300px; border:1px solid blue; float:right; margin-left:10px;\"/></a>Additionally, though I have not mentioned it before, the loading history is important in some circumstances.  There is a failure mode known as fatigue.  This is where a piece of material is loaded below the failure limit (or endurance limit) but loaded repeatedly. This repeated loading can cause the growth of micro fractures and eventually lead to failure.  This can occur with loading even lower than half the maximum as long as it is repeated enough.  However, with steel there is a lower limit of loading where it can be loaded repeatedly, forever, with no rish of failure.\n",
    "\n",
    "There also may be contamination on steel elements that needs to be removed prior to reuse.  I can go on listing potential problems with reusing steel.  This is one of the reasons it is so often recycled rather than reused.  This is not always the case with construction materal but it happend more often with strucutral components that non-structural ones."
   ]
  },
  {
   "cell_type": "markdown",
   "metadata": {
    "slideshow": {
     "slide_type": "slide"
    }
   },
   "source": [
    "## Material Properties"
   ]
  },
  {
   "cell_type": "markdown",
   "metadata": {},
   "source": [
    "\n",
    "<audio controls data-autoplay preload>\n",
    " <source src=\"https://github.com/damontallen/Construction-materials/raw/master/Lecture_Audio/Week_1/Steel/Steel-Material%20Properties.mp3\"\n",
    "         type='audio/mp3'>\n",
    " <p>Your user agent does not support the HTML5 Audio element or the files is missing.</p>\n",
    "</audio>"
   ]
  },
  {
   "cell_type": "markdown",
   "metadata": {},
   "source": [
    "\n",
    "<a href = \"https://en.wikipedia.org/wiki/Steelmaking\"><img src=\"https://upload.wikimedia.org/wikipedia/commons/thumb/5/54/SteelMill_interior.jpg/440px-SteelMill_interior.jpg\" alt = \"Image of steel manufacturing\" Title=\"Making Steel\" style=\"max-width:200px; max-height:200px; border:1px solid blue; float:right; margin-left:10px;\"/></a>Steel is a metal that is solid at room temperature.  It is mainly comprised of iron and carbon atoms (a maximum of 2.0% by weight) aranged in a series of interlocking grains formed from metallic crystals.  Steel alloys may contain other elements like tungsten, cobalt, nickel, chromium, manganese and even (more recently) aluminium.  These allows result in modifications in the strength, stiffness, density, corrosion resistance, hardness, or the attraction to magnets among others.  There have been thousands of varieties of steel developed to meet specific needs.\n",
    "\n",
    "In the construction industry we are mainly interested in the steel used in bars, beams, girders, trusses, fasteners and cables.  These are item used to resist loads in building construction.  Most sturctural steel sections are formed from large castings and are reduced in size, elongated and shaped by rolling.  The temerature at which these rollings take place have a great effect on the final properties of the element.  The structural steel that were concern ourselves with will have carbon content that is generally less than 0.30%.\n",
    "\n",
    "\n",
    "<a href = \"https://commons.wikimedia.org/wiki/File:Welding_Steel_Plate.JPG\"><img src=\"https://upload.wikimedia.org/wikipedia/commons/3/35/Welding_Steel_Plate.JPG\" alt = \"Welding image\" Title=\"Welding Steel\" style=\"max-width:200px; max-height:200px; border:1px solid blue; float:left; margin-right:10px;\"/></a>One of the reasons steel is so popular for construction is that not only can it be fastened together by bolting but two pieces can be joined in a process known as welding that effectively creates one piece.  Welding can create connections that are stronger than are possible using bolts.  It also reduces the size of the members at these connections.  Welding allows for the creations of continous pieces that would otherwise be impossible to produce.\n",
    "\n",
    "Steel is also fire resistant.  Not saying that heat cannot have an effect but in most strucutres steel does not even need to be protected against fire."
   ]
  },
  {
   "cell_type": "markdown",
   "metadata": {},
   "source": [
    "###Temperature Effects:\n",
    "\n",
    "<a href = \"https://en.wikipedia.org/wiki/Expansion_joint\"><img src=\"https://upload.wikimedia.org/wikipedia/commons/thumb/2/20/BridgeExpansionJoint.jpg/401px-BridgeExpansionJoint.jpg\" alt = \"Image of bridge expansion joint\" Title=\"Expansion Joint\" style=\"max-width:200px; max-height:200px; border:1px solid blue; float:right; margin-left:10px;\"/></a>Asside from the affect that temperature has on the material properties themselves, which I will be covering in a litle bit, temperature have an effect on its geometry.  Steel will increase or decrease in size based on the change in temperature from when the element was installed.  This change in size is generally rather small and at times can be ignored but this is not always the case.  \n",
    "\n",
    "Bridges need to account for this change in length due to temperature otherwise the bridge can tear itself appart.  This is true for not only steel but numerous other types of construction materail.  The way these changes in size are allowed for is the use of expansion joints."
   ]
  },
  {
   "cell_type": "markdown",
   "metadata": {
    "slideshow": {
     "slide_type": "slide"
    }
   },
   "source": [
    "## Strength"
   ]
  },
  {
   "cell_type": "markdown",
   "metadata": {},
   "source": [
    "\n",
    "<audio controls data-autoplay preload>\n",
    " <source src=\"https://github.com/damontallen/Construction-materials/raw/master/Lecture_Audio/Week_1/Steel/Steel-Strength.mp3\"\n",
    "         type='audio/mp3'>\n",
    " <p>Your user agent does not support the HTML5 Audio element or the files is missing.</p>\n",
    "</audio>"
   ]
  },
  {
   "cell_type": "code",
   "execution_count": 1,
   "metadata": {
    "collapsed": true,
    "slideshow": {
     "slide_type": "skip"
    }
   },
   "outputs": [],
   "source": [
    "%matplotlib inline\n",
    "%run Modulus.py"
   ]
  },
  {
   "cell_type": "markdown",
   "metadata": {},
   "source": [
    "<a href = \"https://en.wikipedia.org/wiki/Ultimate_tensile_strength\"><img src=\"https://upload.wikimedia.org/wikipedia/commons/thumb/f/f1/Stress_v_strain_A36_2.svg/580px-Stress_v_strain_A36_2.svg.png\" alt = \"Image of steel stress strain curve\" Title=\"Steel Ultimate Strength\" style=\"max-width:300px; max-height:300px; border:1px solid blue; float:right; margin-left:10px;\"/></a>\n",
    "As we have see previously the ability of steel to resist strain can depend on the amount of strain the steel has undergone.  The red curve is more representive of the behavior of an actual sample.  It is also called the \"engineering\" stress-strain relationship.  It is called that since it reflects the engineering properties of a particular sample.  \n",
    "\n",
    "OK, that isn't really clear.  Engineering stress-strain is found by taking a clynderical sample of the material (steel in this case) and first measuring the cross sectional area of the sample then applying tension to it and recording the responce.  The stress is calculated by dividing the applied tension to the original cross seectional area of the sample.  This is in contrast to the dark blue line which is the true stress-strain relationship.\n",
    "\n",
    "<a href = \"https://en.wikipedia.org/wiki/Ductility\"><img src=\"https://upload.wikimedia.org/wikipedia/commons/thumb/6/6f/Al_tensile_test.jpg/440px-Al_tensile_test.jpg\" alt = \"Image of steel sample necking\" Title=\"Steel Necking\" style=\"max-width:200px; max-height:200px; border:1px solid blue; float:left; margin-right:10px;\"/></a>Alright, that still isn't clear.  The reason there is a difference between the true and engineering stress-strain curves is due to something called necking.  As tension is applied to a ductile sample it starts to pull apart, like taffy or gum.  This causes a reduction in the diameter of the sample and a reduction of the true cross sectional area.  The \"true\" stress-strain curve has its stress calculated by dividing the tension force by the actual cross sectional area.  When the reduction in area is accounted for then the strength of steel can be seen to generally only go up with additional strain.  This is actually one process that is used to create high strength wire.  The steel is drawing through a small dye and process of reducing the cross sectional area results in a wire that has higher strength than the original steel.\n",
    "\n",
    "Back to the original stress-strain curve.  We'll look at the engineering curve since that is representive of the behavior of a finshed steel element.  We see that the yield point (#2) is slightly higher that the curve just to the right.  This means that once the yield point is reached the effective strength of the element drops and it must imediately strain much more to reach the stain hardening portion of the curve.  This is the reason that idealized curves have a straight line across in the plastic section. If a continous force is applied to the element it immetiately lengthens until it starts to strain harden.  This is what you see in the next section of the curve (#4).  The utilmate strength is reached at point #1, if the force remmains constant after that the element lenghts and fractures.  However if the force is not constant but rather it is simply a function of displacement then the element will have a reduction in carrying capacity until it reaches point #3, the fracture point.  The section of the curve where the strength is falling (#5) is where necking occurs.\n",
    "\n",
    "Below is the idealized engineering stress-strain curve for A36 steel.  The 36 in the designation refers to the $36,000 ksi$ at the yield point on the stress-strain curve.  Aditionally, since you cannot rely on any strength beyond the ultimate strength, it is often not shown on the curve."
   ]
  },
  {
   "cell_type": "code",
   "execution_count": 2,
   "metadata": {
    "collapsed": false
   },
   "outputs": [
    {
     "data": {
      "image/png": "[encoded data removed]",
      "text/plain": [
       "<matplotlib.figure.Figure at 0x7f2d6f84ea58>"
      ]
     },
     "metadata": {},
     "output_type": "display_data"
    }
   ],
   "source": [
    "modulus('ultimate')"
   ]
  },
  {
   "cell_type": "markdown",
   "metadata": {},
   "source": [
    "I haven't mentioned this prior to now but this curve is just the responce to the sample being placed in tension.  The reason this is generally what you see is that generally there are established relationships between the strength of a material in tension and other failure modes.  That way a single value like the $58 ksi$ ultimate tensions strength of A36 steel can be converted into $43.5 ksi$ ultimate shear strength.  These relationships vary from one material to the next based on the internal structure of the material but a simple conversion factor is almost always availble.\n",
    "\n",
    "There is an additional wrinkle when we look at compression, due to the possibilty of either local or global buckling, but if buckling does not occur then the statement I made about a simple conversion factor holds true.\n",
    "\n",
    "*Note that this conversion factor does not necessarily have to be the same when looking at yielding vs ultimate failure.*"
   ]
  },
  {
   "cell_type": "markdown",
   "metadata": {
    "slideshow": {
     "slide_type": "slide"
    }
   },
   "source": [
    "## Structural Failure Modes"
   ]
  },
  {
   "cell_type": "markdown",
   "metadata": {},
   "source": [
    "\n",
    "<audio controls data-autoplay preload>\n",
    " <source src=\"https://github.com/damontallen/Construction-materials/raw/master/Lecture_Audio/Week_1/Steel/Steel-Structural%20Failure%20Modes.mp3\"\n",
    "         type='audio/mp3'>\n",
    " <p>Your user agent does not support the HTML5 Audio element or the files is missing.</p>\n",
    "</audio>"
   ]
  },
  {
   "cell_type": "markdown",
   "metadata": {},
   "source": [
    "Steel will fail if it is subjected to excessive tension, shear, compression, or torsion and the loads at which failure will occur are dependent upon other considerations like the duration of the load, the temperature of the materail, electrical activity in the material, and the chemistry of the surrounding environment.  If the wrong type of steel is used in a caustic environment it will begin to disolve and thereby reduce the cross section available to resist the applied load.\n",
    "\n",
    "<a href = \"https://www.finedininglovers.com/blog/out-of-the-blue/art-liquid-nitrogen-flowers/\"><img src=\"http://finedininglovers.cdn.crosscast-system.com/BlogPost/l_2801_flowers--1-.jpg\" alt = \"Image of shattered flower\" Title=\"Shattered Flower\" style=\"max-width:200px; max-height:200px; border:1px solid blue; float:right; margin-left:10px;\"/></a>Load duration is something that may be a suprise to you though, however with a little thought experiment the reason why might become clear.  The effects of a particular load will vary based on how much time the atoms in the material have to adjust and rearrange while the load is being applied.  Since we know that atoms move more quickly when they are hotter it is like time is moving more quickly for them reletive to an applied load. Conversely when the atoms are colder then it is like time is moving slowly relative to an applied load.  Now imagine that you hit a flower laying on a table with a hammer.  You would expect it to flatten and be crushed but intact for the most part.  Now imagine that same flower being hit with a hammer after the flower was dipped in liquid nitrogen.  The flower shatters instead of crushing.  In this case the water in the cells of the flower has crystalized and so the molecules of water cannot move relative to each other.  Previously, though difficult, the water did move around in the structure of the flower in such a way as to redistribute the force of the hammer blow equally.  Once it was frozen the water did not have time to redistribute the force of the imact and it turn each crystal was required to resist the entire force of the blow.  \n",
    "\n",
    "This analogy works since at the microscopic scale steel is made up of small crystals.  In a material the is not crystaline the effect of load duration can be different and must be accounted for differently."
   ]
  },
  {
   "cell_type": "markdown",
   "metadata": {
    "slideshow": {
     "slide_type": "slide"
    }
   },
   "source": [
    "## Environment Induced Failure Modes"
   ]
  },
  {
   "cell_type": "markdown",
   "metadata": {},
   "source": [
    "\n",
    "<audio controls data-autoplay preload>\n",
    " <source src=\"https://github.com/damontallen/Construction-materials/raw/master/Lecture_Audio/Week_1/Steel/Steel-Environment%20Induced%20Failure%20Modes.mp3\"\n",
    "         type='audio/mp3'>\n",
    " <p>Your user agent does not support the HTML5 Audio element or the files is missing.</p>\n",
    "</audio>"
   ]
  },
  {
   "cell_type": "markdown",
   "metadata": {},
   "source": [
    "\n",
    "\n",
    "<a href = \"https://simple.wikipedia.org/wiki/Rust\"><img src=\"https://upload.wikimedia.org/wikipedia/commons/thumb/9/95/Rust.rost.JPG/250px-Rust.rost.JPG\" alt = \"Image of rusting train\" Title=\"Rust\" style=\"max-width:300px; max-height:300px; border:1px solid blue; float:right; margin-left:10px;\"/></a>Depending on the type of steel it can be damaged by repeated exposure to salt water, chlorine, oxygen, or anything that serves as an oxidizer.  An oxidizer is any substance that will remove electrons in a chemical reaction from the substance that is being oxidized.  This is actually really useful to know since it means that the corrosion of steel is an electrical reaction and thus can be prevented with the proper aplication of electricity.  Some bridges and buildings are protected by applying a low level current to the steel in the structure.  Instead of the steel being corroded the electrons of the chemical reaction are supplied by a power cord.  \n",
    "\n",
    "This is not often practical so other souces of electrons are sometimes used, like a block of zinc or other sacrificial anodes.  If zinc is electrically conected to steel it will corrode instead of the steel.  The electrons are supplied by the zinc to the steel thereby preventing the chemical reaction of the steel from taking place.  This will continue as long as there is enough zinc to provide the needed elctrons.  The sacrifical anodes are periodically replaced as needed to protect the structure.  \n",
    "\n",
    "Another way to prevent the corrosion of steel is to protect it from the sorce of corrosion.  This can mean painting it to seal it from the air but is can also mean just keeping it dry.  In order for for the chemical reaction to occur that causes rusting (steel corroding) there must be a medium for ions to travel in.  This medium is generally water.  So if you keep steel dry it generally won't corrode."
   ]
  },
  {
   "cell_type": "markdown",
   "metadata": {
    "slideshow": {
     "slide_type": "slide"
    }
   },
   "source": [
    "## Safe Operating Temperatures"
   ]
  },
  {
   "cell_type": "markdown",
   "metadata": {},
   "source": [
    "\n",
    "<audio controls data-autoplay preload>\n",
    " <source src=\"https://github.com/damontallen/Construction-materials/raw/master/Lecture_Audio/Week_1/Steel/Steel-Safe%20Operating%20Temperatures.mp3\"\n",
    "         type='audio/mp3'>\n",
    " <p>Your user agent does not support the HTML5 Audio element or the files is missing.</p>\n",
    "</audio>"
   ]
  },
  {
   "cell_type": "markdown",
   "metadata": {},
   "source": [
    "Around $2,700 F^{\\circ}$ iron, which makes up the majority of steel, begins to melt.  However steel will melt around  $2,000 - 2,400 F^{\\circ}$ depending on its carbon content.  It will begin to have reduced structural capacity at $1,000 - 1,300 F^{\\circ}$.  At this temperature the yield stress will only be about 60% of normal.  It is for this reason that critical elements need to be protected from exposure to fire.  These elements include beams and trusses that support floors or critical columns in tall structures.  If there is a fire in a steel highrise and the building collapses it is the weaking of the steel that will be the source of the failure not that the steel burned.  The decision to fireproof a steel element will depend on the importance of the element as defined in the building code.\n",
    "\n",
    "There is also a lower temperature limit where steel can become brittle.  For instance QT-100 (or A514) steel has a recommended lower limit of $50 ^\\circ F$ for its safe use.  Below that it becomes brittle instead of ductile and can be subject to failure without warning.  FYI A514 steel does not have a yield strength of $514 ksi$ but rather $100 ksi$.  Steel's designation generally does not indicate the yield strength of the material.  "
   ]
  },
  {
   "cell_type": "markdown",
   "metadata": {
    "slideshow": {
     "slide_type": "slide"
    }
   },
   "source": [
    "## Material Tests"
   ]
  },
  {
   "cell_type": "markdown",
   "metadata": {},
   "source": [
    "\n",
    "<audio controls data-autoplay preload>\n",
    " <source src=\"https://github.com/damontallen/Construction-materials/raw/master/Lecture_Audio/Week_1/Steel/Steel-Material%20Tests.mp3\"\n",
    "         type='audio/mp3'>\n",
    " <p>Your user agent does not support the HTML5 Audio element or the files is missing.</p>\n",
    "</audio>"
   ]
  },
  {
   "cell_type": "markdown",
   "metadata": {},
   "source": [
    "The main material test that is relevant to steel is the tension test.  A test specimen is typically 0.5 inches in diameter and machined smooth.  The ends are larger and sometimes threaded for connectnt to the test equipment.  The tests are conducted at a controlled rate of displacement and the force is measured.  This way the poitions of the test where the strength falls off can be accurately measured.  The samples typically are 2 inches long over the 0.5 inch diameter section.  The strain of the sample is calculated by,\n",
    "$$\\varepsilon = \\frac{\\Delta L}{L}=\\frac{\\Delta L}{2\"}$$\n",
    "And the internal stress is found by,\n",
    "$$\\sigma=\\frac{F}{A}=\\frac{F}{\\pi r^2}=\\frac{F}{\\pi (0.25\")^2}$$\n",
    "where $r=\\frac{\\text{diameter}}{2}$\n",
    "\n",
    "The yield stress is reported as $F_y$ and the ultimate stress is designated as $F_u$."
   ]
  },
  {
   "cell_type": "markdown",
   "metadata": {
    "slideshow": {
     "slide_type": "slide"
    }
   },
   "source": [
    "## Quality Levels"
   ]
  },
  {
   "cell_type": "markdown",
   "metadata": {},
   "source": [
    "\n",
    "<audio controls data-autoplay preload>\n",
    " <source src=\"https://github.com/damontallen/Construction-materials/raw/master/Lecture_Audio/Week_1/Steel/Steel-Quality%20Levels.mp3\"\n",
    "         type='audio/mp3'>\n",
    " <p>Your user agent does not support the HTML5 Audio element or the files is missing.</p>\n",
    "</audio>"
   ]
  },
  {
   "cell_type": "markdown",
   "metadata": {},
   "source": [
    "Steel can be found in many grades.  There is a figure in your book that contains a small sample of the most common varieties of steel used construction.  These range from A36 with a yield strength as low as $32 ksi$ to A514 with a yield strength of up to $100 ksi$ and an upper limit of ultimate strength of $130 ksi$.  When steel is specified it will be done so be the both the designation and the grade, i.e. A441 grade 46.  A441 is the ASTM (American Society for Testing and Materials) designation and the grade is the yield strength desired. \n",
    "\n",
    "Not all shapes of steel are available in all grades.  For inatance A514 is only available in the form of flate plates.  While A36 is used for the manufacture of not only plates and bars but most other structural shapes like I-beams, channels, and angles. "
   ]
  },
  {
   "cell_type": "markdown",
   "metadata": {
    "slideshow": {
     "slide_type": "slide"
    }
   },
   "source": [
    "## Residential Applications"
   ]
  },
  {
   "cell_type": "markdown",
   "metadata": {},
   "source": [
    "\n",
    "<audio controls data-autoplay preload>\n",
    " <source src=\"https://github.com/damontallen/Construction-materials/raw/master/Lecture_Audio/Week_1/Steel/Steel-Residential%20Applications.mp3\"\n",
    "         type='audio/mp3'>\n",
    " <p>Your user agent does not support the HTML5 Audio element or the files is missing.</p>\n",
    "</audio>"
   ]
  },
  {
   "cell_type": "markdown",
   "metadata": {},
   "source": [
    "Steel is used in the residential arena most often as reinforcement for concrete and fasteners.  Some residences have sheet steel used as roofing material or siding but that is generally the limit of what you see used.  There is the exception of apartment buildings which may incorporate steel studs in walls, or steel trusses in floors and or roofs.  However apartment buildings are generally thought of as more of a commercial structure."
   ]
  },
  {
   "cell_type": "markdown",
   "metadata": {
    "slideshow": {
     "slide_type": "slide"
    }
   },
   "source": [
    "## Commercial Applications"
   ]
  },
  {
   "cell_type": "markdown",
   "metadata": {},
   "source": [
    "\n",
    "<audio controls data-autoplay preload>\n",
    " <source src=\"https://github.com/damontallen/Construction-materials/raw/master/Lecture_Audio/Week_1/Steel/Steel-Commercial%20Applications.mp3\"\n",
    "         type='audio/mp3'>\n",
    " <p>Your user agent does not support the HTML5 Audio element or the files is missing.</p>\n",
    "</audio>"
   ]
  },
  {
   "cell_type": "markdown",
   "metadata": {},
   "source": [
    "Steel is used in commercial buildings as reinforcement for concrete, floor decking, roof decking, siding, and structural framing.  It may also appear in the plumbing and electrical conduit.  Generally steel can show up in any portion of a commercial structure.  It all depends on what is the most economical solution for the design requirements.  Steel is very versatile and reletively inexpensive in a lot of circumstances and this results in the frequency of its use."
   ]
  },
  {
   "cell_type": "markdown",
   "metadata": {
    "slideshow": {
     "slide_type": "slide"
    }
   },
   "source": [
    "## Industrial Applications"
   ]
  },
  {
   "cell_type": "markdown",
   "metadata": {},
   "source": [
    "\n",
    "<audio controls data-autoplay preload>\n",
    " <source src=\"https://github.com/damontallen/Construction-materials/raw/master/Lecture_Audio/Week_1/Steel/Steel-Industrial%20Applications.mp3\"\n",
    "         type='audio/mp3'>\n",
    " <p>Your user agent does not support the HTML5 Audio element or the files is missing.</p>\n",
    "</audio>"
   ]
  },
  {
   "cell_type": "markdown",
   "metadata": {},
   "source": [
    "Steel is used in the industrial setting as not only structral elements and the same applications used in commercial structures but also the machinery of the industrial applications themselves.  It is used much more frequently in piping in industrial settings than commercial ones for reasons of durability and strength."
   ]
  },
  {
   "cell_type": "markdown",
   "metadata": {
    "slideshow": {
     "slide_type": "slide"
    }
   },
   "source": [
    "## Cost Examples"
   ]
  },
  {
   "cell_type": "markdown",
   "metadata": {},
   "source": [
    "\n",
    "<audio controls data-autoplay preload>\n",
    " <source src=\"https://github.com/damontallen/Construction-materials/raw/master/Lecture_Audio/Week_1/Steel/Steel-Cost%20Examples.mp3\"\n",
    "         type='audio/mp3'>\n",
    " <p>Your user agent does not support the HTML5 Audio element or the files is missing.</p>\n",
    "</audio>"
   ]
  },
  {
   "cell_type": "markdown",
   "metadata": {},
   "source": [
    "Steel is generally sold by the piece but the prices of these pieces are strongly correlated with the weight of the pieces.  For instance if one I-beam has twice as much steel in it per unit length as another, its price will be roughly twice as much.  This is a way to do crude estimates of material pricing though it should never be used in determining an estimate for an actual bid.\n",
    "\n",
    "As an example you can purchase a 10 ft long W4x13 for \\$146.20 at [http://www.metalsdepot.com](http://www.metalsdepot.com) as of June 17, 2015 and it weights 13 lbs per foot.  This means that it costs \\$14.62 per foot or \\$1.13 per pound.  A 10 ft long W12x22 which weights 22 pounds per foot costs \\$247.50 or \\$24.75 per foot and it too is \\$1.13 per pound.  This is not alway the case depending on difficulty in manufacturing or low demand of a particular shape but it is practically just as easy to manufacture one shape as another so the main cost is simply the raw material that goes into it."
   ]
  },
  {
   "cell_type": "markdown",
   "metadata": {
    "slideshow": {
     "slide_type": "slide"
    }
   },
   "source": [
    "## Material Sources"
   ]
  },
  {
   "cell_type": "markdown",
   "metadata": {},
   "source": [
    "\n",
    "<audio controls data-autoplay preload>\n",
    " <source src=\"https://github.com/damontallen/Construction-materials/raw/master/Lecture_Audio/Week_1/Steel/Steel-Material%20Sources.mp3\"\n",
    "         type='audio/mp3'>\n",
    " <p>Your user agent does not support the HTML5 Audio element or the files is missing.</p>\n",
    "</audio>"
   ]
  },
  {
   "cell_type": "markdown",
   "metadata": {},
   "source": [
    "Depending on the quantity you can purchase steel from a retailer like Lowes or Home Depot, a supplier like a local fabrication shop, or if you have a large enough quantity you may be able to purchase directly from a steel mill like [Gerdau Long Steel of North America](http://www.gerdauameristeel.com/company/aboutga/).  Generally though the steel supplied for constructing a building will be purchased from a fabrication shop ([Boone Welding](http://www.boonewelding.com/) in Gainesville for instance)."
   ]
  },
  {
   "cell_type": "markdown",
   "metadata": {
    "slideshow": {
     "slide_type": "slide"
    }
   },
   "source": [
    "## Examples of Installation Tools"
   ]
  },
  {
   "cell_type": "markdown",
   "metadata": {},
   "source": [
    "\n",
    "<audio controls data-autoplay preload>\n",
    " <source src=\"https://github.com/damontallen/Construction-materials/raw/master/Lecture_Audio/Week_1/Steel/Steel-Examples%20of%20Installation%20Tools.mp3\"\n",
    "         type='audio/mp3'>\n",
    " <p>Your user agent does not support the HTML5 Audio element or the files is missing.</p>\n",
    "</audio>"
   ]
  },
  {
   "cell_type": "markdown",
   "metadata": {},
   "source": [
    "<a href = \"https://en.wikipedia.org/wiki/I-beam\"><img src=\"https://upload.wikimedia.org/wikipedia/commons/thumb/0/09/I-BeamCrossSection.svg/440px-I-BeamCrossSection.svg.png\" alt = \"I-beam image\" Title=\"Steel I-beam Diagram\" style=\"max-width:300px; max-height:300px; border:1px solid blue; float:right; margin-left:10px;\"/></a>Though you are unlikely to be installing any steel personally, if you did, you are likely to need wrenches for bolt up connections or a welding machine.  Depending on the size of the steel involved you may also need access to a crane.  A relatively small beam like the 10 ft long W12x22 I mentioned previously would weigh 220 lbs; at 20 ft in length it would be 440 lbs.  The physical dimensions of the be would be only 12.25\" in height (h), 4\" in width (w), less than 0.5\" in flange thickness (t), and about 0.25\" in web thickness (b).  This would seem to be fairly small and relative to a lot of beams it is.  W44x335 beams are available which stand 44\" tall (almost 4 ft) and weight 335 lbs for every foot in length.  Either way it should be clear that for a lot of usable sizes steel sections are practically impossible to move by hand.\n",
    "\n",
    "If you did use a crane you would also need a [spud wrench](https://www.google.com/search?q=%22spud+wrench%22&client=ubuntu&hs=Xsg&channel=fs&biw=1280&bih=619&source=univ&tbm=shop&tbo=u&sa=X&ei=DdyBVazPGMezggSxn4GgBQ&ved=0CB0Qsxg) or [drift pin](https://en.wikipedia.org/wiki/Drift_pin) to align holes when making bolted connections.  Additionally you would likely need a [torque wrench](https://en.wikipedia.org/wiki/Torque_wrench) to be able to properly tension the connecting bolts. "
   ]
  },
  {
   "cell_type": "markdown",
   "metadata": {
    "slideshow": {
     "slide_type": "slide"
    }
   },
   "source": [
    "## Famous Failures"
   ]
  },
  {
   "cell_type": "markdown",
   "metadata": {},
   "source": [
    "\n",
    "<audio controls data-autoplay preload>\n",
    " <source src=\"https://github.com/damontallen/Construction-materials/raw/master/Lecture_Audio/Week_1/Steel/Steel-Famous%20Failures.mp3\"\n",
    "         type='audio/mp3'>\n",
    " <p>Your user agent does not support the HTML5 Audio element or the files is missing.</p>\n",
    "</audio>"
   ]
  },
  {
   "cell_type": "markdown",
   "metadata": {},
   "source": [
    "One of the more famous instances of a failure of steel structure in recent history is the [I-35W Mississippi River Bridge](https://en.wikipedia.org/wiki/I-35W_Mississippi_River_bridge) ([video](https://www.youtube.com/watch?v=560KT65HSAY)).  The investigation into the collapse revealed that a single element's failure in the bridge started the collapse of the bridge.  Undersized [gusset plates](https://en.wikipedia.org/wiki/Gusset_plate) which had worked for 40 years finally gave out.  These plates which should have been 1 inch thick were specified to be only half of that.  The mode of failure that the gusset plates under went was a type of buckling.  Buckling strength is approximately proportional to thickness in the direction of bending to the third power, so having half the thickness meant that the gusset plate only had on eighth of the resistance to buckling."
   ]
  },
  {
   "cell_type": "markdown",
   "metadata": {
    "slideshow": {
     "slide_type": "slide"
    }
   },
   "source": [
    "##Final Notes\n",
    "\n",
    "<audio controls data-autoplay preload>\n",
    " <source src=\"https://github.com/damontallen/Construction-materials/raw/master/Lecture_Audio/Week_1/Steel/Steel-Final%20Notes.mp3\"\n",
    "         type='audio/mp3'>\n",
    " <p>Your user agent does not support the HTML5 Audio element or the files is missing.</p>\n",
    "</audio>\n",
    "\n",
    "The Construction Specifications Institute (CSI) designates metals under the [MasterFormat](http://www.constructionnotebook.com/ipin2/CSIDivisions.asp) (steel included) under division 5.  The MasterFormat is used by the construction industry as a shorthand for specifications in construction contract documents.  The section numbers of the MasterFormat correspond to the section numbers in the contract specifications.  This provides a standard numbering system and location from one set of constructions documents to the next where information will be found.  \n",
    "\n",
    "I'll be including this information with each new material that we cover."
   ]
  },
  {
   "cell_type": "markdown",
   "metadata": {
    "slideshow": {
     "slide_type": "slide"
    }
   },
   "source": [
    "#References"
   ]
  },
  {
   "cell_type": "markdown",
   "metadata": {},
   "source": [
    "[UF Class website](https://ufl.instructure.com/courses/) \n",
    "\n",
    "[Github.io version of course website](http://damontallen.github.io/Construction-materials/) *(Do not use this link if you are taking this course in Summer A or B.)*\n",
    "\n",
    "\n",
    "[IPython.org](http://ipython.org/) *(IPython is the opensource software used in the development of much of this course.)*\n",
    "\n",
    "[Complete Software List](http://nbviewer.ipython.org/github/damontallen/Construction-materials/blob/master/Resources.ipynb)\n",
    "\n",
    "##Report any problems\n",
    "\n",
    "[Issues](https://github.com/damontallen/Construction-materials/issues) Please report any problems that occured during the viewing of this or any other lecture.\n",
    "\n",
    "Alternative Reporting - Email <a href=\"mailto:damontallen@gmail.com?Subject=Construction%20Materials%20Lecture%20Problems\" target=\"_top\">damontallen@gmail.com</a>"
   ]
  }
 ],
 "metadata": {
  "celltoolbar": "Slideshow",
  "kernelspec": {
   "display_name": "Python 3",
   "language": "python",
   "name": "python3"
  },
  "language_info": {
   "codemirror_mode": {
    "name": "ipython",
    "version": 3
   },
   "file_extension": ".py",
   "mimetype": "text/x-python",
   "name": "python",
   "nbconvert_exporter": "python",
   "pygments_lexer": "ipython3",
   "version": "3.4.0"
  }
 },
 "nbformat": 4,
 "nbformat_minor": 0
}
