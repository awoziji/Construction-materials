{
 "cells": [
  {
   "cell_type": "markdown",
   "metadata": {
    "slideshow": {
     "slide_type": "slide"
    }
   },
   "source": [
    "# Steel"
   ]
  },
  {
   "cell_type": "markdown",
   "metadata": {
    "slideshow": {
     "slide_type": "-"
    }
   },
   "source": [
    "Embedded YouTube Video"
   ]
  },
  {
   "cell_type": "markdown",
   "metadata": {
    "slideshow": {
     "slide_type": "slide"
    }
   },
   "source": [
    "## Slide Show Table of Contents"
   ]
  },
  {
   "cell_type": "markdown",
   "metadata": {},
   "source": [
    "<audio controls data-autoplay preload>\n",
    " <source src=\"mp3 Path\"\n",
    "     type='audio/mp3'>\n",
    " <p>Your user agent does not support the HTML5 Audio element or the files are missing.</p>\n",
    "</audio>"
   ]
  },
  {
   "cell_type": "markdown",
   "metadata": {
    "slideshow": {
     "slide_type": "-"
    }
   },
   "source": [
    "Edit this\n",
    "\n",
    "* [Steel](#)\n",
    "    * [Sustainability](#/3)\n",
    "    * [Toxicity and the Environment](#/4)\n",
    "    * [Recycling](#/5)\n",
    "    * [Reuse](#/6)\n",
    "    * [Material Properties](#/7)\n",
    "    * [Strength](#/8)\n",
    "    * [Structural Failure Modes](#/9)\n",
    "    * [Environment Induced Failure Modes](#/10)\n",
    "    * [Chemical Weaknesses](#/11)\n",
    "    * [Safe Operating Temperatures](#/12)\n",
    "    * [Material Tests](#/13)\n",
    "    * [Quality Levels](#/14)\n",
    "    * [Residential Applications](#/15)\n",
    "    * [Commercial Applications](#/16)\n",
    "    * [Industrial Applications](#/17)\n",
    "    * [Cost Examples](#/18)\n",
    "    * [Material Sources](#/19)\n",
    "    * [Examples of Installation Tools](#/20)\n",
    "    * [Famous Failures](#/21)\n",
    "    * [References](#/22)\n"
   ]
  },
  {
   "cell_type": "markdown",
   "metadata": {
    "slideshow": {
     "slide_type": "slide"
    }
   },
   "source": [
    "##Introduction\n",
    "\n",
    "\n",
    "<audio controls data-autoplay preload>\n",
    " <source src=\"https://github.com/damontallen/Construction-materials/raw/master/Lecture_Audio/Week_1/Steel/Steel-Introduction.mp3\"\n",
    "         type='audio/mp3'>\n",
    " <p>Your user agent does not support the HTML5 Audio element or the files is missing.</p>\n",
    "</audio>\n",
    "\n",
    "<a href = \"https://www.flickr.com/photos/fsnorthernregion/5209455273\"><img src=\"https://c2.staticflickr.com/6/5286/5209455273_8d601c1c93_b.jpg\" alt = \"Steel frame image\" Title=\"Steel Skeleton\" style=\"max-width:300px; max-height:300px; border:1px solid blue; float:right; margin-left:10px;\"/></a>Steel is made up of mainly iron, carbon and other trace elements.  Carbon usually is less than 2% by weight of steel.  Rather than cover the history of steel myself I'm just providing links to a couple of videos that do a pretty good job.\n",
    "\n",
    "[History of Steel](https://www.youtube.com/watch?v=nTLcA8sNUkY&list=PL5dzbOMJw6Gc_tZGMxoeTQQLK79Qvxwbd) (This ends with a commercial for a steel manufacturer but it is still good.)\n",
    "\n",
    "[Manufacturing video](https://www.youtube.com/watch?v=9l7JqonyoKA)\n",
    "\n"
   ]
  },
  {
   "cell_type": "markdown",
   "metadata": {
    "slideshow": {
     "slide_type": "slide"
    }
   },
   "source": [
    "## Sustainability"
   ]
  },
  {
   "cell_type": "markdown",
   "metadata": {},
   "source": [
    "\n",
    "<audio controls data-autoplay preload>\n",
    " <source src=\"https://github.com/damontallen/Construction-materials/raw/master/Lecture_Audio/Week_1/Steel/Steel-Sustainability.mp3\"\n",
    "         type='audio/mp3'>\n",
    " <p>Your user agent does not support the HTML5 Audio element or the files is missing.</p>\n",
    "</audio>"
   ]
  },
  {
   "cell_type": "markdown",
   "metadata": {},
   "source": [
    "\n",
    "<a href = \"https://en.wikipedia.org/wiki/I-beam\"><img src=\"https://upload.wikimedia.org/wikipedia/commons/thumb/0/09/I-BeamCrossSection.svg/440px-I-BeamCrossSection.svg.png\" alt = \"I-beam image\" Title=\"Steel I-beam Diagram\" style=\"max-width:200px; max-height:200px; border:1px solid blue; float:right; margin-left:10px;\"/></a>\n",
    "\n",
    "In order to make steel sustainability it needs to be recycled.  Fortunately steel is one of the more recycled metals on the planet.\n",
    "\n",
    ">The steel industry has been recycling steel scrap for more than 150 years, using electric arc furnaces (EAF), which accounted for about 60% of the total raw steel produced in 2012. [source](http://minerals.usgs.gov/minerals/pubs/commodity/iron_&_steel_scrap/myb1-2012-fescr.pdf)\n",
    "\n",
    "Since recycling steel uses much less energy than refining iron ore into steel about 88% of the steel produced in the United States in 2012 was recycled.  The energy savings were equivalent to 1 years of electrical consumption by 18 million houses.  By recycling it also reduces the need for new landfill facilities.  \n",
    "\n",
    "Generally steel is one of the more sustainable building products.  In the construction industry it shows up in many forms, steel beams, joists, decking, fasterners, reinforcement, etc.  Addtionally, in some forms, it is readily deconstructible and ready to be recycled."
   ]
  },
  {
   "cell_type": "markdown",
   "metadata": {
    "slideshow": {
     "slide_type": "slide"
    }
   },
   "source": [
    "## Toxicity and the Environment"
   ]
  },
  {
   "cell_type": "markdown",
   "metadata": {},
   "source": [
    "\n",
    "<audio controls data-autoplay preload>\n",
    " <source src=\"https://github.com/damontallen/Construction-materials/raw/master/Lecture_Audio/Week_1/Steel/Steel-Toxicity%20and%20the%20Environment.mp3\"\n",
    "         type='audio/mp3'>\n",
    " <p>Your user agent does not support the HTML5 Audio element or the files is missing.</p>\n",
    "</audio>"
   ]
  },
  {
   "cell_type": "markdown",
   "metadata": {},
   "source": [
    "Steel is generally nontoxic to the environment.  It simply reverts to iron oxide which occures naturally as iron ore.  Some steel alloys contain toxic elements however these are generally very low and exposure is typically limited to workers in the manufacturing process.  Overall steel is safe material to work with in regards to toxicity and the environment.\n",
    "\n",
    "Working with steel however can involve cutting, or grinding it.  During these processes small particals of steel and its coating can become airborn.  These airborn particals do have some associated health risks.  These include allorgies which irritate the lungs, skin, and/or eyes.  There can be problems if you consume large quanities of this steel dust, this however is rare.  (Source - [Material Safety Data Sheet (MSDS)](http://www.russelmetals.com/en/Locations/Documents/Material%20Safety%20Data%20Sheets/MSDS%20-%20Steel.pdf))\n",
    "\n",
    "One thing you should be made aware of is that steel in older structures may be coated with lead paint.  This was done as an initial coat of paint and lead was used for reasons of durability.  This presents a problem now days if you have to wok on an older steel structure.  Cutting with a torch will release lead vapors which are toxic and grinding the paint away will create a fine dust that is also toxic.  Special measures must be taken to prevent toxic exposure."
   ]
  },
  {
   "cell_type": "markdown",
   "metadata": {
    "slideshow": {
     "slide_type": "slide"
    }
   },
   "source": [
    "## Recycling"
   ]
  },
  {
   "cell_type": "markdown",
   "metadata": {},
   "source": [
    "\n",
    "<audio controls data-autoplay preload>\n",
    " <source src=\"https://github.com/damontallen/Construction-materials/raw/master/Lecture_Audio/Week_1/Steel/Steel-Recycling.mp3\"\n",
    "         type='audio/mp3'>\n",
    " <p>Your user agent does not support the HTML5 Audio element or the files is missing.</p>\n",
    "</audio>"
   ]
  },
  {
   "cell_type": "markdown",
   "metadata": {},
   "source": [
    "\n",
    "<a href = \"https://en.wikipedia.org/wiki/Vehicle_recycling\"><img src=\"https://upload.wikimedia.org/wikipedia/commons/thumb/c/cd/Auto_scrapyard_1.jpg/440px-Auto_scrapyard_1.jpg\" alt = \"Image of crushed cars\" Title=\"Vehicle Recycling\" style=\"max-width:300px; max-height:300px; border:1px solid blue; float:right; margin-left:10px;\"/></a>As mentioned previously steel can be recycled very easily and steel scrap is currently in high demand.  Recycled steel comes from cars, buildings, bridges, cans, appliances, any thing made from steel has the potential to be recycled.  Recycling provides an added benifit in that modern high strength steels have only become possible due to the high quality raw material.  Making high strength steel requires delicate control over the ingredients used in its manufacuring.  It has only been in the last few decadeds that the highly refined raw material used in making high strength stel has become available.\n"
   ]
  },
  {
   "cell_type": "markdown",
   "metadata": {
    "slideshow": {
     "slide_type": "slide"
    }
   },
   "source": [
    "## Reuse"
   ]
  },
  {
   "cell_type": "markdown",
   "metadata": {},
   "source": [
    "\n",
    "<audio controls data-autoplay preload>\n",
    " <source src=\"https://github.com/damontallen/Construction-materials/raw/master/Lecture_Audio/Week_1/Steel/Steel-Reuse.mp3\"\n",
    "         type='audio/mp3'>\n",
    " <p>Your user agent does not support the HTML5 Audio element or the files is missing.</p>\n",
    "</audio>"
   ]
  },
  {
   "cell_type": "markdown",
   "metadata": {},
   "source": [
    "Though reuse is even simplier than recycling there are a lot potential difficulties with reusing steel.  This is not unheard in the automotic industry but in construction it is far less common.  Firstly if you are reusing parts of steel sturctures to make a new one you may not be able to find the steel components that have been specified.  \n",
    "\n",
    "<a href = \"https://en.wikipedia.org/wiki/Fatigue_limit\"><img src=\"https://upload.wikimedia.org/wikipedia/commons/3/30/S-N_curves.PNG\" alt = \"Fatigue limit example graph\" Title=\"Graph of Fatigue Limit\" style=\"max-width:300px; max-height:300px; border:1px solid blue; float:right; margin-left:10px;\"/></a>Additionally, though I have not mentioned it before, the loading history is important in some circumstances.  There is a failure mode known as fatigue.  This is where a piece of material is loaded below the failure limit (or endurance limit) but loaded repeatedly. This repeated loading can cause the growth of micro fractures and eventually lead to failure.  This can occur with loading even lower than half the maximum as long as it is repeated enough.  However, with steel there is a lower limit of loading where it can be loaded repeatedly, forever, with no rish of failure.\n",
    "\n",
    "There also may be contamination on steel elements that needs to be removed prior to reuse.  I can go on listing potential problems with reusing steel.  This is one of the reasons it is so often recycled rather than reused.  This is not always the case with construction materal but it happend more often with strucutral components that non-structural ones."
   ]
  },
  {
   "cell_type": "markdown",
   "metadata": {
    "slideshow": {
     "slide_type": "slide"
    }
   },
   "source": [
    "## Material Properties"
   ]
  },
  {
   "cell_type": "markdown",
   "metadata": {},
   "source": [
    "\n",
    "<audio controls data-autoplay preload>\n",
    " <source src=\"https://github.com/damontallen/Construction-materials/raw/master/Lecture_Audio/Week_1/Steel/Steel-Material%20Properties.mp3\"\n",
    "         type='audio/mp3'>\n",
    " <p>Your user agent does not support the HTML5 Audio element or the files is missing.</p>\n",
    "</audio>"
   ]
  },
  {
   "cell_type": "markdown",
   "metadata": {},
   "source": [
    "\n",
    "<a href = \"https://en.wikipedia.org/wiki/Steelmaking\"><img src=\"https://upload.wikimedia.org/wikipedia/commons/thumb/5/54/SteelMill_interior.jpg/440px-SteelMill_interior.jpg\" alt = \"Image of steel manufacturing\" Title=\"Making Steel\" style=\"max-width:200px; max-height:200px; border:1px solid blue; float:right; margin-left:10px;\"/></a>Steel is a metal that is solid at room temperature.  It is mainly comprised of iron and carbon atoms (a maximum of 2.0% by weight) aranged in a series of interlocking grains formed from metallic crystals.  Steel alloys may contain other elements like tungsten, cobalt, nickel, chromium, manganese and even (more recently) aluminium.  These allows result in modifications in the strength, stiffness, density, corrosion resistance, hardness, or the attraction to magnets among others.  There have been thousands of varieties of steel developed to meet specific needs.\n",
    "\n",
    "In the construction industry we are mainly interested in the steel used in bars, beams, girders, trusses, fasteners and cables.  These are item used to resist loads in building construction.  Most sturctural steel sections are formed from large castings and are reduced in size, elongated and shaped by rolling.  The temerature at which these rollings take place have a great effect on the final properties of the element.  The structural steel that were concern ourselves with will have carbon content that is generally less than 0.30%.\n",
    "\n",
    "\n",
    "<a href = \"https://commons.wikimedia.org/wiki/File:Welding_Steel_Plate.JPG\"><img src=\"https://upload.wikimedia.org/wikipedia/commons/3/35/Welding_Steel_Plate.JPG\" alt = \"Welding image\" Title=\"Welding Steel\" style=\"max-width:200px; max-height:200px; border:1px solid blue; float:left; margin-right:10px;\"/></a>One of the reasons steel is so popular for construction is that not only can it be fastened together by bolting but two pieces can be joined in a process known as welding that effectively creates one piece.  Welding can create connections that are stronger than are possible using bolts.  It also reduces the size of the members at these connections.  Welding allows for the creations of continous pieces that would otherwise be impossible to produce.\n",
    "\n",
    "Steel is also fire resistant.  Not saying that heat cannot have an effect but in most strucutres steel does not even need to be protected against fire."
   ]
  },
  {
   "cell_type": "markdown",
   "metadata": {},
   "source": [
    "###Temperature Effects:\n",
    "Around $2,700 F^{\\circ}$ iron, which makes up the majority of steel, begins to melt.  However steel will melt around  $2,000 - 2,400 F^{\\circ}$ depending on its carbon content.  It will begin to have reduced structural capacity at $1,000 - 1,300 F^{\\circ}$.  At this temperature the yield stress will only be about 60% of normal.  It is for this reason that critical elements need to be protected from exposure to fire.  These elements include beams and trusses that support floors or critical columns in tall structures.  If there is a fire in a steel highrise and the building collapses it is the weaking of the steel that will be the source of the failure not that the steel burned.  The decision to fireproof a steel element will depend on the importance of the element as defined in the building code.\n"
   ]
  },
  {
   "cell_type": "markdown",
   "metadata": {
    "slideshow": {
     "slide_type": "slide"
    }
   },
   "source": [
    "## Strength"
   ]
  },
  {
   "cell_type": "markdown",
   "metadata": {},
   "source": [
    "\n",
    "<audio controls data-autoplay preload>\n",
    " <source src=\"https://github.com/damontallen/Construction-materials/raw/master/Lecture_Audio/Week_1/Steel/Steel-Strength.mp3\"\n",
    "         type='audio/mp3'>\n",
    " <p>Your user agent does not support the HTML5 Audio element or the files is missing.</p>\n",
    "</audio>"
   ]
  },
  {
   "cell_type": "code",
   "execution_count": 1,
   "metadata": {
    "collapsed": true,
    "slideshow": {
     "slide_type": "skip"
    }
   },
   "outputs": [],
   "source": [
    "%matplotlib inline\n",
    "%run Modulus.py"
   ]
  },
  {
   "cell_type": "markdown",
   "metadata": {},
   "source": [
    "\n",
    "<a href = \"https://en.wikipedia.org/wiki/Ultimate_tensile_strength\"><img src=\"https://upload.wikimedia.org/wikipedia/commons/thumb/f/f1/Stress_v_strain_A36_2.svg/580px-Stress_v_strain_A36_2.svg.png\" alt = \"Image of steel stress strain curve\" Title=\"Steel Ultimate Strength\" style=\"max-width:300px; max-height:300px; border:1px solid blue; float:right; margin-left:10px;\"/></a>\n",
    "As we have see previously the ability of steel to resist strain can depend on the amount of strain the steel has undergone.  The red curve is more representive of the behavior of an actual sample.  It is also called the \"engineering\" stress-strain relationship.  It is called that since it reflects the engineering properties of a particular sample.  \n",
    "\n",
    "OK, that isn't really clear.  Engineering stress-strain is found by taking a clynderical sample of the material (steel in this case) and first measuring the cross sectional area of the sample then applying tension to it and recording the responce.  The stress is calculated by dividing the applied tension to the original cross seectional area of the sample.  This is in contrast to the dark blue line which is the true stress-strain relationship.\n",
    "\n",
    "<a href = \"https://en.wikipedia.org/wiki/Ductility\"><img src=\"https://upload.wikimedia.org/wikipedia/commons/thumb/6/6f/Al_tensile_test.jpg/440px-Al_tensile_test.jpg\" alt = \"Image of steel sample necking\" Title=\"Steel Necking\" style=\"max-width:200px; max-height:200px; border:1px solid blue; float:left; margin-right:10px;\"/></a>Alright, that still isn't clear.  The reason there is a difference between the true and engineering stress-strain curves is due to something called necking.  As tension is applied to a ductile sample it starts to pull apart, like taffy or gum.  This causes a reduction in the diameter of the sample and a reduction of the true cross sectional area.  The \"true\" stress-strain curve has its stress calculated by dividing the tension force by the actual cross sectional area.  When the reduction in area is accounted for then the strength of steel can be seen to generally only go up with additional strain.  This is actually one process that is used to create high strength wire.  The steel is drawing through a small dye and process of reducing the cross sectional area results in a wire that has higher strength than the original steel.\n",
    "\n",
    "Back to the original stress-strain curve.  We'll look at the engineering curve since that is representive of the behavior of a finshed steel element.  We see that the yield point (#2) is slightly higher that the curve just to the right.  This means that once the yield point is reached the effective strength of the element drops and it must imediately strain much more to reach the stain hardening portion of the curve.  This is the reason that idealized curves have a straight line across in the plastic section. If a continous force is applied to the element it immetiately lengthens until it starts to strain harden.  This is what you see in the next section of the curve (#4).  The utilmate strength is reached at point #1, if the force remmains constant after that the element lenghts and fractures.  However if the force is not constant but rather it is simply a function of displacement then the element will have a reduction in carrying capacity until it reaches point #3, the fracture point.  The section of the curve where the strength is falling (#5) is where necking occurs.\n",
    "\n",
    "Below is the idealized engineering stress-strain curve for A36 steel.  The 36 in the designation refers to the $36,000 ksi$ at the yield point on the stress-strain curve.  Aditionally, since you cannot rely on any strength beyond the ultimate strength, it is often not shown on the curve.\n",
    "\n",
    "* just tension\n",
    "* shear strength\n",
    "* compression..."
   ]
  },
  {
   "cell_type": "code",
   "execution_count": 2,
   "metadata": {
    "collapsed": false
   },
   "outputs": [
    {
     "data": {
      "image/png": "[encoded data removed]",
      "text/plain": [
       "<matplotlib.figure.Figure at 0x7f2d6f84ea58>"
      ]
     },
     "metadata": {},
     "output_type": "display_data"
    }
   ],
   "source": [
    "modulus('ultimate')"
   ]
  },
  {
   "cell_type": "markdown",
   "metadata": {
    "slideshow": {
     "slide_type": "slide"
    }
   },
   "source": [
    "## Structural Failure Modes"
   ]
  },
  {
   "cell_type": "markdown",
   "metadata": {},
   "source": [
    "\n",
    "<audio controls data-autoplay preload>\n",
    " <source src=\"https://github.com/damontallen/Construction-materials/raw/master/Lecture_Audio/Week_1/Steel/Steel-Structural%20Failure%20Modes.mp3\"\n",
    "         type='audio/mp3'>\n",
    " <p>Your user agent does not support the HTML5 Audio element or the files is missing.</p>\n",
    "</audio>"
   ]
  },
  {
   "cell_type": "markdown",
   "metadata": {},
   "source": [
    "____ will fail if it is subjected to "
   ]
  },
  {
   "cell_type": "markdown",
   "metadata": {
    "slideshow": {
     "slide_type": "slide"
    }
   },
   "source": [
    "## Environment Induced Failure Modes"
   ]
  },
  {
   "cell_type": "markdown",
   "metadata": {},
   "source": [
    "\n",
    "<audio controls data-autoplay preload>\n",
    " <source src=\"https://github.com/damontallen/Construction-materials/raw/master/Lecture_Audio/Week_1/Steel/Steel-Environment%20Induced%20Failure%20Modes.mp3\"\n",
    "         type='audio/mp3'>\n",
    " <p>Your user agent does not support the HTML5 Audio element or the files is missing.</p>\n",
    "</audio>"
   ]
  },
  {
   "cell_type": "markdown",
   "metadata": {},
   "source": [
    "____ can be damaged by repeated exposure to "
   ]
  },
  {
   "cell_type": "markdown",
   "metadata": {
    "slideshow": {
     "slide_type": "slide"
    }
   },
   "source": [
    "## Chemical Weaknesses"
   ]
  },
  {
   "cell_type": "markdown",
   "metadata": {},
   "source": [
    "\n",
    "<audio controls data-autoplay preload>\n",
    " <source src=\"https://github.com/damontallen/Construction-materials/raw/master/Lecture_Audio/Week_1/Steel/Steel-Chemical%20Weaknesses.mp3\"\n",
    "         type='audio/mp3'>\n",
    " <p>Your user agent does not support the HTML5 Audio element or the files is missing.</p>\n",
    "</audio>"
   ]
  },
  {
   "cell_type": "markdown",
   "metadata": {},
   "source": [
    "X is one of the compounds that you must avoide having ____  exposed to.  It "
   ]
  },
  {
   "cell_type": "markdown",
   "metadata": {
    "slideshow": {
     "slide_type": "slide"
    }
   },
   "source": [
    "## Safe Operating Temperatures"
   ]
  },
  {
   "cell_type": "markdown",
   "metadata": {},
   "source": [
    "\n",
    "<audio controls data-autoplay preload>\n",
    " <source src=\"https://github.com/damontallen/Construction-materials/raw/master/Lecture_Audio/Week_1/Steel/Steel-Safe%20Operating%20Temperatures.mp3\"\n",
    "         type='audio/mp3'>\n",
    " <p>Your user agent does not support the HTML5 Audio element or the files is missing.</p>\n",
    "</audio>"
   ]
  },
  {
   "cell_type": "markdown",
   "metadata": {},
   "source": [
    "____ should only be used in the following temperature ranges."
   ]
  },
  {
   "cell_type": "markdown",
   "metadata": {
    "slideshow": {
     "slide_type": "slide"
    }
   },
   "source": [
    "## Material Tests"
   ]
  },
  {
   "cell_type": "markdown",
   "metadata": {},
   "source": [
    "\n",
    "<audio controls data-autoplay preload>\n",
    " <source src=\"https://github.com/damontallen/Construction-materials/raw/master/Lecture_Audio/Week_1/Steel/Steel-Material%20Tests.mp3\"\n",
    "         type='audio/mp3'>\n",
    " <p>Your user agent does not support the HTML5 Audio element or the files is missing.</p>\n",
    "</audio>"
   ]
  },
  {
   "cell_type": "markdown",
   "metadata": {},
   "source": [
    "The main material tests that are relevant to ____ are "
   ]
  },
  {
   "cell_type": "markdown",
   "metadata": {
    "slideshow": {
     "slide_type": "slide"
    }
   },
   "source": [
    "## Quality Levels"
   ]
  },
  {
   "cell_type": "markdown",
   "metadata": {},
   "source": [
    "\n",
    "<audio controls data-autoplay preload>\n",
    " <source src=\"https://github.com/damontallen/Construction-materials/raw/master/Lecture_Audio/Week_1/Steel/Steel-Quality%20Levels.mp3\"\n",
    "         type='audio/mp3'>\n",
    " <p>Your user agent does not support the HTML5 Audio element or the files is missing.</p>\n",
    "</audio>"
   ]
  },
  {
   "cell_type": "markdown",
   "metadata": {},
   "source": [
    "____ can be found in the following grades."
   ]
  },
  {
   "cell_type": "markdown",
   "metadata": {
    "slideshow": {
     "slide_type": "slide"
    }
   },
   "source": [
    "## Residential Applications"
   ]
  },
  {
   "cell_type": "markdown",
   "metadata": {},
   "source": [
    "\n",
    "<audio controls data-autoplay preload>\n",
    " <source src=\"https://github.com/damontallen/Construction-materials/raw/master/Lecture_Audio/Week_1/Steel/Steel-Residential%20Applications.mp3\"\n",
    "         type='audio/mp3'>\n",
    " <p>Your user agent does not support the HTML5 Audio element or the files is missing.</p>\n",
    "</audio>"
   ]
  },
  {
   "cell_type": "markdown",
   "metadata": {},
   "source": [
    "____ is used in residential arena as "
   ]
  },
  {
   "cell_type": "markdown",
   "metadata": {
    "slideshow": {
     "slide_type": "slide"
    }
   },
   "source": [
    "## Commercial Applications"
   ]
  },
  {
   "cell_type": "markdown",
   "metadata": {},
   "source": [
    "\n",
    "<audio controls data-autoplay preload>\n",
    " <source src=\"https://github.com/damontallen/Construction-materials/raw/master/Lecture_Audio/Week_1/Steel/Steel-Commercial%20Applications.mp3\"\n",
    "         type='audio/mp3'>\n",
    " <p>Your user agent does not support the HTML5 Audio element or the files is missing.</p>\n",
    "</audio>"
   ]
  },
  {
   "cell_type": "markdown",
   "metadata": {},
   "source": [
    "____ is used in commercial buildings as "
   ]
  },
  {
   "cell_type": "markdown",
   "metadata": {
    "slideshow": {
     "slide_type": "slide"
    }
   },
   "source": [
    "## Industrial Applications"
   ]
  },
  {
   "cell_type": "markdown",
   "metadata": {},
   "source": [
    "\n",
    "<audio controls data-autoplay preload>\n",
    " <source src=\"https://github.com/damontallen/Construction-materials/raw/master/Lecture_Audio/Week_1/Steel/Steel-Industrial%20Applications.mp3\"\n",
    "         type='audio/mp3'>\n",
    " <p>Your user agent does not support the HTML5 Audio element or the files is missing.</p>\n",
    "</audio>"
   ]
  },
  {
   "cell_type": "markdown",
   "metadata": {},
   "source": [
    "____ is used in the industrial setting as "
   ]
  },
  {
   "cell_type": "markdown",
   "metadata": {
    "slideshow": {
     "slide_type": "slide"
    }
   },
   "source": [
    "## Cost Examples"
   ]
  },
  {
   "cell_type": "markdown",
   "metadata": {},
   "source": [
    "\n",
    "<audio controls data-autoplay preload>\n",
    " <source src=\"https://github.com/damontallen/Construction-materials/raw/master/Lecture_Audio/Week_1/Steel/Steel-Cost%20Examples.mp3\"\n",
    "         type='audio/mp3'>\n",
    " <p>Your user agent does not support the HTML5 Audio element or the files is missing.</p>\n",
    "</audio>"
   ]
  },
  {
   "cell_type": "markdown",
   "metadata": {},
   "source": [
    "____ is generally sold as (by the)"
   ]
  },
  {
   "cell_type": "markdown",
   "metadata": {
    "slideshow": {
     "slide_type": "slide"
    }
   },
   "source": [
    "## Material Sources"
   ]
  },
  {
   "cell_type": "markdown",
   "metadata": {},
   "source": [
    "\n",
    "<audio controls data-autoplay preload>\n",
    " <source src=\"https://github.com/damontallen/Construction-materials/raw/master/Lecture_Audio/Week_1/Steel/Steel-Material%20Sources.mp3\"\n",
    "         type='audio/mp3'>\n",
    " <p>Your user agent does not support the HTML5 Audio element or the files is missing.</p>\n",
    "</audio>"
   ]
  },
  {
   "cell_type": "markdown",
   "metadata": {},
   "source": [
    "Depending on the quanity you can purchase ____ from "
   ]
  },
  {
   "cell_type": "markdown",
   "metadata": {
    "slideshow": {
     "slide_type": "slide"
    }
   },
   "source": [
    "## Examples of Installation Tools"
   ]
  },
  {
   "cell_type": "markdown",
   "metadata": {},
   "source": [
    "\n",
    "<audio controls data-autoplay preload>\n",
    " <source src=\"https://github.com/damontallen/Construction-materials/raw/master/Lecture_Audio/Week_1/Steel/Steel-Examples%20of%20Installation%20Tools.mp3\"\n",
    "         type='audio/mp3'>\n",
    " <p>Your user agent does not support the HTML5 Audio element or the files is missing.</p>\n",
    "</audio>"
   ]
  },
  {
   "cell_type": "markdown",
   "metadata": {},
   "source": [
    "Though you are unlikely to be installing any ____ personally, if you did, you are likely to need "
   ]
  },
  {
   "cell_type": "markdown",
   "metadata": {
    "slideshow": {
     "slide_type": "slide"
    }
   },
   "source": [
    "## Famous Failures"
   ]
  },
  {
   "cell_type": "markdown",
   "metadata": {},
   "source": [
    "\n",
    "<audio controls data-autoplay preload>\n",
    " <source src=\"https://github.com/damontallen/Construction-materials/raw/master/Lecture_Audio/Week_1/Steel/Steel-Famous%20Failures.mp3\"\n",
    "         type='audio/mp3'>\n",
    " <p>Your user agent does not support the HTML5 Audio element or the files is missing.</p>\n",
    "</audio>"
   ]
  },
  {
   "cell_type": "markdown",
   "metadata": {},
   "source": [
    "One of the more famous instances of a failure of ____"
   ]
  },
  {
   "cell_type": "markdown",
   "metadata": {
    "slideshow": {
     "slide_type": "slide"
    }
   },
   "source": [
    "#References"
   ]
  },
  {
   "cell_type": "markdown",
   "metadata": {},
   "source": [
    "[UF Class website](https://ufl.instructure.com/courses/) \n",
    "\n",
    "[Github.io version of course website](http://damontallen.github.io/Construction-materials/) *(Do not use this link if you are taking this course in Summer A or B.)*\n",
    "\n",
    "\n",
    "[IPython.org](http://ipython.org/) *(IPython is the opensource software used in the development of much of this course.)*\n",
    "\n",
    "[Complete Software List](http://nbviewer.ipython.org/github/damontallen/Construction-materials/blob/master/Resources.ipynb)\n",
    "\n",
    "##Report any problems\n",
    "\n",
    "[Issues](https://github.com/damontallen/Construction-materials/issues) Please report any problems that occured during the viewing of this or any other lecture.\n",
    "\n",
    "Alternative Reporting - Email <a href=\"mailto:damontallen@gmail.com?Subject=Construction%20Materials%20Lecture%20Problems\" target=\"_top\">damontallen@gmail.com</a>"
   ]
  }
 ],
 "metadata": {
  "celltoolbar": "Slideshow",
  "kernelspec": {
   "display_name": "Python 3",
   "language": "python",
   "name": "python3"
  },
  "language_info": {
   "codemirror_mode": {
    "name": "ipython",
    "version": 3
   },
   "file_extension": ".py",
   "mimetype": "text/x-python",
   "name": "python",
   "nbconvert_exporter": "python",
   "pygments_lexer": "ipython3",
   "version": "3.4.0"
  }
 },
 "nbformat": 4,
 "nbformat_minor": 0
}
