{
 "cells": [
  {
   "cell_type": "markdown",
   "metadata": {
    "slideshow": {
     "slide_type": "slide"
    }
   },
   "source": [
    "# Greetings"
   ]
  },
  {
   "cell_type": "markdown",
   "metadata": {
    "slideshow": {
     "slide_type": "-"
    }
   },
   "source": [
    "<strong style=\"color:red\">Replace video link</strong>\n",
    "\n",
    "<iframe width=\"420\" height=\"315\" src=\"//www.youtube.com/embed/ihjLlMMP6tQ\" frameborder=\"0\" allowfullscreen style=\" float:left; margin-right:15px;\"></iframe>\n",
    "\n",
    "Trouble Shooting Tips:\n",
    "\n",
    "* View lectures using [Chrome](http://www.google.com/chrome/)\n",
    "* Disable any installed flash blocker during the lectures\n",
    "* After following the instructions in the video:\n",
    "     * a) Press the spacebar to advance to the next slide\n",
    "     * b) Or click on the dark blue down arrow at the bottom left  <img src=\"http://i.imgur.com/ydq7pq4.jpg\" title=\"Down Arrow\" alt = \"Error - missing down arrow\" height = \"5%\" width = \"5%\"/> \n",
    "\n",
    "\n",
    "If all else fails try the [UF Computing Help Desk](http://helpdesk.ufl.edu/).\n",
    "\n",
    "*(Note: you made need to tell them that you are using a \"reveal.js\" presentation)*"
   ]
  },
  {
   "cell_type": "markdown",
   "metadata": {
    "slideshow": {
     "slide_type": "subslide"
    }
   },
   "source": [
    "## You Made It!"
   ]
  },
  {
   "cell_type": "markdown",
   "metadata": {},
   "source": [
    "Edit Slide Audio\n",
    "<audio controls preload>\n",
    " <source src=\"https://github.com/damontallen/Construction-materials/raw/master/Lecture_Audio/Week_0/Greetings/Greetings-Slide_Title.mp3\"\n",
    "         type='audio/mp3'>\n",
    " <p>Your user agent does not support the HTML5 Audio element or the files is missing.</p>\n",
    "</audio>"
   ]
  },
  {
   "cell_type": "markdown",
   "metadata": {},
   "source": [
    "<a href = \"http://upload.wikimedia.org/wikipedia/commons/0/04/So_happy_smiling_cat.jpg\"><img src=\"http://upload.wikimedia.org/wikipedia/commons/0/04/So_happy_smiling_cat.jpg\" alt = \"Hover Image Test Picture\"style=\"max-width:75px; max-height:75px; border:1px solid blue; float:right; margin-left:10px;\"/></a>\n",
    "\n",
    "Great!  This is the only manually play audio control that you'll see in this class.  In the upper right corner of the screen you should see a small image of a cat.  That is because this is an on-line slide show and everyone knows the internet is made of cats.\n",
    "\n",
    "Actually that is a demonstration image for testing the browser add-ons I've listed below.  \n",
    "\n",
    "###Browser Add-ons\n",
    "\n",
    "If you use Firefox or Chrome then installing one of the following extensions will make viewing images in lectures easier.\n",
    "\n",
    "* Firefox - [Thumbnail Zoom Plus](https://addons.mozilla.org/en-US/firefox/addon/thumbnail-zoom-plus/?src=search) *(Not all bordered images will have a zoomed version with this extension, but most will.)*\n",
    "* Chrome - [Imagus](https://chrome.google.com/webstore/detail/imagus/immpkjjlgappgfkkfieppnmlhakdmaab?hl=en-US) *(This works better than the Firefox extension.)*\n",
    "\n",
    "Once you install one of those add-ons you should be able to hover your mouse over the cat and see a much larger view.  This is useful in conserving screen space and I will use this technique to provide detailed images that are too big to fit on the screen along side of text descriptions.  Go ahead and install the addon once I have finished talking and then come back to this slide to test it out.\n",
    "\n",
    "In addition to that useful feature you should notice that there is a scroll bar on the right side of the screen.  This is the second major difference that between other slide shows this style.  That scroll bar will appear if the content of the slide is too big to fit on your screen.  In this case I have included the text of what I'm saying to fill up the screen.  I will try to avoid having content that goes past the bottom of the screen but sometimes it will be unavoidable and in those cases it is useful for you to be able to scroll down to get the full picture.  \n",
    "\n",
    "###Useful Tip:\n",
    "\n",
    "I recommend viewing these lectures in a Chrome browser.  It has had the best ratings passing the [HTML5 Test](http://html5test.com/) (526 out of 555 points) and as such it has been the most compatible and reliable in the past for displaying web content correctly.  I've listed some other popular browser scores below.\n",
    "\n",
    "* Chromium - 523 as of release version 41.0 \n",
    "* Firefox - 466 as of release version 38.0.\n",
    "* Internet Explorer - 336 as of releas version 11.0\n",
    "\n",
    "*More scores are availble from the list's [source](https://html5test.com/results/desktop.html).*\n",
    "\n",
    "Either press pause or wait until the audio is done playing before continuing on.\n",
    "\n",
    "*(Press the blue arrow to the right at the bottom right of the screen to move on the the Additional Slide Show Information.)*"
   ]
  },
  {
   "cell_type": "markdown",
   "metadata": {
    "slideshow": {
     "slide_type": "slide"
    }
   },
   "source": [
    "## Additional Slide Show Information"
   ]
  },
  {
   "cell_type": "markdown",
   "metadata": {},
   "source": [
    "Edit Slide Audio\n",
    "<audio controls data-autoplay preload>\n",
    " <source src=\"https://github.com/damontallen/Construction-materials/raw/master/Lecture_Audio/Week_0/Greetings/Greetings-Slide_Title.mp3\"\n",
    "         type='audio/mp3'>\n",
    " <p>Your user agent does not support the HTML5 Audio element or the files is missing.</p>\n",
    "</audio>"
   ]
  },
  {
   "cell_type": "markdown",
   "metadata": {},
   "source": [
    "<a href = \"http://en.wikipedia.org/wiki/Advice_%28opinion%29\"><img src=\"http://upload.wikimedia.org/wikipedia/commons/thumb/b/bf/Le_bon_conseil.jpg/500px-Le_bon_conseil.jpg\" alt = \"The good advice - image\" title=\"Good Advice\" style=\"max-width:300px; max-height:300px; border:1px solid blue; float:right; margin-left:10px;\"/></a>\n",
    "\n",
    "\n",
    "I have a few more tips about the lectures that you should find useful while taking this couse.  \n",
    "\n",
    "1. Firstly, each slide in the slide shows has a unique web address.  As such you can bookmark / favorite a particular slide to be avle to come right back to it.  \n",
    "    * On a side note, each heading or title has an associated link with it which you can save, copy, or share to goto a particular point on a page.  I actually try to limit the heading on each slide to one but sommetimes there may be something I am trying to call attention to which will have it's own heading. \n",
    "2. Secondly, All the text in the slide shows is selectable.  This is particularly useful if you happen to want to copy part of an equation.  \n",
    "3. The third tip you may have already noticed; the audio will auto play whenever you goto a new slide.  Aside from the first slide which usually contains a video and the previous slide in this presentation, as soon as a slide appears you should hear me talking.  In addition to this once you leave a slide that automatically started talking it will automatically stop.  It will also pickup right where it left off if you come back to it as long as you are not re-opening the lecture.\n",
    "4. You will not be able to directly view these lectures in Canvas (UF's course management system).  Once you click a link to a lecture it will open up a page and diplay \n",
    "    * \"You are trying to launch insecure content from within a secure site (canvas). Some web browsers may prevent this content from loading.\"  \n",
    "    In order to view the lecture you need to click on the lecture title just below that message and it should open up a new tab to view it.\n",
    "5. These slide shows can be viewed as a single long web page.  These web pages can be found at the [main github site](https://github.com/damontallen/Construction-materials#construction-materials) for this course.  I don't recommend viewing them like this initially since the audio does not automatically play when viewed as a single page and sometimes I will say things that do not appear in writing."
   ]
  },
  {
   "cell_type": "markdown",
   "metadata": {
    "slideshow": {
     "slide_type": "slide"
    }
   },
   "source": [
    "## Course Description"
   ]
  },
  {
   "cell_type": "markdown",
   "metadata": {},
   "source": [
    "Edit Slide Audio\n",
    "<audio controls data-autoplay preload>\n",
    " <source src=\"https://github.com/damontallen/Construction-materials/raw/master/Lecture_Audio/Week_0/Greetings/Greetings-Slide_Title.mp3\"\n",
    "         type='audio/mp3'>\n",
    " <p>Your user agent does not support the HTML5 Audio element or the files is missing.</p>\n",
    "</audio>"
   ]
  },
  {
   "cell_type": "markdown",
   "metadata": {},
   "source": [
    "During this course I am going to cover the following construction materials topics.\n",
    "\n",
    "<table>\n",
    "<tr>\n",
    "    <td >\n",
    "        <ul>\n",
    "            <li>Sustainability <a href=\"http://www.usgbc.org/leed\"><img src=\"http://upload.wikimedia.org/wikipedia/commons/6/6a/LEED_platinum_grey.jpg\" alt=\"LEED icon\" title=\"U.S. Green Building Council\" style=\"max-width:20px; max-height:20px; border:1px solid blue; float:right; margin-left:10px;\"/></a></li>\n",
    "            <li>Steel <a href=\"http://pixabay.com/static/uploads/photo/2014/08/09/11/34/architecture-414035_640.jpg?attachment/\"><img src=\"http://t0.gstatic.com/images?q=tbn:ANd9GcR41eNnvFfIBPY8GB4HLOr3Z59szHTx7hzbmoMwL1y7ZR2zl_HL6g\" alt=\"Steel building image\" title=\"Steel Building\" style=\"max-width:20px; max-height:20px; border:1px solid blue; float:right; margin-left:10px;\"/></a></li>\n",
    "            <li>Aluminum <a href=\"http://en.wikipedia.org/wiki/Window\"><img src=\"http://upload.wikimedia.org/wikipedia/commons/thumb/4/4f/5-chamber_plastic_window_profile.JPG/440px-5-chamber_plastic_window_profile.JPG\" alt=\"Aluminum window cross section\" title=\"Aluminum Window\" style=\"max-width:20px; max-height:20px; border:1px solid blue; float:right; margin-left:10px;\"/></a></li>\n",
    "            <li>Wood <a href=\"http://en.wikipedia.org/wiki/User:Vermont.timber/Bent_%28structural%29\"><img src=\"http://upload.wikimedia.org/wikipedia/commons/thumb/5/5d/Stack_of_Timber_Bents.jpg/440px-Stack_of_Timber_Bents.jpg\" alt=\"Wood framing\" title=\"Wood Framing\" style=\"max-width:20px; max-height:20px; border:1px solid blue; float:right; margin-left:10px;\"/></a></li>\n",
    "            <li>Asphalt <a href=\"http://en.wikipedia.org/wiki/Asphalt\"><img src=\"http://upload.wikimedia.org/wikipedia/commons/4/45/Refined_bitumen.JPG\" alt=\"Refined asphalt/bitumen image\" title=\"Fractured Asphalt\" style=\"max-width:20px; max-height:20px; border:1px solid blue; float:right; margin-left:10px;\"/></a></li>\n",
    "            <li>Concrete <a href=\"http://www.pexels.com/photo/building-construction-building-site-constructing-2469/\"><img src=\"https://static.pexels.com/photos/2469/building-construction-building-site-constructing.jpg\" alt=\"Image of concrete chute\" title=\"Concrete Pour\" style=\"max-width:20px; max-height:20px; border:1px solid blue; float:right; margin-left:10px;\"/></a></li>\n",
    "            <li>Masonry <a href=\"http://en.wikipedia.org/wiki/Masonry\"><img src=\"http://upload.wikimedia.org/wikipedia/commons/thumb/8/83/CMUs.jpg/440px-CMUs.jpg\" alt=\"Concrete block wall image\" title=\"Masonry Wall\" style=\"max-width:20px; max-height:20px; border:1px solid blue; float:right; margin-left:10px;\"/></a></li>\n",
    "        </ul>\n",
    "    </td>\n",
    "    <td >\n",
    "        <ul>\n",
    "            <li>Effects of Moisture <a href=\"http://en.wikipedia.org/wiki/Rust\"><img src=\"http://upload.wikimedia.org/wikipedia/commons/thumb/8/80/Rust_wedge.jpg/440px-Rust_wedge.jpg\" alt=\"Rust wedge image\" title=\"Contrete Damage Demonstration\" style=\"max-width:20px; max-height:20px; border:1px solid blue; float:right; margin-left:10px;\"/></a></li>\n",
    "            <li>Solid Flooring <a href=\"http://en.wikipedia.org/wiki/Wood_flooring\"><img src=\"http://upload.wikimedia.org/wikipedia/commons/thumb/1/1d/Custom_Showroom.jpg/440px-Custom_Showroom.jpg\" alt=\"Sample wood flooring image\" title=\"Sample Flooring\" style=\"max-width:20px; max-height:20px; border:1px solid blue; float:right; margin-left:10px;\"/></a></li>\n",
    "            <li>Carpet <a href=\"http://en.wikipedia.org/wiki/Carpet\"><img src=\"http://upload.wikimedia.org/wikipedia/commons/thumb/a/a5/Swatches_of_carpet_1.jpg/440px-Swatches_of_carpet_1.jpg\" alt=\"Carpet sample image\" title=\"Carpet Samples\" style=\"max-width:20px; max-height:20px; border:1px solid blue; float:right; margin-left:10px;\"/></a></li>\n",
    "            <li>Gypsum <a href=\"http://en.wikipedia.org/wiki/Drywall\"><img src=\"http://upload.wikimedia.org/wikipedia/commons/3/3e/Drywall.jpg\" alt=\"Drywall image\" title=\"Gypsum Board\" style=\"max-width:20px; max-height:20px; border:1px solid blue; float:right; margin-left:10px;\"/></a></li>\n",
    "            <li>Protective Coatings (i.e. Paint) <a href=\"https://www.flickr.com/photos/86639298@N02/9073902720\"><img src=\"http://www.google.com/url?sa=i&source=imgres&cd=&ved=0CAkQjBwwAGoVChMIxunb8uaDxgIVClqSCh0PJQCn&url=https%3A%2F%2Ffarm3.staticflickr.com%2F2810%2F9073902720_cc002c58c1_o_d.jpg&ei=5nt3VcbeMoq0yQSPyoC4Cg&psig=AFQjCNE_MUS-arozztg_qPmcuF5uBw3arw&ust=1433980263004017\" alt=\"Sample paint colors\" title=\"Paint Colors\" style=\"max-width:20px; max-height:20px; border:1px solid blue; float:right; margin-left:10px;\"/></a></li>\n",
    "            <li>Glass <a href=\"http://pixabay.com/en/sky-palace-glass-architecture-191605/\"><img src=\"http://pixabay.com/get/4c67c54c30fd7db7683b/1433896014/sky-191605_1280.jpg?direct\" alt=\"Glass roof image\" title=\"Glass Building\" style=\"max-width:20px; max-height:20px; border:1px solid blue; float:right; margin-left:10px;\"/></a></li>\n",
    "            <li>Plastic <a href=\"http://en.wikipedia.org/wiki/Electrical_conduit\"><img src=\"http://upload.wikimedia.org/wikipedia/commons/thumb/2/23/Plastic_tubing.jpg/440px-Plastic_tubing.jpg\" alt=\"Electrical conduit image\" title=\"Plastic Piping\" style=\"max-width:20px; max-height:20px; border:1px solid blue; float:right; margin-left:10px;\"/></a></li>\n",
    "        </ul>\n",
    "    </td>\n",
    "</tr>\n",
    "</table>\n",
    "\n",
    "For each construction material I will try to cover the following:\n",
    "\n",
    "* Sustainability\n",
    "* Material properties\n",
    "* Applicable tests\n",
    "* Examples installation methods and equipment\n",
    "* Examples of famous failures and safe construction practices (if applicable) \n"
   ]
  },
  {
   "cell_type": "markdown",
   "metadata": {
    "slideshow": {
     "slide_type": "slide"
    }
   },
   "source": [
    "## Textbooks"
   ]
  },
  {
   "cell_type": "markdown",
   "metadata": {},
   "source": [
    "Edit Slide Audio\n",
    "<audio controls data-autoplay preload>\n",
    " <source src=\"https://github.com/damontallen/Construction-materials/raw/master/Lecture_Audio/Week_0/Greetings/Greetings-Slide_Title.mp3\"\n",
    "         type='audio/mp3'>\n",
    " <p>Your user agent does not support the HTML5 Audio element or the files is missing.</p>\n",
    "</audio>"
   ]
  },
  {
   "cell_type": "markdown",
   "metadata": {},
   "source": [
    "<a href=\"http://www.valorebooks.com/textbooks/basic-construction-materials-8th-edition-pearson-construction-technology-8th-edition/9780135129692\"><img src=\"http://img.valorebooks.com/FULL/97/9780/978013/9780135129692.jpg\" alt=\"Image of Basic Construction Materials textbook\" title=\"Basic Construction Materials\" style=\"max-width:200px; max-height:200px; border:1px solid blue; float:right; margin-left:10px;\"/></a>\n",
    "\n",
    "This semester I am only going to be requiring that you use \"Basic Construction Materials\" 8<sup>th</sup> edition.  The ISBN numbers are:\n",
    "\n",
    "* ISBN-13: 978-0135129692\n",
    "* ISBN-10: 0135129699\n",
    "\n",
    "It can be found on [Amazon](http://www.amazon.com/Construction-Materials-Edition-Pearson-Technology/dp/0135129699) for less than \\$80 used.  [Additional searches](http://www.bookfinder.com/search/?author=&title=&lang=en&isbn=0135129699&new_used=*&destination=us&currency=USD&mode=basic&st=sr&ac=qr) may result in lower prices, though this is not an endorsement of any particular online store.\n",
    "\n",
    "I addition to Basic Construction Materials, I will be using the following texts.\n",
    "\n",
    "* Basic Construction Materials - 7<sup>th</sup> edition\n",
    "* Sustainable Construction - 3<sup>rd</sup> edition\n",
    "* Construction: Principles, Materials, and Methods - 6<sup>th</sup> edition\n",
    "* Green Building: Project Planning & Cost Estimating - 2<sup>nd</sup> edition\n",
    "\n",
    "These texts are not required but they are recommended reading.\n",
    "\n",
    "At verious points throughout the course I may reference additional material such as confrence lectures or even websites.  I will cite these when they appear and try to provide links to the original source material."
   ]
  },
  {
   "cell_type": "markdown",
   "metadata": {
    "slideshow": {
     "slide_type": "slide"
    }
   },
   "source": [
    "## Final Thoughts"
   ]
  },
  {
   "cell_type": "markdown",
   "metadata": {},
   "source": [
    "Edit Slide Audio\n",
    "<audio controls data-autoplay preload>\n",
    " <source src=\"https://github.com/damontallen/Construction-materials/raw/master/Lecture_Audio/Week_0/Greetings/Greetings-Slide_Title.mp3\"\n",
    "         type='audio/mp3'>\n",
    " <p>Your user agent does not support the HTML5 Audio element or the files is missing.</p>\n",
    "</audio>"
   ]
  },
  {
   "cell_type": "markdown",
   "metadata": {},
   "source": [
    "<a href=\"http://noramorrison.deviantart.com/art/Advice-478625985\"><img src=\"http://orig12.deviantart.net/1b97/f/2014/239/b/2/advice_by_noramorrison-d7wym69.jpg\" alt=\"Advice Comic\" title=\"Advice Comic\" style=\"max-width:300px; max-height:300px; border:1px solid blue; float:right; margin-left:10px;\"/></a>\n",
    "Lastly I'm going to leave you with some words of advice.  Since this course is earily in your college education carreer I am not expecting you to know everything.  Some of you are even still taking Physics.  I do, however, expect you to do what I ask of you.  If you follow instructions, participate, take notes, and submit your completed assignments in on time you should do very well in this course (this goes for all your courses really).  This is not highschool where you can not do anything then walk into the class and expect to pass.  This class is not covering thing you already know so you will have to study.\n",
    "\n",
    "Some of you are taking this course since it has a reputation for an easy $A$.  I cannot speak to this since this is the first time I have taught it.  However I have been given different guidelines than the previous instructor used and I expect it will be more difficult than it was in the past.  This is not to say that you will not make an $A$ but don't use any previous semester notes, quiz or homework solutions.\n",
    "\n",
    "I have prepared some [additional information](http://nbviewer.ipython.org/github/damontallen/Construction-materials/blob/master/Online%20course%20success.ipynb) that is specific to using on-line lectures based on this courses format.  This is not the first course that I have taught using on-line lectures and I have learned a few thing from my more successful students.  I am hoping that by reading what I found out I can save you a lot of stress and frustration.\n",
    "\n",
    "Welcome to college and welcome to my class."
   ]
  },
  {
   "cell_type": "markdown",
   "metadata": {
    "slideshow": {
     "slide_type": "slide"
    }
   },
   "source": [
    "#References"
   ]
  },
  {
   "cell_type": "markdown",
   "metadata": {},
   "source": [
    "[UF Class website](https://ufl.instructure.com/courses/) \n",
    "\n",
    "[Github.io version of course website](http://damontallen.github.io/Construction-materials/) *(Do not use this link if you are taking this course in Summer A or B.)*\n",
    "\n",
    "\n",
    "[IPython.org](http://ipython.org/) *(IPython is the opensource software used in the development of much of this course.)*\n",
    "\n",
    "[Complete Software List](http://nbviewer.ipython.org/github/damontallen/Construction-materials/blob/master/Resources.ipynb)\n",
    "\n",
    "##Report any problems\n",
    "\n",
    "[Issues](https://github.com/damontallen/Construction-materials/issues) Please report any problems that occured during the viewing of this or any other lecture.\n",
    "\n",
    "Alternative Reporting - Email <a href=\"mailto:damontallen@gmail.com?Subject=Construction%20Materials%20Lecture%20Problems\" target=\"_top\">damontallen@gmail.com</a>"
   ]
  }
 ],
 "metadata": {
  "celltoolbar": "Slideshow",
  "kernelspec": {
   "display_name": "Python 3",
   "language": "python",
   "name": "python3"
  },
  "language_info": {
   "codemirror_mode": {
    "name": "ipython",
    "version": 3
   },
   "file_extension": ".py",
   "mimetype": "text/x-python",
   "name": "python",
   "nbconvert_exporter": "python",
   "pygments_lexer": "ipython3",
   "version": "3.4.0"
  }
 },
 "nbformat": 4,
 "nbformat_minor": 0
}
