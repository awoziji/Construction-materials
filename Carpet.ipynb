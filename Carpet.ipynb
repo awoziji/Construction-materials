{
 "cells": [
  {
   "cell_type": "markdown",
   "metadata": {
    "slideshow": {
     "slide_type": "slide"
    }
   },
   "source": [
    "# Carpet"
   ]
  },
  {
   "cell_type": "markdown",
   "metadata": {
    "slideshow": {
     "slide_type": "-"
    }
   },
   "source": [
    "Embedded YouTube Video\n"
   ]
  },
  {
   "cell_type": "markdown",
   "metadata": {
    "slideshow": {
     "slide_type": "slide"
    }
   },
   "source": [
    "## Slide Show Table of Contents"
   ]
  },
  {
   "cell_type": "markdown",
   "metadata": {},
   "source": [
    "<audio controls data-autoplay preload>\n",
    " <source src=\"mp3 Path\"\n",
    "     type='audio/mp3'>\n",
    " <p>Your user agent does not support the HTML5 Audio element or the files are missing.</p>\n",
    "</audio>"
   ]
  },
  {
   "cell_type": "markdown",
   "metadata": {
    "slideshow": {
     "slide_type": "-"
    }
   },
   "source": [
    "* [Carpet](#)\n",
    "    * [Slide 1 Title](#/2)\n",
    "    * [Slide 2 Title](#/3)\n",
    "    * [Slide 3 Title](#/4)\n",
    "    * [Slide 4 Title](#/5)\n",
    "    * [Slide 5 Title](#/6)\n",
    "    * [Slide 6 Title](#/7)\n",
    "    * [Slide 7 Title](#/8)\n",
    "    * [Slide 8 Title](#/9)\n",
    "    * [Slide 9 Title](#/10)\n",
    "    * [Slide 10 Title](#/11)\n",
    "    * [Slide 11 Title](#/12)\n",
    "    * [Slide 12 Title](#/13)\n",
    "    * [Slide 13 Title](#/14)\n",
    "    * [References](#/15)\n"
   ]
  },
  {
   "cell_type": "markdown",
   "metadata": {
    "slideshow": {
     "slide_type": "slide"
    }
   },
   "source": [
    "## Introduction"
   ]
  },
  {
   "cell_type": "markdown",
   "metadata": {},
   "source": [
    "Edit Slide Audio\n",
    "<audio controls data-autoplay preload>\n",
    " <source src=\"https://github.com/damontallen/Construction-materials/raw/master/Lecture_Audio/Week_9/Carpet/Carpet-Slide_Title.mp3\"\n",
    "         type='audio/mp3'>\n",
    " <p>Your user agent does not support the HTML5 Audio element or the files is missing.</p>\n",
    "</audio>"
   ]
  },
  {
   "cell_type": "markdown",
   "metadata": {},
   "source": [
    "Carpet is used for comfort, decoration, and noise reduction.  The noise reduction value of carpet is mainly limited to sound transmission between floors, e.g. through the floor to the ceiling below or from the room below through the floor.  There is some value in the echo reduction of carpet but it does not have a substantial effect on direct sound transmission.\n",
    "\n",
    "The inter-floor transmission of sound is mainly cause by impact sounds.  These are due to footsteps, to falling objects or to moving furniture, and are an important source of noise annoyance in residential buildings.  Tests to determine the reduction of impact noise with respect to material are conducted using equipment that produces various frequencies through a floor ([source](http://www.crbnet.it/File/Pubblicazioni/pdf/1277.pdf)) and then the amount of [decibel](https://en.wikipedia.org/wiki/Decibel#Acoustics) reduction is measured.  Calculations are done on the results from the various frequency test to come up with a single representative number.  As you might expect the best results come from carpet with a padded [underlayment](https://en.wikipedia.org/wiki/Underlay).\n",
    "\n",
    "The echo reduction from carpet was characterized by the [Noise Reduction Coefficient](https://en.wikipedia.org/wiki/Noise_reduction_coefficient) (NRC) but that is being replaced by the Sound Absorption Average (SAA) (defined by [ASTM C423-09a](http://www.astm.org/Standards/C423.htm)).  Both of these standards use a series of sounds with frequencies ranging from a few hundred hertz (Hz) to  a couple thousand hertz.  The tests measure the decay in the sound energy over time from each frequency.  The results from those tests can be used to create a sound absorption profile.  A singer number can be generated based on representative environments, or a simple average can be used for comparisons of differing sound profiles.  This mean that essentially a NRC or SAA value that is closer to 1 is better for noise reduction and one closer to 0 is bad.  A good value is above 0.5."
   ]
  },
  {
   "cell_type": "markdown",
   "metadata": {
    "slideshow": {
     "slide_type": "slide"
    }
   },
   "source": [
    "## Carpet Construction Types"
   ]
  },
  {
   "cell_type": "markdown",
   "metadata": {},
   "source": [
    "Edit Slide Audio\n",
    "<audio controls data-autoplay preload>\n",
    " <source src=\"https://github.com/damontallen/Construction-materials/raw/master/Lecture_Audio/Week_9/Carpet/Carpet-Slide_Title.mp3\"\n",
    "         type='audio/mp3'>\n",
    " <p>Your user agent does not support the HTML5 Audio element or the files is missing.</p>\n",
    "</audio>"
   ]
  },
  {
   "cell_type": "markdown",
   "metadata": {},
   "source": [
    "<a href = \"https://en.wikipedia.org/wiki/Warp_%28weaving%29\"> <img src=\"https://upload.wikimedia.org/wikipedia/en/e/ea/Warp_and_weft.jpg\" alt = \"Warp vs weft image\" Title=\"Weaving\"  style=\"max-width:200px; max-height:200px; border:1px solid blue; float:right; margin-left:10px;\"/></a><a href = \"https://en.wikipedia.org/wiki/Carpet\"> <img src=\"https://upload.wikimedia.org/wikipedia/en/thumb/8/83/Berber_Carpet_%28macro%29.jpg/220px-Berber_Carpet_%28macro%29.jpg\" alt = \"Loop carpet image\" Title=\"Loop Pil\"  style=\"max-width:200px; max-height:200px; border:1px solid blue; float:right; margin-left:10px;\"/></a>\n",
    "\n",
    "Carpet is a woven material and as such, regardless of how it is made, will always have warp and weft.  There may be more than one color warp used to make patterns or there may be stuffer yarn or tufts used to make the wear surface.  Regardless of the surface there are a few terms you should know about.\n",
    "\n",
    "\n",
    "* Pitch – Number of pile yarns in 27”\n",
    "* Pile – The upper wear layer of carpet.\n",
    "    * Loop – A type of pile where the yarn forms small loops.  Good for high traffic areas.\n",
    "    * Frieze (twist) – a type of pile where the yarn it twisted to form a shaggy texture.\n",
    "    * Cut – A type of pile where the yarn is is generally shorter and more uniform than frieze (most common in residential).\n",
    "    * Tuft – The yarn that make up the pile\n",
    "* Weft – the yarn that in traditional weaving would have been attached to the [shuttle](https://en.wikipedia.org/wiki/Shuttle_%28weaving%29) and is continuously passed back and forth in the weaving process.  It can be used in attaching the tuft.\n",
    "* Warp – the longitudinal yarn in the carpet.  In a rug this would be the yarn that would make up the fringe at either end.  Also known as the chain yarn.\n",
    "* Gauge – the spacing between individual tufts.\n",
    "* Needles – the number of tufts per inch.\n",
    "* Jute – a type of backing that is made from natural fiber from a variety of the [jute](https://en.wikipedia.org/wiki/Jute) plant.\n",
    "* Kraftcord – A fiber backing that is made from wood pulp fiber."
   ]
  },
  {
   "cell_type": "markdown",
   "metadata": {
    "slideshow": {
     "slide_type": "slide"
    }
   },
   "source": [
    "## Installation"
   ]
  },
  {
   "cell_type": "markdown",
   "metadata": {},
   "source": [
    "Edit Slide Audio\n",
    "<audio controls data-autoplay preload>\n",
    " <source src=\"https://github.com/damontallen/Construction-materials/raw/master/Lecture_Audio/Week_9/Carpet/Carpet-Slide_Title.mp3\"\n",
    "         type='audio/mp3'>\n",
    " <p>Your user agent does not support the HTML5 Audio element or the files is missing.</p>\n",
    "</audio>"
   ]
  },
  {
   "cell_type": "markdown",
   "metadata": {},
   "source": [
    "<a href = \"https://en.wikipedia.org/wiki/Fitted_carpet\"> <img src=\"https://upload.wikimedia.org/wikipedia/commons/thumb/5/5b/Carpet_stretcher_arp.jpg/220px-Carpet_stretcher_arp.jpg\" alt = \"Carpet stretcher image\" Title=\"Carpet Stretcher\"  style=\"max-width:200px; max-height:200px; border:1px solid blue; float:right; margin-left:10px;\"/></a>Carpet is installed generally one of two ways depending on the floor material it covers.  Tack strips are generally more common over a wooden sub-floor.  They consist of long narrow strips of wood that have short nails (or tacks) protruding up.  These tacks are used to hook onto the backing of the carpet.  These strips are fastened at the edges of the room and anywhere that there is a seam in the carpet.  The padding is then laid in between the tack strips and the carpet is placed over top.  Once the carpet is attached at one side the carpet layers will “kick” the carpet and attach it to the other sides.  Kicking carpet consists of using knee kicker to stretch the carpet while simultaneously hooking it on the tack strips.\n",
    "\n",
    "The other common way to install carpet is with the use of adhesives.  When carpet is glued down it cannot be done with the use of padding.  This means it is more suitable for commercial installations.  This will make the installation last longer since the padding does not typically last as long in high traffic environments as the carpet.  Carpets that are glued down need to be prefitted prior to installation and will need to be rolled to remove air pockets from under the carpet once it has been placed."
   ]
  },
  {
   "cell_type": "markdown",
   "metadata": {
    "slideshow": {
     "slide_type": "slide"
    }
   },
   "source": [
    "## Sustainability"
   ]
  },
  {
   "cell_type": "markdown",
   "metadata": {},
   "source": [
    "Edit Slide Audio\n",
    "<audio controls data-autoplay preload>\n",
    " <source src=\"https://github.com/damontallen/Construction-materials/raw/master/Lecture_Audio/Week_9/Carpet/Carpet-Slide_Title.mp3\"\n",
    "         type='audio/mp3'>\n",
    " <p>Your user agent does not support the HTML5 Audio element or the files is missing.</p>\n",
    "</audio>"
   ]
  },
  {
   "cell_type": "markdown",
   "metadata": {},
   "source": [
    "In terms of how green carpet is depends on the type of fiber used in its construction.  More natural fibers will produce less off gassing but caution must be used in regards to allergies.  Additionally if an adhesive is used instead of tacks then a low VOC adhesive needs to be used.  Carpets should stop off gassing within 24 hours but ventilation may be required up to 72 hours.  The smell of a new carpet should dissipate within this time.\n",
    "\n",
    "There are varieties of carpets available that contain recycled content and the carpet itself can be recycled into other products ([source](https://www.carpet-rug.org/Carpet-for-Business/Green-Building-and-The-Environment.aspx)).  These products include parts for the automobile industry as well as other areas of the construction industry.  There are industry tracking tools such as the “green label” that are aimed at assisting in LEED certification."
   ]
  },
  {
   "cell_type": "markdown",
   "metadata": {
    "slideshow": {
     "slide_type": "slide"
    }
   },
   "source": [
    "## Properties"
   ]
  },
  {
   "cell_type": "markdown",
   "metadata": {},
   "source": [
    "Edit Slide Audio\n",
    "<audio controls data-autoplay preload>\n",
    " <source src=\"https://github.com/damontallen/Construction-materials/raw/master/Lecture_Audio/Week_9/Carpet/Carpet-Slide_Title.mp3\"\n",
    "         type='audio/mp3'>\n",
    " <p>Your user agent does not support the HTML5 Audio element or the files is missing.</p>\n",
    "</audio>"
   ]
  },
  {
   "cell_type": "markdown",
   "metadata": {},
   "source": [
    "The aspects of durability that need to be considered while choosing carpet are abrasion resistance, alkali and acid resistance, insect and fungus resistance and burn resistance.  If abrasion is a concern then the fibers of the carpet should be nylon or polypropylene.  These will provide the best wear resistance in high traffic areas.  If the carpet is going to be used in an environment where it is going to get repeated alkali and acid exposure, like in a restaurant, then you need to avoid natural fibers.  Natural fibers are more likely to absorb moisture and break down when exposed to these chemicals.  Additionally natural fibers are far more likely to have problems with fungus and insects and synthetic fibers.  As for burn resistance, most carpets on the market now are tested and rated for combustion.  There may be concerns about the gases that are released, like Hydrogen Cyanide, when exposed to heat so the MSDS of the particular carpet may need to be reviewed if this is an issue that needs to be looked at."
   ]
  },
  {
   "cell_type": "markdown",
   "metadata": {
    "slideshow": {
     "slide_type": "slide"
    }
   },
   "source": [
    "# References"
   ]
  },
  {
   "cell_type": "markdown",
   "metadata": {},
   "source": [
    "[UF Class website](https://ufl.instructure.com/courses/) \n",
    "\n",
    "[Github.io version of course website](http://damontallen.github.io/Construction-materials/) *(Do not use this link if you are taking this course in Summer A or B.)*\n",
    "\n",
    "\n",
    "[IPython.org](http://ipython.org/) *(IPython is the opensource software used in the development of much of this course.)*\n",
    "\n",
    "[Complete Software List](http://nbviewer.ipython.org/github/damontallen/Construction-materials/blob/master/Resources.ipynb)\n",
    "\n",
    "## Report any problems\n",
    "\n",
    "[Issues](https://github.com/damontallen/Construction-materials/issues) Please report any problems that occurred during the viewing of this or any other lecture.\n",
    "\n",
    "Alternative Reporting - Email <a href=\"mailto:damontallen@gmail.com?Subject=Construction%20Materials%20Lecture%20Problems\" target=\"_top\">damontallen@gmail.com</a>"
   ]
  }
 ],
 "metadata": {
  "celltoolbar": "Slideshow",
  "kernelspec": {
   "display_name": "Python 3",
   "language": "python",
   "name": "python3"
  },
  "language_info": {
   "codemirror_mode": {
    "name": "ipython",
    "version": 3
   },
   "file_extension": ".py",
   "mimetype": "text/x-python",
   "name": "python",
   "nbconvert_exporter": "python",
   "pygments_lexer": "ipython3",
   "version": "3.4.0"
  }
 },
 "nbformat": 4,
 "nbformat_minor": 0
}
