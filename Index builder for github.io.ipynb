{
 "cells": [
  {
   "cell_type": "code",
   "execution_count": 10,
   "metadata": {
    "collapsed": false
   },
   "outputs": [],
   "source": [
    "f = !ls\n",
    "shows = [file for file in f if '.slides.' in file]\n",
    "\n",
    "not_shows = set(f).difference(set(shows))\n",
    "html = [file for file in not_shows if '.html' in file] #should only be index.html\n",
    "  "
   ]
  },
  {
   "cell_type": "code",
   "execution_count": 12,
   "metadata": {
    "collapsed": false
   },
   "outputs": [
    {
     "name": "stdout",
     "output_type": "stream",
     "text": [
      "topic_shows = {'Greeting':[],\n",
      "               'Sustainability':[],\n",
      "               'Steel and Aluminum':[],\n",
      "               'Wood':[],\n",
      "               'Asphalt':[],\n",
      "               'Concrete':[],\n",
      "               'Masonry':[],\n",
      "               'Moisture':[],\n",
      "               'Flooring':[],\n",
      "               'Carpet':[],\n",
      "               'Gypsum':[],\n",
      "               'Paint':[],\n",
      "               'Glass and Plastic':[],\n",
      "}\n"
     ]
    }
   ],
   "source": [
    "txt = \"\"\"<h3>\n",
    "<a id=\"{id}\" class=\"anchor\" href=\"#{id}\" aria-hidden=\"true\"><span class=\"octicon octicon-link\"></span></a>{title}</h3>\n",
    "\"\"\"\n",
    "\n",
    "base = {\"{id}\":\"Module \",\"{title}\":\"topic\"}\n",
    "\n",
    "topics = [\"Greeting\",\n",
    "         \"Sustainability\",\n",
    "         \"Steel and Aluminum\",\n",
    "         \"Wood\",\n",
    "         \"Asphalt\",\n",
    "         \"Concrete\",\n",
    "         \"Masonry\",\n",
    "         \"Moisture\",\n",
    "         \"Flooring\",\n",
    "         \"Carpet\",\n",
    "         \"Gypsum\",\n",
    "         \"Paint\",\n",
    "         \"Glass and Plastic\"]\n",
    "\n",
    "print(\"topic_shows = {\",end='')\n",
    "for index, t in enumerate(topics):\n",
    "    if index>0:\n",
    "        print('               ',end='')\n",
    "    print(\"'%s':[],\"%t)\n",
    "print('}')"
   ]
  },
  {
   "cell_type": "code",
   "execution_count": 11,
   "metadata": {
    "collapsed": false
   },
   "outputs": [
    {
     "data": {
      "text/plain": [
       "['Aluminum.slides.html',\n",
       " 'Asphalt.slides.html',\n",
       " 'Carpet.slides.html',\n",
       " 'Concrete.slides.html',\n",
       " 'Course Introduction.slides.html',\n",
       " 'Flooring.slides.html',\n",
       " 'Glass.slides.html',\n",
       " 'Greetings.slides.html',\n",
       " 'Gypsum.slides.html',\n",
       " 'Masonry.slides.html',\n",
       " 'Materials.slides.html',\n",
       " 'Moisture.slides.html',\n",
       " 'Paint.slides.html',\n",
       " 'Plastic.slides.html',\n",
       " 'Steel.slides.html',\n",
       " 'Sustainability.slides.html',\n",
       " 'Wood.slides.html']"
      ]
     },
     "execution_count": 11,
     "metadata": {},
     "output_type": "execute_result"
    }
   ],
   "source": [
    "shows  "
   ]
  },
  {
   "cell_type": "code",
   "execution_count": 13,
   "metadata": {
    "collapsed": true
   },
   "outputs": [],
   "source": [
    "topic_shows = {'Greeting':['Greetings.slides.html','Course Introduction.slides.html','Materials.slides.html'],\n",
    "               'Sustainability':['Sustainability.slides.html'],\n",
    "               'Steel and Aluminum':['Steel.slides.html','Aluminum.slides.html'],\n",
    "               'Wood':['Wood.slides.html'],\n",
    "               'Asphalt':['Asphalt.slides.html'],\n",
    "               'Concrete':['Concrete.slides.html'],\n",
    "               'Masonry':['Masonry.slides.html'],\n",
    "               'Moisture':['Moisture.slides.html'],\n",
    "               'Flooring':['Flooring.slides.html'],\n",
    "               'Carpet':['Carpet.slides.html'],\n",
    "               'Gypsum':['Gypsum.slides.html'],\n",
    "               'Paint':['Paint.slides.html'],\n",
    "               'Glass and Plastic':['Glass.slides.html','Plastic.slides.html'],\n",
    "}\n",
    "\n"
   ]
  },
  {
   "cell_type": "code",
   "execution_count": 18,
   "metadata": {
    "collapsed": false
   },
   "outputs": [],
   "source": [
    "link_txt = '<a href=\"FILE\">TITLE</a>'\n",
    "middle = ''\n",
    "for index, topic in enumerate(topics):\n",
    "    base['{id}'] = \"Module-\"+str(index)\n",
    "    base['{title}'] = topic\n",
    "    \n",
    "    TXT = txt.replace('{id}',base['{id}'])\n",
    "    TXT = TXT.replace('{title}',\"Module \"+str(index)+\" - \"+base['{title}'])\n",
    "    TXT+='\\n'\n",
    "    TXT+=\"<pre><code>\"\n",
    "    for file in topic_shows[topic]:\n",
    "        link = link_txt.replace(\"FILE\",file)\n",
    "        Title = file.replace(\".slides.html\",'')\n",
    "        TXT += link.replace(\"TITLE\",Title)\n",
    "        TXT += '\\n'\n",
    "    middle+=TXT+'</pre></code>\\n'\n",
    "#     print(TXT)\n",
    "# print(middle)"
   ]
  },
  {
   "cell_type": "code",
   "execution_count": null,
   "metadata": {
    "collapsed": true
   },
   "outputs": [],
   "source": [
    "ref=\"\"\"<h3>\n",
    "<a name=\"References and Resources\" class=\"anchor\" href=\"#Resources\"><span class=\"octicon octicon-link\"></span></a>References and Resources\n",
    "</h3>\n",
    "\n",
    "<pre><code><a href=\"http://ipython.org/\">IPython.org</a>\n",
    "<a href=\"http://nbviewer.ipython.org/github/damontallen/Construction-materials/blob/master/Resources.ipynb\">Open source software used in the development of this course.</a>\n",
    "<a href=\"http://nbviewer.ipython.org/github/damontallen/Construction-materials/blob/master/Online%20course%20success.ipynb\">Online Course Success</a>\n",
    "</code></pre>\n",
    "\"\"\""
   ]
  },
  {
   "cell_type": "code",
   "execution_count": 19,
   "metadata": {
    "collapsed": true
   },
   "outputs": [],
   "source": [
    "with open('index_parts/index_head.txt','r') as f:\n",
    "    index = f.read()\n",
    "index+='\\n'+middle\n",
    "with open('index_parts/index_tail.txt','r') as f:\n",
    "    index+= f.read()\n",
    "with open('index_tmp.html','w') as f:\n",
    "    f.write(index)"
   ]
  }
 ],
 "metadata": {
  "kernelspec": {
   "display_name": "Python 3",
   "language": "python",
   "name": "python3"
  },
  "language_info": {
   "codemirror_mode": {
    "name": "ipython",
    "version": 3
   },
   "file_extension": ".py",
   "mimetype": "text/x-python",
   "name": "python",
   "nbconvert_exporter": "python",
   "pygments_lexer": "ipython3",
   "version": "3.4.0"
  }
 },
 "nbformat": 4,
 "nbformat_minor": 0
}
