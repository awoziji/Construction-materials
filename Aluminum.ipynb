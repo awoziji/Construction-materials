{
 "cells": [
  {
   "cell_type": "markdown",
   "metadata": {
    "slideshow": {
     "slide_type": "slide"
    }
   },
   "source": [
    "# Aluminum"
   ]
  },
  {
   "cell_type": "markdown",
   "metadata": {
    "slideshow": {
     "slide_type": "-"
    }
   },
   "source": [
    "Embedded YouTube Video"
   ]
  },

{
   "cell_type": "markdown",
   "metadata": {
    "slideshow": {
     "slide_type": "slide"
    }
   },
   "source": [
    "## Slide Show Table of Contents"
   ]
  },
  {
   "cell_type": "markdown",
   "metadata": {},
   "source": [
    "<audio controls data-autoplay preload>\n",
    " <source src=\"mp3 Path\"\n",
    "     type='audio/mp3'>\n",
    " <p>Your user agent does not support the HTML5 Audio element or the files are missing.</p>\n",
    "</audio>"
   ]
  },
  {
   "cell_type": "markdown",
   "metadata": {
    "slideshow": {
     "slide_type": "-"
    }
   },
   "source": [
    "* [Aluminum](#)\n",
    "    * [Sustainability](#/3)\n",
    "    * [Toxicity and the Environment](#/4)\n",
    "    * [Recycling](#/5)\n",
    "    * [Reuse](#/6)\n",
    "    * [Material Properties](#/7)\n",
    "    * [Strength](#/8)\n",
    "    * [Structural Failure Modes](#/9)\n",
    "    * [Environment Induced Failure Modes](#/10)\n",
    "    * [Chemical Weaknesses](#/11)\n",
    "    * [Safe Operating Temperatures](#/12)\n",
    "    * [Material Tests](#/13)\n",
    "    * [Quality Levels](#/14)\n",
    "    * [Residential Applications](#/15)\n",
    "    * [Commercial Applications](#/16)\n",
    "    * [Industrial Applications](#/17)\n",
    "    * [Cost Examples](#/18)\n",
    "    * [Material Sources](#/19)\n",
    "    * [Examples of Installation Tools](#/20)\n",
    "    * [Famous Failures](#/21)\n",
    "    * [References](#/22)\n"
   ]
  },
  {
   "cell_type": "markdown",
   "metadata": {
    "slideshow": {
     "slide_type": "slide"
    }
   },
   "source": [
    "## Sustainability"
   ]
  },
  {
   "cell_type": "markdown",
   "metadata": {},
   "source": [
    "\n",
    "<audio controls data-autoplay preload>\n",
    " <source src=\"https://github.com/damontallen/Construction-materials/raw/master/Lecture_Audio/Week_2/Aluminum/Aluminum-Sustainability.mp3\"\n",
    "         type='audio/mp3'>\n",
    " <p>Your user agent does not support the HTML5 Audio element or the files is missing.</p>\n",
    "</audio>"
   ]
  },
  {
   "cell_type": "markdown",
   "metadata": {},
   "source": [
    "In order to make ____ sustainability "
   ]
  },

  {
   "cell_type": "markdown",
   "metadata": {
    "slideshow": {
     "slide_type": "slide"
    }
   },
   "source": [
    "## Toxicity and the Environment"
   ]
  },
  {
   "cell_type": "markdown",
   "metadata": {},
   "source": [
    "\n",
    "<audio controls data-autoplay preload>\n",
    " <source src=\"https://github.com/damontallen/Construction-materials/raw/master/Lecture_Audio/Week_2/Aluminum/Aluminum-Toxicity%20and%20the%20Environment.mp3\"\n",
    "         type='audio/mp3'>\n",
    " <p>Your user agent does not support the HTML5 Audio element or the files is missing.</p>\n",
    "</audio>"
   ]
  },
  {
   "cell_type": "markdown",
   "metadata": {},
   "source": [
    "____ is toxic to "
   ]
  },

  {
   "cell_type": "markdown",
   "metadata": {
    "slideshow": {
     "slide_type": "slide"
    }
   },
   "source": [
    "## Recycling"
   ]
  },
  {
   "cell_type": "markdown",
   "metadata": {},
   "source": [
    "\n",
    "<audio controls data-autoplay preload>\n",
    " <source src=\"https://github.com/damontallen/Construction-materials/raw/master/Lecture_Audio/Week_2/Aluminum/Aluminum-Recycling.mp3\"\n",
    "         type='audio/mp3'>\n",
    " <p>Your user agent does not support the HTML5 Audio element or the files is missing.</p>\n",
    "</audio>"
   ]
  },
  {
   "cell_type": "markdown",
   "metadata": {},
   "source": [
    "____ can be recycled if "
   ]
  },

  {
   "cell_type": "markdown",
   "metadata": {
    "slideshow": {
     "slide_type": "slide"
    }
   },
   "source": [
    "## Reuse"
   ]
  },
  {
   "cell_type": "markdown",
   "metadata": {},
   "source": [
    "\n",
    "<audio controls data-autoplay preload>\n",
    " <source src=\"https://github.com/damontallen/Construction-materials/raw/master/Lecture_Audio/Week_2/Aluminum/Aluminum-Reuse.mp3\"\n",
    "         type='audio/mp3'>\n",
    " <p>Your user agent does not support the HTML5 Audio element or the files is missing.</p>\n",
    "</audio>"
   ]
  },
  {
   "cell_type": "markdown",
   "metadata": {},
   "source": [
    "It is better if ____ can be reused in applications like "
   ]
  },

  {
   "cell_type": "markdown",
   "metadata": {
    "slideshow": {
     "slide_type": "slide"
    }
   },
   "source": [
    "## Material Properties"
   ]
  },
  {
   "cell_type": "markdown",
   "metadata": {},
   "source": [
    "\n",
    "<audio controls data-autoplay preload>\n",
    " <source src=\"https://github.com/damontallen/Construction-materials/raw/master/Lecture_Audio/Week_2/Aluminum/Aluminum-Material%20Properties.mp3\"\n",
    "         type='audio/mp3'>\n",
    " <p>Your user agent does not support the HTML5 Audio element or the files is missing.</p>\n",
    "</audio>"
   ]
  },
  {
   "cell_type": "markdown",
   "metadata": {},
   "source": [
    "Slide Content"
   ]
  },

  {
   "cell_type": "markdown",
   "metadata": {
    "slideshow": {
     "slide_type": "slide"
    }
   },
   "source": [
    "## Strength"
   ]
  },
  {
   "cell_type": "markdown",
   "metadata": {},
   "source": [
    "\n",
    "<audio controls data-autoplay preload>\n",
    " <source src=\"https://github.com/damontallen/Construction-materials/raw/master/Lecture_Audio/Week_2/Aluminum/Aluminum-Strength.mp3\"\n",
    "         type='audio/mp3'>\n",
    " <p>Your user agent does not support the HTML5 Audio element or the files is missing.</p>\n",
    "</audio>"
   ]
  },
  {
   "cell_type": "markdown",
   "metadata": {},
   "source": [
    "Slide Content"
   ]
  },

  {
   "cell_type": "markdown",
   "metadata": {
    "slideshow": {
     "slide_type": "slide"
    }
   },
   "source": [
    "## Structural Failure Modes"
   ]
  },
  {
   "cell_type": "markdown",
   "metadata": {},
   "source": [
    "\n",
    "<audio controls data-autoplay preload>\n",
    " <source src=\"https://github.com/damontallen/Construction-materials/raw/master/Lecture_Audio/Week_2/Aluminum/Aluminum-Structural%20Failure%20Modes.mp3\"\n",
    "         type='audio/mp3'>\n",
    " <p>Your user agent does not support the HTML5 Audio element or the files is missing.</p>\n",
    "</audio>"
   ]
  },
  {
   "cell_type": "markdown",
   "metadata": {},
   "source": [
    "____ will fail if it is subjected to "
   ]
  },

  {
   "cell_type": "markdown",
   "metadata": {
    "slideshow": {
     "slide_type": "slide"
    }
   },
   "source": [
    "## Environment Induced Failure Modes"
   ]
  },
  {
   "cell_type": "markdown",
   "metadata": {},
   "source": [
    "\n",
    "<audio controls data-autoplay preload>\n",
    " <source src=\"https://github.com/damontallen/Construction-materials/raw/master/Lecture_Audio/Week_2/Aluminum/Aluminum-Environment%20Induced%20Failure%20Modes.mp3\"\n",
    "         type='audio/mp3'>\n",
    " <p>Your user agent does not support the HTML5 Audio element or the files is missing.</p>\n",
    "</audio>"
   ]
  },
  {
   "cell_type": "markdown",
   "metadata": {},
   "source": [
    "____ can be damaged by repeated exposure to "
   ]
  },

  {
   "cell_type": "markdown",
   "metadata": {
    "slideshow": {
     "slide_type": "slide"
    }
   },
   "source": [
    "## Chemical Weaknesses"
   ]
  },
  {
   "cell_type": "markdown",
   "metadata": {},
   "source": [
    "\n",
    "<audio controls data-autoplay preload>\n",
    " <source src=\"https://github.com/damontallen/Construction-materials/raw/master/Lecture_Audio/Week_2/Aluminum/Aluminum-Chemical%20Weaknesses.mp3\"\n",
    "         type='audio/mp3'>\n",
    " <p>Your user agent does not support the HTML5 Audio element or the files is missing.</p>\n",
    "</audio>"
   ]
  },
  {
   "cell_type": "markdown",
   "metadata": {},
   "source": [
    "X is one of the compounds that you must avoide having ____  exposed to.  It "
   ]
  },

  {
   "cell_type": "markdown",
   "metadata": {
    "slideshow": {
     "slide_type": "slide"
    }
   },
   "source": [
    "## Safe Operating Temperatures"
   ]
  },
  {
   "cell_type": "markdown",
   "metadata": {},
   "source": [
    "\n",
    "<audio controls data-autoplay preload>\n",
    " <source src=\"https://github.com/damontallen/Construction-materials/raw/master/Lecture_Audio/Week_2/Aluminum/Aluminum-Safe%20Operating%20Temperatures.mp3\"\n",
    "         type='audio/mp3'>\n",
    " <p>Your user agent does not support the HTML5 Audio element or the files is missing.</p>\n",
    "</audio>"
   ]
  },
  {
   "cell_type": "markdown",
   "metadata": {},
   "source": [
    "____ should only be used in the following temperature ranges."
   ]
  },

  {
   "cell_type": "markdown",
   "metadata": {
    "slideshow": {
     "slide_type": "slide"
    }
   },
   "source": [
    "## Material Tests"
   ]
  },
  {
   "cell_type": "markdown",
   "metadata": {},
   "source": [
    "\n",
    "<audio controls data-autoplay preload>\n",
    " <source src=\"https://github.com/damontallen/Construction-materials/raw/master/Lecture_Audio/Week_2/Aluminum/Aluminum-Material%20Tests.mp3\"\n",
    "         type='audio/mp3'>\n",
    " <p>Your user agent does not support the HTML5 Audio element or the files is missing.</p>\n",
    "</audio>"
   ]
  },
  {
   "cell_type": "markdown",
   "metadata": {},
   "source": [
    "The main material tests that are relevant to ____ are "
   ]
  },

  {
   "cell_type": "markdown",
   "metadata": {
    "slideshow": {
     "slide_type": "slide"
    }
   },
   "source": [
    "## Quality Levels"
   ]
  },
  {
   "cell_type": "markdown",
   "metadata": {},
   "source": [
    "\n",
    "<audio controls data-autoplay preload>\n",
    " <source src=\"https://github.com/damontallen/Construction-materials/raw/master/Lecture_Audio/Week_2/Aluminum/Aluminum-Quality%20Levels.mp3\"\n",
    "         type='audio/mp3'>\n",
    " <p>Your user agent does not support the HTML5 Audio element or the files is missing.</p>\n",
    "</audio>"
   ]
  },
  {
   "cell_type": "markdown",
   "metadata": {},
   "source": [
    "____ can be found in the following grades."
   ]
  },

  {
   "cell_type": "markdown",
   "metadata": {
    "slideshow": {
     "slide_type": "slide"
    }
   },
   "source": [
    "## Residential Applications"
   ]
  },
  {
   "cell_type": "markdown",
   "metadata": {},
   "source": [
    "\n",
    "<audio controls data-autoplay preload>\n",
    " <source src=\"https://github.com/damontallen/Construction-materials/raw/master/Lecture_Audio/Week_2/Aluminum/Aluminum-Residential%20Applications.mp3\"\n",
    "         type='audio/mp3'>\n",
    " <p>Your user agent does not support the HTML5 Audio element or the files is missing.</p>\n",
    "</audio>"
   ]
  },
  {
   "cell_type": "markdown",
   "metadata": {},
   "source": [
    "____ is used in residential arena as "
   ]
  },

  {
   "cell_type": "markdown",
   "metadata": {
    "slideshow": {
     "slide_type": "slide"
    }
   },
   "source": [
    "## Commercial Applications"
   ]
  },
  {
   "cell_type": "markdown",
   "metadata": {},
   "source": [
    "\n",
    "<audio controls data-autoplay preload>\n",
    " <source src=\"https://github.com/damontallen/Construction-materials/raw/master/Lecture_Audio/Week_2/Aluminum/Aluminum-Commercial%20Applications.mp3\"\n",
    "         type='audio/mp3'>\n",
    " <p>Your user agent does not support the HTML5 Audio element or the files is missing.</p>\n",
    "</audio>"
   ]
  },
  {
   "cell_type": "markdown",
   "metadata": {},
   "source": [
    "____ is used in commercial buildings as "
   ]
  },

  {
   "cell_type": "markdown",
   "metadata": {
    "slideshow": {
     "slide_type": "slide"
    }
   },
   "source": [
    "## Industrial Applications"
   ]
  },
  {
   "cell_type": "markdown",
   "metadata": {},
   "source": [
    "\n",
    "<audio controls data-autoplay preload>\n",
    " <source src=\"https://github.com/damontallen/Construction-materials/raw/master/Lecture_Audio/Week_2/Aluminum/Aluminum-Industrial%20Applications.mp3\"\n",
    "         type='audio/mp3'>\n",
    " <p>Your user agent does not support the HTML5 Audio element or the files is missing.</p>\n",
    "</audio>"
   ]
  },
  {
   "cell_type": "markdown",
   "metadata": {},
   "source": [
    "____ is used in the industrial setting as "
   ]
  },

  {
   "cell_type": "markdown",
   "metadata": {
    "slideshow": {
     "slide_type": "slide"
    }
   },
   "source": [
    "## Cost Examples"
   ]
  },
  {
   "cell_type": "markdown",
   "metadata": {},
   "source": [
    "\n",
    "<audio controls data-autoplay preload>\n",
    " <source src=\"https://github.com/damontallen/Construction-materials/raw/master/Lecture_Audio/Week_2/Aluminum/Aluminum-Cost%20Examples.mp3\"\n",
    "         type='audio/mp3'>\n",
    " <p>Your user agent does not support the HTML5 Audio element or the files is missing.</p>\n",
    "</audio>"
   ]
  },
  {
   "cell_type": "markdown",
   "metadata": {},
   "source": [
    "____ is generally sold as (by the)"
   ]
  },

  {
   "cell_type": "markdown",
   "metadata": {
    "slideshow": {
     "slide_type": "slide"
    }
   },
   "source": [
    "## Material Sources"
   ]
  },
  {
   "cell_type": "markdown",
   "metadata": {},
   "source": [
    "\n",
    "<audio controls data-autoplay preload>\n",
    " <source src=\"https://github.com/damontallen/Construction-materials/raw/master/Lecture_Audio/Week_2/Aluminum/Aluminum-Material%20Sources.mp3\"\n",
    "         type='audio/mp3'>\n",
    " <p>Your user agent does not support the HTML5 Audio element or the files is missing.</p>\n",
    "</audio>"
   ]
  },
  {
   "cell_type": "markdown",
   "metadata": {},
   "source": [
    "Depending on the quanity you can purchase ____ from "
   ]
  },

  {
   "cell_type": "markdown",
   "metadata": {
    "slideshow": {
     "slide_type": "slide"
    }
   },
   "source": [
    "## Examples of Installation Tools"
   ]
  },
  {
   "cell_type": "markdown",
   "metadata": {},
   "source": [
    "\n",
    "<audio controls data-autoplay preload>\n",
    " <source src=\"https://github.com/damontallen/Construction-materials/raw/master/Lecture_Audio/Week_2/Aluminum/Aluminum-Examples%20of%20Installation%20Tools.mp3\"\n",
    "         type='audio/mp3'>\n",
    " <p>Your user agent does not support the HTML5 Audio element or the files is missing.</p>\n",
    "</audio>"
   ]
  },
  {
   "cell_type": "markdown",
   "metadata": {},
   "source": [
    "Though you are unlikely to be installing any ____ personally, if you did, you are likely to need "
   ]
  },

  {
   "cell_type": "markdown",
   "metadata": {
    "slideshow": {
     "slide_type": "slide"
    }
   },
   "source": [
    "## Famous Failures"
   ]
  },
  {
   "cell_type": "markdown",
   "metadata": {},
   "source": [
    "\n",
    "<audio controls data-autoplay preload>\n",
    " <source src=\"https://github.com/damontallen/Construction-materials/raw/master/Lecture_Audio/Week_2/Aluminum/Aluminum-Famous%20Failures.mp3\"\n",
    "         type='audio/mp3'>\n",
    " <p>Your user agent does not support the HTML5 Audio element or the files is missing.</p>\n",
    "</audio>"
   ]
  },
  {
   "cell_type": "markdown",
   "metadata": {},
   "source": [
    "One of the more famous instances of a failure of ____"
   ]
  },

  {
   "cell_type": "markdown",
   "metadata": {
    "slideshow": {
     "slide_type": "slide"
    }
   },
   "source": [
    "#References"
   ]
  },
  {
   "cell_type": "markdown",
   "metadata": {},
   "source": [
    "[UF Class website](https://ufl.instructure.com/courses/) \n",
    "\n",
    "[Github.io version of course website](http://damontallen.github.io/Construction-materials/) *(Do not use this link if you are taking this course in Summer A or B.)*\n",
    "\n",
    "\n",
    "[IPython.org](http://ipython.org/) *(IPython is the opensource software used in the development of much of this course.)*\n",
    "\n",
    "[Complete Software List](http://nbviewer.ipython.org/github/damontallen/Construction-materials/blob/master/Resources.ipynb)\n",
    "\n",
    "##Report any problems\n",
    "\n",
    "[Issues](https://github.com/damontallen/Construction-materials/issues) Please report any problems that occured during the viewing of this or any other lecture.\n",
    "\n",
    "Alternative Reporting - Email <a href=\"mailto:damontallen@gmail.com?Subject=Construction%20Materials%20Lecture%20Problems\" target=\"_top\">damontallen@gmail.com</a>"
   ]
  }
 ],
 "metadata": {
  "celltoolbar": "Slideshow",
  "kernelspec": {
   "display_name": "Python 3",
   "language": "python",
   "name": "python3"
  },
  "language_info": {
   "codemirror_mode": {
    "name": "ipython",
    "version": 3
   },
   "file_extension": ".py",
   "mimetype": "text/x-python",
   "name": "python",
   "nbconvert_exporter": "python",
   "pygments_lexer": "ipython3",
   "version": "3.4.0"
  }
 },
 "nbformat": 4,
 "nbformat_minor": 0
}
