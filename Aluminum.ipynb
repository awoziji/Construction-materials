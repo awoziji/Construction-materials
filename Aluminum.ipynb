{
 "cells": [
  {
   "cell_type": "markdown",
   "metadata": {
    "slideshow": {
     "slide_type": "slide"
    }
   },
   "source": [
    "# Aluminum"
   ]
  },
  {
   "cell_type": "markdown",
   "metadata": {
    "slideshow": {
     "slide_type": "-"
    }
   },
   "source": [
    "Embedded YouTube Video"
   ]
  },
  {
   "cell_type": "markdown",
   "metadata": {
    "slideshow": {
     "slide_type": "slide"
    }
   },
   "source": [
    "## Slide Show Table of Contents"
   ]
  },
  {
   "cell_type": "markdown",
   "metadata": {},
   "source": [
    "<audio controls data-autoplay preload>\n",
    " <source src=\"mp3 Path\"\n",
    "     type='audio/mp3'>\n",
    " <p>Your user agent does not support the HTML5 Audio element or the files are missing.</p>\n",
    "</audio>"
   ]
  },
  {
   "cell_type": "markdown",
   "metadata": {
    "slideshow": {
     "slide_type": "-"
    }
   },
   "source": [
    "* [Aluminum](#)\n",
    "    * [Sustainability](#/3)\n",
    "    * [Toxicity and the Environment](#/4)\n",
    "    * [Recycling](#/5)\n",
    "    * [Reuse](#/6)\n",
    "    * [Material Properties](#/7)\n",
    "    * [Strength](#/8)\n",
    "    * [Structural Failure Modes](#/9)\n",
    "    * [Environment Induced Failure Modes](#/10)\n",
    "    * [Chemical Weaknesses](#/11)\n",
    "    * [Safe Operating Temperatures](#/12)\n",
    "    * [Material Tests](#/13)\n",
    "    * [Quality Levels](#/14)\n",
    "    * [Residential Applications](#/15)\n",
    "    * [Commercial Applications](#/16)\n",
    "    * [Industrial Applications](#/17)\n",
    "    * [Cost Examples](#/18)\n",
    "    * [Material Sources](#/19)\n",
    "    * [Examples of Installation Tools](#/20)\n",
    "    * [Famous Failures](#/21)\n",
    "    * [References](#/22)\n"
   ]
  },
  {
   "cell_type": "markdown",
   "metadata": {
    "slideshow": {
     "slide_type": "slide"
    }
   },
   "source": [
    "## Introduction\n",
    "\n",
    "<audio controls data-autoplay preload>\n",
    " <source src=\"https://github.com/damontallen/Construction-materials/raw/master/Lecture_Audio/Week_2/Aluminum/Aluminum-Introduction.mp3\"\n",
    "         type='audio/mp3'>\n",
    " <p>Your user agent does not support the HTML5 Audio element or the files is missing.</p>\n",
    "</audio>\n",
    "\n",
    "It is easier to discuss aluminum if you first understand the aluminum alloys' designations.  The designations will consist of a letter (F, O, H, W, or T) that indicated the <a><span title=\"Improve the hardness and elasticity of a metal by reheating and then cooling it.\">tempering</span></a> (*hover text*) of the material.  If H or T is used then it is followed by a number indicating the specifics of the treatment.  There is also associated number that is usually up to four digits long that indicates the major alloying elements, modification of the alloy and finally two digits that serve as an identifier.\n",
    "<table style=\"float:left; width:59%;\">\n",
    "    <caption>Letter Designations</caption>\n",
    "    <tr><td><strong>F</strong></td>\n",
    "    <td>As fabricated and no mechanical properties specified</td></tr>\n",
    "    <tr><td><strong>O</strong></td>\n",
    "    <td><a><span title=\"To heat metal and allow it to cool slowly, in order to remove internal stresses and toughen it.\">Annealed</span></a> to obtain lowest strength temper</td></tr>\n",
    "    <tr><td><strong>H</strong></td>\n",
    "    <td>Strain-hardened wrought products or without additional thermal treatment.</td></tr>\n",
    "    <tr><td><strong>W</strong></td>\n",
    "    <td>Solution heat-treated (but subject to natural aging)</td></tr>\n",
    "    <tr><td><strong>T</strong></td>\n",
    "    <td>Thermally treated to produce a stable temper</td></tr>\n",
    "</table>\n",
    "\n",
    "<table style=\"float:right; width:39%;\">\n",
    "    <caption>Major Alloying Elements (First Digit)</caption>\n",
    "    <tr><td>1 </td><td>Pure Aluminum</td></tr>\n",
    "    <tr><td>2 </td><td>Copper</td></tr>\n",
    "    <tr><td>3 </td><td>Manganese</td></tr>\n",
    "    <tr><td>4 </td><td>Silicon</td></tr>\n",
    "    <tr><td>5 </td><td>Magnesium</td></tr>\n",
    "    <tr><td>6 </td><td>Magnesium and Silicon</td></tr>\n",
    "    <tr><td>7 </td><td>Zinc</td></tr>\n",
    "    <tr><td>8 </td><td>Other elements</td></tr>\n",
    "</table>\n",
    "    \n",
    "<table style=\"float:left; width:59%;\">\n",
    "    <caption>Thermal Treatment Specifications</caption>\n",
    "    <tr><td>T1</td><td>Shaped hot and naturally aged</td></tr>\n",
    "    <tr><td>T2</td><td>Shaped hot, worked cold and naturally aged</td></tr>\n",
    "    <tr><td>T3</td><td>Solution heat treated*, cold worked and naturally aged</td></tr>\n",
    "    <tr><td>T4</td><td>Solution heat treated and naturally aged</td></tr>\n",
    "    <tr><td>T5</td><td>Shaped hot and naturally aged</td></tr>\n",
    "    <tr><td>T6</td><td>Solution heat treated and artificially aged</td></tr>\n",
    "    <tr><td>T7</td><td>Solution heat treated and artificially overaged</td></tr>\n",
    "    <tr><td>T8</td><td>Solution heat treated, worked cold and artificially aged</td></tr>\n",
    "    <tr><td>T9</td><td>Solution heat treated, artificially aged and worked cold</td></tr>\n",
    "    <tr><td>T10</td><td>Shaped hot, worked cold and artificially aged</td></tr>\n",
    "</table>\n",
    "\n",
    "<table style=\"float:right; width:39%;\">\n",
    "    <caption>Strain Hardening</caption>\n",
    "    <tr><td>H1</td><td>Strain hardened only</td></tr>\n",
    "    <tr><td>H2</td><td>Strain hardened and partially <a><span title=\"To heat metal and allow it to cool slowly, in order to remove internal stresses and toughen it.\">annealed</span></a></td></tr>\n",
    "    <tr><td>H3</td><td>Strain hardened, then stabilized</td></tr>\n",
    "    <tr><td>H4</td><td>Strain hardened and lacquered or painted</td></tr>\n",
    "</table>\n",
    "\n",
    "\n",
    "\n",
    "\n",
    "<p style=\"float:right; width:39%;\">For example, 6063-T6 is an aluminum alloy that is combined with magnesium and silicon then solution heat treated and artificially aged.  </p>\n",
    "\n",
    "<p style=\"float:left\">* Solution heat treatment is where very hot alloys are quenched in water \"freezing\" them but allowing them to remain workable for a short time.</p>\n",
    "\n",
    "<p style=\"float:left\"><em>Here are a small series of background <a href=\"http://videos.howstuffworks.com/discovery/35494-howstuffworks-show-episode-6-aluminum-undercover-video.htm\">videos</a> but they are not critical to view.</em></p>"
   ]
  },
  {
   "cell_type": "markdown",
   "metadata": {
    "slideshow": {
     "slide_type": "slide"
    }
   },
   "source": [
    "## Sustainability"
   ]
  },
  {
   "cell_type": "markdown",
   "metadata": {},
   "source": [
    "\n",
    "<audio controls data-autoplay preload>\n",
    " <source src=\"https://github.com/damontallen/Construction-materials/raw/master/Lecture_Audio/Week_2/Aluminum/Aluminum-Sustainability.mp3\"\n",
    "         type='audio/mp3'>\n",
    " <p>Your user agent does not support the HTML5 Audio element or the files is missing.</p>\n",
    "</audio>"
   ]
  },
  {
   "cell_type": "markdown",
   "metadata": {},
   "source": [
    "\n",
    "\n",
    "<a href = \"https://commons.wikimedia.org/wiki/File:US_Navy_050531-N-9293K-003_Fireman_Brian_Wilson_of_Charleston,_S.C.,_separates_bottles_from_aluminum_cans_at_the_Navy_Recycling_Center_on_board_Naval_Station_Everett,_Wash.jpg\"><img src=\"https://upload.wikimedia.org/wikipedia/commons/thumb/f/f9/US_Navy_050531-N-9293K-003_Fireman_Brian_Wilson_of_Charleston%2C_S.C.%2C_separates_bottles_from_aluminum_cans_at_the_Navy_Recycling_Center_on_board_Naval_Station_Everett%2C_Wash.jpg/428px-thumbnail.jpg\" alt = \"Aluminum recycling image\" Title=\"Recycling Cans\" style=\"max-width:300px; max-height:300px; border:1px solid blue; float:right; margin-left:10px;\"/></a>In order to make aluminum sustainability all it take is a little recycling. Recycling aluminum only uses 5% of the energy needed to produce aluminum from bauxite ore. This results in a substantial reduction in greenhouse gases. Additionally, the majority of the aluminum in the world is produced using power produced by hydroelectric facilities. Though these have an environmental impact of their own, dams are considered a renewable source of power. Currently about 65% of aluminum is recycled in the United States and world wide 35% of all aluminum production comes from recycled material ([source](http://recycling.world-aluminium.org/review/sustainability.html)).  Due to the long life span of most construction projects only about 8% of recycled aluminum is currently coming from construction salvage. \n",
    "\n",
    "Aluminum is used in a variety applications in the construction industry from lightweight, corrosion-resistant, panels to electrical wiring applications and extruded parts for windows. It also is used in exterior handrails due to durability.\n"
   ]
  },
  {
   "cell_type": "markdown",
   "metadata": {
    "slideshow": {
     "slide_type": "slide"
    }
   },
   "source": [
    "## Toxicity and the Environment"
   ]
  },
  {
   "cell_type": "markdown",
   "metadata": {},
   "source": [
    "\n",
    "<audio controls data-autoplay preload>\n",
    " <source src=\"https://github.com/damontallen/Construction-materials/raw/master/Lecture_Audio/Week_2/Aluminum/Aluminum-Toxicity%20and%20the%20Environment.mp3\"\n",
    "         type='audio/mp3'>\n",
    " <p>Your user agent does not support the HTML5 Audio element or the files is missing.</p>\n",
    "</audio>"
   ]
  },
  {
   "cell_type": "markdown",
   "metadata": {},
   "source": [
    "Aluminum is not generally toxic to anything.  That being said, chromium metal may be present in some aluminum alloys and hexavalent chromium though not present in the alloy may be formed during welding and it is considered to be carcinogens.  \n",
    "\n",
    "Also, like other powdered versions of construction material, it should not be inhaled or exposed to an open flame.\n",
    "\n",
    "\n",
    "[Aluminum alloys MSDS](http://www.precast.com/web/user_content/files/aluminum_alloys_1.pdf)"
   ]
  },
  {
   "cell_type": "markdown",
   "metadata": {
    "slideshow": {
     "slide_type": "slide"
    }
   },
   "source": [
    "## Recycling"
   ]
  },
  {
   "cell_type": "markdown",
   "metadata": {},
   "source": [
    "\n",
    "<audio controls data-autoplay preload>\n",
    " <source src=\"https://github.com/damontallen/Construction-materials/raw/master/Lecture_Audio/Week_2/Aluminum/Aluminum-Recycling.mp3\"\n",
    "         type='audio/mp3'>\n",
    " <p>Your user agent does not support the HTML5 Audio element or the files is missing.</p>\n",
    "</audio>"
   ]
  },
  {
   "cell_type": "markdown",
   "metadata": {},
   "source": [
    "Most of what I have to say about recycling I've already said except for aluminum is actually valuable enough that recyclers will pay for the scrap (around \\$1 per pound as of June 19, 2015).  That being said if you are going to try to get money for recycling your scrap it is important to secure it on the job site since is subject to theft."
   ]
  },
  {
   "cell_type": "markdown",
   "metadata": {
    "slideshow": {
     "slide_type": "slide"
    }
   },
   "source": [
    "## Reuse"
   ]
  },
  {
   "cell_type": "markdown",
   "metadata": {},
   "source": [
    "\n",
    "<audio controls data-autoplay preload>\n",
    " <source src=\"https://github.com/damontallen/Construction-materials/raw/master/Lecture_Audio/Week_2/Aluminum/Aluminum-Reuse.mp3\"\n",
    "         type='audio/mp3'>\n",
    " <p>Your user agent does not support the HTML5 Audio element or the files is missing.</p>\n",
    "</audio>"
   ]
  },
  {
   "cell_type": "markdown",
   "metadata": {},
   "source": [
    "<a href = \"https://en.wikipedia.org/wiki/Fatigue_%28material%29\"><img src=\"https://upload.wikimedia.org/wikipedia/commons/thumb/9/96/Pedalarm_Bruch.jpg/440px-Pedalarm_Bruch.jpg\" alt = \"Aluminum fatigue crack image\" Title=\"Aluminum Fatigue Crack\" style=\"max-width:300px; max-height:300px; border:1px solid blue; float:right; margin-left:10px;\"/></a>Aluminum products, like aluminum windows, can be reused but due to the less energy efficient nature of older windows the reuse should be limited to unconditioned environments.  Products like aluminum siding could be reused but it is difficult to remove it in a reusable condition.  Aluminum wire should not be reused if it has been removed from a structure.  The reason for this is related to fatigue.  Unlike steel aluminum does not have a lower fatigue limit.  In other words, not mater how big the piece of aluminum is or how small the cycled load is aluminum will eventually fail due to fatigue.  That is not saying that it cannot be used effectively in construction but its exposure to repeated loading should be considered when thinking about a particular application.  \n",
    "\n",
    "When examining a fatigue failure in aluminum part of the surface will be dark where the crack was and part of it will be bright where the final fracture occurred.\n",
    "\n",
    "It is interesting to note that most commercial aircraft often have aluminum skin and this skin has failed before due to fatigue. The load cycling which has causes failure was due to the repeated pressurization and de-pressurization of the aircraft cabin. In original airplane design the windows were not round but rather they were square. This unfortunately lead to [stress concentrations](https://en.wikipedia.org/wiki/Stress_concentration) at the corners which in turn lead to fatigue cracking. It is also interesting to note that the method used to stop the propagation of fatigue cracking is drilling a hole at the end of the crack. The round hole reduces the level of stress concentration at the tip of the crack which then increases the fatigue lifespan of the remaining material."
   ]
  },
  {
   "cell_type": "markdown",
   "metadata": {
    "slideshow": {
     "slide_type": "slide"
    }
   },
   "source": [
    "## Material Properties"
   ]
  },
  {
   "cell_type": "markdown",
   "metadata": {},
   "source": [
    "\n",
    "<audio controls data-autoplay preload>\n",
    " <source src=\"https://github.com/damontallen/Construction-materials/raw/master/Lecture_Audio/Week_2/Aluminum/Aluminum-Material%20Properties.mp3\"\n",
    "         type='audio/mp3'>\n",
    " <p>Your user agent does not support the HTML5 Audio element or the files is missing.</p>\n",
    "</audio>"
   ]
  },
  {
   "cell_type": "markdown",
   "metadata": {},
   "source": [
    "\n",
    "<a href = \"https://en.wikipedia.org/wiki/Aluminium\"> <img src=\"https://upload.wikimedia.org/wikipedia/commons/thumb/5/5d/Aluminium-4.jpg/440px-Aluminium-4.jpg\" alt = \"Image of aluminum chunk\" Title=\"Aluminum\"  style=\"max-width:200px; max-height:200px; border:1px solid blue; float:right; margin-left:10px;\"/></a>Aluminum is both lightweight and ductile. It is also not magnetic and, while in solid form, is unlikely to ignite.  Its reflective surface does not easily tarnish due to its propensity to quickly for a durable oxide coating.  Aluminum has about one-third the density and stiffness of steel. In manufacturing can be machined, extruded, drawn or cast.\n",
    "\n",
    "Aluminum is both thermal and electrically conductor.  However is not nearly as conductive as copper and also has the tendency to break over time due to fluctuation caused by cycling current leading to fatigue."
   ]
  },
  {
   "cell_type": "markdown",
   "metadata": {
    "slideshow": {
     "slide_type": "slide"
    }
   },
   "source": [
    "## Strength"
   ]
  },
  {
   "cell_type": "markdown",
   "metadata": {},
   "source": [
    "\n",
    "<audio controls data-autoplay preload>\n",
    " <source src=\"https://github.com/damontallen/Construction-materials/raw/master/Lecture_Audio/Week_2/Aluminum/Aluminum-Strength.mp3\"\n",
    "         type='audio/mp3'>\n",
    " <p>Your user agent does not support the HTML5 Audio element or the files is missing.</p>\n",
    "</audio>"
   ]
  },
  {
   "cell_type": "markdown",
   "metadata": {},
   "source": [
    "The aluminum alloy, 6063-T6, often used in handrails, has an ultimate tensile strength of at least 28 ksi and yields at around 23 ksi.  It is clearly weaker than steel but it is also has a density of $0.0975 \\frac{lb}{in^3}$ as apposed to steel's $0.2836 \\frac{lb}{in^3}$ which is practically 3 times as much.  This means, pound per pound, 6063-T6 aluminum is around as strong as grade 60 steel.  \n",
    "\n",
    "Some alloys of aluminum can be heat treated to a point where they yield at 100 ksi.  Despite this aluminum is seldom used major structural elements of buildings.  The reasons for this range from cost, to thermal compatibility, but one of the main concerns is fatigue.\n",
    "\n",
    "One aspect of the strength of a material is the method of connections used to join pieces.  Aluminum is much like steel in the fastening characteristics.  It can be both welded and bolted but there are a few other techniques of fastening that are more common in aluminum than steel.  These include riveting, stitching, interlocking joints, brazing, soldering, and adhesive bonding.  Various versions of these types of joints are commonly seen in ductwork on construction sites.  The particular joint used depends on the specific application and the resulting strength of the joint must be verified so that it is not the weak point in the element.  The verification of the strength of a joint is, however, outside the scope of this class."
   ]
  },
  {
   "cell_type": "markdown",
   "metadata": {
    "slideshow": {
     "slide_type": "slide"
    }
   },
   "source": [
    "## Structural Failure Modes"
   ]
  },
  {
   "cell_type": "markdown",
   "metadata": {},
   "source": [
    "\n",
    "<audio controls data-autoplay preload>\n",
    " <source src=\"https://github.com/damontallen/Construction-materials/raw/master/Lecture_Audio/Week_2/Aluminum/Aluminum-Structural%20Failure%20Modes.mp3\"\n",
    "         type='audio/mp3'>\n",
    " <p>Your user agent does not support the HTML5 Audio element or the files is missing.</p>\n",
    "</audio>"
   ]
  },
  {
   "cell_type": "markdown",
   "metadata": {},
   "source": [
    "<a href = \"https://en.wikipedia.org/wiki/Fatigue_limit\"> <img src=\"https://upload.wikimedia.org/wikipedia/commons/thumb/3/30/S-N_curves.PNG/440px-S-N_curves.PNG\" alt = \"Aluminum and steel fatigue curve\" Title=\"Aluminum Fatigue Limit\"  style=\"max-width:300px; max-height:300px; border:1px solid blue; float:right; margin-left:10px;\"/></a>Aluminum will fail if it is subjected to the same sorts of loading as steel, i.e excessive tension, shear, compression, or torsion.  However it is more susceptible to failure due to fatigue so cyclic loading needs to be accounted for.  Unlike steel aluminum does not have a safe endurance limit and will eventually fail if loading repeatedly unless it is re-annealed.  This process takes place naturally in supersonic aircraft but does not in buildings."
   ]
  },
  {
   "cell_type": "markdown",
   "metadata": {
    "slideshow": {
     "slide_type": "slide"
    }
   },
   "source": [
    "## Environment Induced Failure Modes"
   ]
  },
  {
   "cell_type": "markdown",
   "metadata": {},
   "source": [
    "\n",
    "<audio controls data-autoplay preload>\n",
    " <source src=\"https://github.com/damontallen/Construction-materials/raw/master/Lecture_Audio/Week_2/Aluminum/Aluminum-Environment%20Induced%20Failure%20Modes.mp3\"\n",
    "         type='audio/mp3'>\n",
    " <p>Your user agent does not support the HTML5 Audio element or the files is missing.</p>\n",
    "</audio>"
   ]
  },
  {
   "cell_type": "markdown",
   "metadata": {},
   "source": [
    "<a href = \"https://en.wikipedia.org/?title=Corrosion\"> <img src=\"https://upload.wikimedia.org/wikipedia/commons/0/08/Galvanic_corrosion_of_aluminum_and_steel_in_seawater.jpg\" alt = \"Aluminum corroding image\" Title=\"Aluminum Galvanic Corrosion in Seawater\"  style=\"max-width:300px; max-height:300px; border:1px solid blue; float:right; margin-left:10px;\"/></a>Aluminum can be damaged by repeated exposure to salt water.  It is also susceptible galvanic corrosion.  [Galvanic corrosion](https://en.wikipedia.org/wiki/Galvanic_corrosion) occurs when dissimular metals are placed in contact electrically in the presents of an [electrolyte](https://en.wikipedia.org/wiki/Electrolyte).  This can occur when aluminum touches stainless steel, copper, or titanium in the presents of water.  The corroded form of aluminum is a white powder."
   ]
  },
  {
   "cell_type": "markdown",
   "metadata": {
    "slideshow": {
     "slide_type": "slide"
    }
   },
   "source": [
    "## Chemical Weaknesses"
   ]
  },
  {
   "cell_type": "markdown",
   "metadata": {},
   "source": [
    "\n",
    "<audio controls data-autoplay preload>\n",
    " <source src=\"https://github.com/damontallen/Construction-materials/raw/master/Lecture_Audio/Week_2/Aluminum/Aluminum-Chemical%20Weaknesses.mp3\"\n",
    "         type='audio/mp3'>\n",
    " <p>Your user agent does not support the HTML5 Audio element or the files is missing.</p>\n",
    "</audio>"
   ]
  },
  {
   "cell_type": "markdown",
   "metadata": {},
   "source": [
    "Aluminum should not be placed in contact with [strong acids](https://simple.wikipedia.org/wiki/Strong_acid).  For instance HCl is one of the compounds that you must avoid having Aluminum exposed to.  What happens is that the protective oxide coating will dissolve or otherwise become damaged.  This exposes fresh aluminum to react with oxygen or chlorine ions.  [Chlorides](https://en.wikipedia.org/wiki/Chloride) should be avoided in general when dealing with aluminum because of aluminum's reactivity.  If aluminum needs to be in contact with, concrete containing chloride salts for instance, then the aluminum needs to be protected with some kind of protective paint.  It should be noted that chlorides are also bad for typical concrete, and steel."
   ]
  },
  {
   "cell_type": "markdown",
   "metadata": {
    "slideshow": {
     "slide_type": "slide"
    }
   },
   "source": [
    "## Safe Operating Temperatures"
   ]
  },
  {
   "cell_type": "markdown",
   "metadata": {},
   "source": [
    "\n",
    "<audio controls data-autoplay preload>\n",
    " <source src=\"https://github.com/damontallen/Construction-materials/raw/master/Lecture_Audio/Week_2/Aluminum/Aluminum-Safe%20Operating%20Temperatures.mp3\"\n",
    "         type='audio/mp3'>\n",
    " <p>Your user agent does not support the HTML5 Audio element or the files is missing.</p>\n",
    "</audio>"
   ]
  },
  {
   "cell_type": "markdown",
   "metadata": {},
   "source": [
    "\n",
    "Aluminum can begin to lose its protective oxide coating above $530 ^\\circ F$ and will melt at around $1,200 ^\\circ F$.  Aluminum is actually highly reactive with oxygen but the oxide that it forms will bond with and shield the main body of aluminum.  Aluminum is so highly reactive it is used in some rocket fuels.  Since better materials are available for working at high temperatures so it should only be used below $400 - 500 ^\\circ F$.  \n",
    "\n",
    "Aluminum also expands nearly twice as much as steel when subjected to temperature variations.  This means that differential expansion between aluminum and what ever it is connected to needs to be allowed for.  This is easy enough to do in design but it does need to be considered.  If it is not allowed for then if aluminum pieces are connected to each other and a separate, more stable, surface, then the aluminum pieces are likely to be pulled apart by moderate temperature changes.\n",
    "\n",
    "[Video of homemade aluminum rocket fuel explosion.](https://www.youtube.com/watch?v=mIrpsW5uD8o)"
   ]
  },
  {
   "cell_type": "markdown",
   "metadata": {
    "slideshow": {
     "slide_type": "slide"
    }
   },
   "source": [
    "## Material Tests"
   ]
  },
  {
   "cell_type": "markdown",
   "metadata": {},
   "source": [
    "\n",
    "<audio controls data-autoplay preload>\n",
    " <source src=\"https://github.com/damontallen/Construction-materials/raw/master/Lecture_Audio/Week_2/Aluminum/Aluminum-Material%20Tests.mp3\"\n",
    "         type='audio/mp3'>\n",
    " <p>Your user agent does not support the HTML5 Audio element or the files is missing.</p>\n",
    "</audio>"
   ]
  },
  {
   "cell_type": "markdown",
   "metadata": {},
   "source": [
    "<a href = \"https://en.wikipedia.org/wiki/Yield_%28engineering%29\"> <img src=\"https://upload.wikimedia.org/wikipedia/commons/thumb/8/8e/Metal_yield.svg/600px-Metal_yield.svg.png\" alt = \"Typical aluminum stress-strain curve\" Title=\"Typical Aluminum Stress-Strain\"  style=\"max-width:200px; max-height:200px; border:1px solid blue; float:right; margin-left:10px;\"/></a>The main material tests that are relevant to aluminum are again the tensile test.  Other strength properties of aluminum are related to this value and therefore many of those values can be derived from the yield and ultimate tensile strength values.  The curve you see to the right is more or less qualitatively accurate for aluminum alloys.  The 0.2% offset you see is also commonly in determining a standard value for yield strength of materials that do not have a clearly defined plastic region on the stress-strain curve.\n",
    "\n",
    "In order to calculate the 0.2% offset yield a line is drawn parallel to the elastic slope starting at a value of 0.2% strain.  The yield stress is then defined as the value of stress found where the stress-strain curve intersects this offset line.\n",
    "\n",
    "The Poisson's ratio of aluminum is seldom tested for since the values are readily available based on the specific alloy."
   ]
  },
  {
   "cell_type": "markdown",
   "metadata": {
    "slideshow": {
     "slide_type": "slide"
    }
   },
   "source": [
    "## Quality Levels"
   ]
  },
  {
   "cell_type": "markdown",
   "metadata": {},
   "source": [
    "\n",
    "<audio controls data-autoplay preload>\n",
    " <source src=\"https://github.com/damontallen/Construction-materials/raw/master/Lecture_Audio/Week_2/Aluminum/Aluminum-Quality%20Levels.mp3\"\n",
    "         type='audio/mp3'>\n",
    " <p>Your user agent does not support the HTML5 Audio element or the files is missing.</p>\n",
    "</audio>"
   ]
  },
  {
   "cell_type": "markdown",
   "metadata": {},
   "source": [
    "There are many aluminum alloys as previously indicated but it can also have many different types of finishes.  These come in both mechanically generated, chemically treated, and anodized varieties.  These finishes are useful when needing a particular architectural effect.  The mechanical finishes are specified with a prefix of M, the chemical finishes are prefixed with the letter C, and anodic finishes are specified with an A prefix.  The most important ones to remember are M10, C10, and A10 due to the face that the indicate unspecified.  If a different designation is indicated then it will need to be verified.  \n",
    "\n",
    "*Listing of available finishes ([pdf](http://www.unitedskys.com/downloads/Linetec_Anodizing_Chart_Specs.pdf)).*"
   ]
  },
  {
   "cell_type": "markdown",
   "metadata": {
    "slideshow": {
     "slide_type": "slide"
    }
   },
   "source": [
    "## Residential Applications"
   ]
  },
  {
   "cell_type": "markdown",
   "metadata": {},
   "source": [
    "\n",
    "<audio controls data-autoplay preload>\n",
    " <source src=\"https://github.com/damontallen/Construction-materials/raw/master/Lecture_Audio/Week_2/Aluminum/Aluminum-Residential%20Applications.mp3\"\n",
    "         type='audio/mp3'>\n",
    " <p>Your user agent does not support the HTML5 Audio element or the files is missing.</p>\n",
    "</audio>"
   ]
  },
  {
   "cell_type": "markdown",
   "metadata": {},
   "source": [
    "Aluminum is used in residential arena now days as cladding steel sheet metal to provide corrosion resistance.  You can still find it in existing homes used for window frames but these are less common due to concerns over excessive thermal conductivity.  \n",
    "\n",
    "Aluminum is also used in any location where a corrosion resistant material would be useful, i.e. flashing, gutter systems, and screens.  The value of this use case is that since it resists corrosion it has an increased lifespan.  This is particularly useful in applications that would be difficult to repair or otherwise inaccessible.  Valley flashing under asphalt shingles is an example of this.  "
   ]
  },
  {
   "cell_type": "markdown",
   "metadata": {
    "slideshow": {
     "slide_type": "slide"
    }
   },
   "source": [
    "## Commercial Applications"
   ]
  },
  {
   "cell_type": "markdown",
   "metadata": {},
   "source": [
    "\n",
    "<audio controls data-autoplay preload>\n",
    " <source src=\"https://github.com/damontallen/Construction-materials/raw/master/Lecture_Audio/Week_2/Aluminum/Aluminum-Commercial%20Applications.mp3\"\n",
    "         type='audio/mp3'>\n",
    " <p>Your user agent does not support the HTML5 Audio element or the files is missing.</p>\n",
    "</audio>"
   ]
  },
  {
   "cell_type": "markdown",
   "metadata": {},
   "source": [
    "<a href = \"https://commons.wikimedia.org/wiki/File:Garde_corps_autoportant_aluminium_versirail_2.jpg\"> <img src=\"https://upload.wikimedia.org/wikipedia/commons/thumb/c/c3/Garde_corps_autoportant_aluminium_versirail_2.jpg/800px-Garde_corps_autoportant_aluminium_versirail_2.jpg\" alt = \"Aluminum handrail image\" Title=\"Aluminum handrail\"  style=\"max-width:200px; max-height:200px; border:1px solid blue; float:right; margin-left:10px;\"/></a>Applications in commercial buildings, like with steel, are more numerous.  Drop ceilings, duct work, and handrails are just a few of the additional locations that aluminum is used more frequently in commercial strictures vs. residential structures.  The durable finishes and corrosion resistance make for an ideal maintenance free material."
   ]
  },
  {
   "cell_type": "markdown",
   "metadata": {
    "slideshow": {
     "slide_type": "slide"
    }
   },
   "source": [
    "## Industrial Applications"
   ]
  },
  {
   "cell_type": "markdown",
   "metadata": {},
   "source": [
    "\n",
    "<audio controls data-autoplay preload>\n",
    " <source src=\"https://github.com/damontallen/Construction-materials/raw/master/Lecture_Audio/Week_2/Aluminum/Aluminum-Industrial%20Applications.mp3\"\n",
    "         type='audio/mp3'>\n",
    " <p>Your user agent does not support the HTML5 Audio element or the files is missing.</p>\n",
    "</audio>"
   ]
  },
  {
   "cell_type": "markdown",
   "metadata": {},
   "source": [
    "<a href = \"https://en.wikipedia.org/wiki/Overhead_power_line\"> <img src=\"https://upload.wikimedia.org/wikipedia/commons/thumb/9/97/Pylon_ds.jpg/344px-Pylon_ds.jpg\" alt = \"Aluminum powerlines image\" Title=\"Aluminum Cable\"  style=\"max-width:200px; max-height:200px; border:1px solid blue; float:right; margin-left:10px;\"/></a>Aluminum is used in the industrial setting as more or less in a similar fashion as what is seen in both residential and commercial settings.  One additional application though is the use of aluminum in high power lines.  These lines are exposed to the weather and thus need to be resistant to corrosion.  They are still susceptible to fatigue but are more readily accessible for inspection and repair."
   ]
  },
  {
   "cell_type": "markdown",
   "metadata": {
    "slideshow": {
     "slide_type": "slide"
    }
   },
   "source": [
    "## Cost Examples"
   ]
  },
  {
   "cell_type": "markdown",
   "metadata": {},
   "source": [
    "\n",
    "<audio controls data-autoplay preload>\n",
    " <source src=\"https://github.com/damontallen/Construction-materials/raw/master/Lecture_Audio/Week_2/Aluminum/Aluminum-Cost%20Examples.mp3\"\n",
    "         type='audio/mp3'>\n",
    " <p>Your user agent does not support the HTML5 Audio element or the files is missing.</p>\n",
    "</audio>"
   ]
  },
  {
   "cell_type": "markdown",
   "metadata": {},
   "source": [
    "Aluminum is sold in many shapes and sizes.  It can come in the form of sheets, tubes, extruded parts, and nails among others.  The prices of each of these are dependent on the raw material cost of aluminum but are also strongly dependent on the working process needed to form the final product.  There is not a good rule of thumb that can be used in estimating prices of aluminum products in this case.  Just as a counter example you might think that aluminum flashing would be more expensive than steel flashing.  On average you might find a roll of aluminum flashing (16\"x50') for \\$51.40 but that is not substantially more than the average price for the same size roll in steel, \\$50.10.  The reason the prices are so close is that less aluminum is necessary to achieve a comparable durability.\n",
    "\n",
    "*(Prices are estimated based on observed pricing trends on June 21, 2015)*"
   ]
  },
  {
   "cell_type": "markdown",
   "metadata": {
    "slideshow": {
     "slide_type": "slide"
    }
   },
   "source": [
    "## Material Sources"
   ]
  },
  {
   "cell_type": "markdown",
   "metadata": {},
   "source": [
    "\n",
    "<audio controls data-autoplay preload>\n",
    " <source src=\"https://github.com/damontallen/Construction-materials/raw/master/Lecture_Audio/Week_2/Aluminum/Aluminum-Material%20Sources.mp3\"\n",
    "         type='audio/mp3'>\n",
    " <p>Your user agent does not support the HTML5 Audio element or the files is missing.</p>\n",
    "</audio>"
   ]
  },
  {
   "cell_type": "markdown",
   "metadata": {},
   "source": [
    "Depending on the quantity and product you can purchase aluminum from [commercial retailers](http://lmgtfy.com/?q=home+improvement+stores), [wholesalers](http://lmgtfy.com/?q=aluminum+wholesale), and [manufacturers](http://lmgtfy.com/?q=aluminum+manufacturer).  This is such a generic list because of the wide variety of products that are made out of aluminum.  It is more instructive to consider sources based on products in this case rather than material.\n",
    "\n",
    "Separate aluminum beams are likely only to be available form manufacturers and [fabricators](http://lmgtfy.com/?q=aluminum+fabrication+florida).  Assemblies containing aluminum are likely only at retailers and wholesalers.  Products like aluminum paneling, depending on order quantity, can be purchased from retailers, wholesalers, and manufacturers."
   ]
  },
  {
   "cell_type": "markdown",
   "metadata": {
    "slideshow": {
     "slide_type": "slide"
    }
   },
   "source": [
    "## Examples of Installation Tools"
   ]
  },
  {
   "cell_type": "markdown",
   "metadata": {},
   "source": [
    "\n",
    "<audio controls data-autoplay preload>\n",
    " <source src=\"https://github.com/damontallen/Construction-materials/raw/master/Lecture_Audio/Week_2/Aluminum/Aluminum-Examples%20of%20Installation%20Tools.mp3\"\n",
    "         type='audio/mp3'>\n",
    " <p>Your user agent does not support the HTML5 Audio element or the files is missing.</p>\n",
    "</audio>"
   ]
  },
  {
   "cell_type": "markdown",
   "metadata": {},
   "source": [
    "You are more likely to personally install a product made from aluminum than steel simply due to the lightweight nature of the material and its ubiquity.  To install an assembly that contains a substantial amount of aluminum you are likely to need wrenches and/or screwdrivers.  Assemblies containing aluminum are generally non-structural and as such they will likely be fixtures like wall mounted handrails, small cabinets, or light fixtures.  You are personally less likely to be installing larger items though you will have employees that might.  The set of tools involved is mostly going to stay the same though heavier tools might become needed, like tools for working with concrete or even cranes if the weight is great enough."
   ]
  },
  {
   "cell_type": "markdown",
   "metadata": {
    "slideshow": {
     "slide_type": "slide"
    }
   },
   "source": [
    "## Famous Failures"
   ]
  },
  {
   "cell_type": "markdown",
   "metadata": {},
   "source": [
    "\n",
    "<audio controls data-autoplay preload>\n",
    " <source src=\"https://github.com/damontallen/Construction-materials/raw/master/Lecture_Audio/Week_2/Aluminum/Aluminum-Famous%20Failures.mp3\"\n",
    "         type='audio/mp3'>\n",
    " <p>Your user agent does not support the HTML5 Audio element or the files is missing.</p>\n",
    "</audio>"
   ]
  },
  {
   "cell_type": "markdown",
   "metadata": {},
   "source": [
    "<a href = \"https://en.wikipedia.org/wiki/Aloha_Airlines_Flight_243\"> <img src=\"https://upload.wikimedia.org/wikipedia/commons/1/1e/Aloha_Airlines_Flight_243_fuselage.png\" alt = \"Damaged aircraft fuselage image\" Title=\"Aluminum Fatigue Failure\"  style=\"max-width:200px; max-height:200px; border:1px solid blue; float:right; margin-left:10px;\"/></a>One of the more famous instances of a failure of aluminum due to fatigue is that of Aloha Airlines Flight 234.  The plane suffered explosive decompression when an 18 foot long section of the fuselage separated from the aircraft.  The National Transportation Safety Board (NTSB) concluded that the accident was caused by metal fatigue exacerbated by [crevice corrosion](https://en.wikipedia.org/wiki/Crevice_corrosion). The plane was operated in an environment where it was repeatedly exposed to salt and humidity.  Additionally a passenger boarding the plane noticed a crack in the fuselage but failed to report it.  Despite the substantial damage to the aircraft only one person died.\n",
    "\n",
    "This was not a construction failure but I am including it since it is such a vivid example of failure due to fatigue in aluminum.\n"
   ]
  },
  {
   "cell_type": "markdown",
   "metadata": {
    "slideshow": {
     "slide_type": "slide"
    }
   },
   "source": [
    "#References"
   ]
  },
  {
   "cell_type": "markdown",
   "metadata": {},
   "source": [
    "[UF Class website](https://ufl.instructure.com/courses/) \n",
    "\n",
    "[Github.io version of course website](http://damontallen.github.io/Construction-materials/) *(Do not use this link if you are taking this course in Summer A or B.)*\n",
    "\n",
    "\n",
    "[IPython.org](http://ipython.org/) *(IPython is the opensource software used in the development of much of this course.)*\n",
    "\n",
    "[Complete Software List](http://nbviewer.ipython.org/github/damontallen/Construction-materials/blob/master/Resources.ipynb)\n",
    "\n",
    "##Report any problems\n",
    "\n",
    "[Issues](https://github.com/damontallen/Construction-materials/issues) Please report any problems that occured during the viewing of this or any other lecture.\n",
    "\n",
    "Alternative Reporting - Email <a href=\"mailto:damontallen@gmail.com?Subject=Construction%20Materials%20Lecture%20Problems\" target=\"_top\">damontallen@gmail.com</a>"
   ]
  }
 ],
 "metadata": {
  "celltoolbar": "Slideshow",
  "kernelspec": {
   "display_name": "Python 3",
   "language": "python",
   "name": "python3"
  },
  "language_info": {
   "codemirror_mode": {
    "name": "ipython",
    "version": 3
   },
   "file_extension": ".py",
   "mimetype": "text/x-python",
   "name": "python",
   "nbconvert_exporter": "python",
   "pygments_lexer": "ipython3",
   "version": "3.4.0"
  }
 },
 "nbformat": 4,
 "nbformat_minor": 0
}
