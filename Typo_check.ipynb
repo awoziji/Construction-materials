{
 "cells": [
  {
   "cell_type": "code",
   "execution_count": 4,
   "metadata": {
    "collapsed": false
   },
   "outputs": [
    {
     "data": {
      "text/plain": [
       "['Aluminum.ipynb',\n",
       " 'Asphalt.ipynb',\n",
       " 'Carpet.ipynb',\n",
       " 'Concrete.ipynb',\n",
       " 'Course General Information.ipynb',\n",
       " 'Course Introduction.ipynb',\n",
       " 'Create Empty Slideshow.ipynb',\n",
       " 'Flooring.ipynb',\n",
       " 'Glass.ipynb',\n",
       " 'Greetings.ipynb',\n",
       " 'Gypsum.ipynb',\n",
       " 'Img tag gererator.ipynb',\n",
       " 'Masonry.ipynb',\n",
       " 'Materials.ipynb',\n",
       " 'Moisture.ipynb',\n",
       " 'Online course success.ipynb',\n",
       " 'Paint.ipynb',\n",
       " 'Plastic.ipynb',\n",
       " 'Resources.ipynb',\n",
       " 'Steel.ipynb',\n",
       " 'Sustainability.ipynb',\n",
       " 'Topic Layout for github.io.ipynb',\n",
       " 'Wood.ipynb']"
      ]
     },
     "execution_count": 4,
     "metadata": {},
     "output_type": "execute_result"
    }
   ],
   "source": [
    "f = !ls\n",
    "f = [file for file in f if '.ipynb' in file]\n",
    "f = [file for file in f if '~' not in file]\n",
    "f.remove(\"Typo_check.ipynb\")\n",
    "f"
   ]
  },
  {
   "cell_type": "code",
   "execution_count": 38,
   "metadata": {
    "collapsed": true
   },
   "outputs": [],
   "source": [
    "import re\n",
    "#test = re.compile('\"#+\\w')\n",
    "test = re.compile('<sup><a[^>]+>\\d</a></sup>')"
   ]
  },
  {
   "cell_type": "code",
   "execution_count": 40,
   "metadata": {
    "collapsed": false
   },
   "outputs": [
    {
     "name": "stdout",
     "output_type": "stream",
     "text": [
      "\n",
      "\n",
      "Sustainability.ipynb\n",
      "\n",
      "\n",
      "134:     \">Having an EPD® for a product does not imply that the declared product is environmentally superior to alternatives — it is simply a transparent declaration of the life-cycle environmental impact. <sup><a href=\\\"#fn1\\\" id=\\\"ref1\\\">1</a></sup>\\n\",\n",
      "192:     \">CFI is an improvised approach which evaluates the performance of global warming effect for a given building project as a result or consequences of waste generation during construction phase. This analysis tool can be applied for future building projects in assessing environmental performance, thus, affecting waste management practice and improving awareness of waste minimization among construction players. <sup><a href=\\\"#fn2\\\" id=\\\"ref2\\\">2</a></sup>\\n\",\n",
      "289:     \">In fact, 88 of the Fortune 100 companies are already using LEED.<sup><a href=\\\"#fn3\\\" id=\\\"re32\\\">3</a></sup>\\n\",\n"
     ]
    }
   ],
   "source": [
    "titles = []\n",
    "for file in f:\n",
    "    with open(file,'r') as notebook:\n",
    "        text = notebook.read()\n",
    "    if len(test.findall(text))==0:\n",
    "        continue\n",
    "    print(\"\\n\\n%s\\n\\n\"%file)\n",
    "    for index, txt in enumerate(text.splitlines()):\n",
    "        if len(test.findall(txt))!=0:# and len(txt)<80:\n",
    "            print(\"%d: %s\"%(index,txt))\n",
    "            titles.append(txt)\n",
    "        #elif len(test.findall(txt))!=0:\n",
    "            #print(\"\\nToo long test:: %s\\n\"%txt)\n",
    "            #pass\n",
    "            "
   ]
  },
  {
   "cell_type": "code",
   "execution_count": 17,
   "metadata": {
    "collapsed": false
   },
   "outputs": [
    {
     "data": {
      "text/plain": [
       "{'    \"#####Concrete\\\\n\",',\n",
       " '    \"#####Misc.\\\\n\",',\n",
       " '    \"####Assembled Systems\"',\n",
       " '    \"####Basic Materials\"',\n",
       " '    \"####Others\\\\n\",',\n",
       " '    \"####Special Lectures\"',\n",
       " '    \"####Wikipedia\\\\n\",',\n",
       " '    \"###Additional References\\\\n\",',\n",
       " '    \"###Base Create Audio File Path\"',\n",
       " '    \"###Brief History\\\\n\",',\n",
       " '    \"###Browser Add-ons\\\\n\",',\n",
       " '    \"###Compression\\\\n\",',\n",
       " '    \"###Edit These!\\\\n\",',\n",
       " '    \"###Generate Table of Content\"',\n",
       " '    \"###Installation\\\\n\",',\n",
       " '    \"###Load Slide-show Templates and Build Lecture\"',\n",
       " '    \"###Make Blank Lecture\"',\n",
       " '    \"###Make Lecture Audio Entry\"',\n",
       " '    \"###Manufacturing\\\\n\",',\n",
       " '    \"###Other Sources\\\\n\",',\n",
       " '    \"###Pick Slide Template\"',\n",
       " '    \"###Set Program Paths\"',\n",
       " '    \"###Slide Templates\"',\n",
       " '    \"###Structural Panels\\\\n\",',\n",
       " '    \"###Temperature Effects:\\\\n\",',\n",
       " '    \"###Timber - Hard Wood vs Soft Wood\\\\n\",',\n",
       " '    \"###Units of Measure\\\\n\",',\n",
       " '    \"###Useful Tip:\\\\n\",',\n",
       " '    \"###Wikipedia\\\\n\",',\n",
       " '    \"##Additional References\"',\n",
       " '    \"##Additional References\\\\n\",',\n",
       " '    \"##Embed YOUTUBE VIDEO HERE\"',\n",
       " '    \"##Final Notes\\\\n\",',\n",
       " '    \"##How to be successful in a course with online lectures.\"',\n",
       " '    \"##Introduction\"',\n",
       " '    \"##Introduction\\\\n\",',\n",
       " '    \"##Previously Used Programs in Other Course Development\"',\n",
       " '    \"##Report any problems\\\\n\",',\n",
       " '    \"##Set the Lecture Variables\"',\n",
       " '    \"##Strength\\\\n\",',\n",
       " '    \"##Types of Plastics\\\\n\",',\n",
       " '    \"##Using Canvas\\\\n\",',\n",
       " '    \"##Wrapping Up\\\\n\",',\n",
       " '    \"#Fix audio path\\\\n\",',\n",
       " '    \"#Image url\\\\n\",',\n",
       " '    \"#References\"',\n",
       " '    \"#Webpage where the image was found\\\\n\",',\n",
       " '    \"#slide_template = assembeled_slide_topics\\\\n\",',\n",
       " '    \"#slide_template = basic_slide_topics\\\\n\",',\n",
       " '    \"#slide_template = sustainability_topics\\\\n\",'}"
      ]
     },
     "execution_count": 17,
     "metadata": {},
     "output_type": "execute_result"
    }
   ],
   "source": [
    "titles = set(titles)\n",
    "titles"
   ]
  },
  {
   "cell_type": "code",
   "execution_count": 19,
   "metadata": {
    "collapsed": false
   },
   "outputs": [
    {
     "data": {
      "text/plain": [
       "['    \"###Timber - Hard Wood vs Soft Wood\\\\n\",',\n",
       " '    \"#Image url\\\\n\",',\n",
       " '    \"##Wrapping Up\\\\n\",',\n",
       " '    \"##Additional References\\\\n\",',\n",
       " '    \"####Basic Materials\"',\n",
       " '    \"###Slide Templates\"',\n",
       " '    \"###Additional References\\\\n\",',\n",
       " '    \"###Temperature Effects:\\\\n\",',\n",
       " '    \"###Base Create Audio File Path\"',\n",
       " '    \"##Embed YOUTUBE VIDEO HERE\"',\n",
       " '    \"###Other Sources\\\\n\",',\n",
       " '    \"###Edit These!\\\\n\",',\n",
       " '    \"###Manufacturing\\\\n\",',\n",
       " '    \"#Fix audio path\\\\n\",',\n",
       " '    \"###Make Blank Lecture\"',\n",
       " '    \"##Additional References\"',\n",
       " '    \"####Wikipedia\\\\n\",',\n",
       " '    \"#####Misc.\\\\n\",',\n",
       " '    \"####Special Lectures\"',\n",
       " '    \"###Make Lecture Audio Entry\"',\n",
       " '    \"##Final Notes\\\\n\",',\n",
       " '    \"##Types of Plastics\\\\n\",',\n",
       " '    \"##Introduction\"',\n",
       " '    \"###Wikipedia\\\\n\",',\n",
       " '    \"###Structural Panels\\\\n\",',\n",
       " '    \"###Load Slide-show Templates and Build Lecture\"',\n",
       " '    \"###Installation\\\\n\",',\n",
       " '    \"##Introduction\\\\n\",',\n",
       " '    \"###Generate Table of Content\"',\n",
       " '    \"##Previously Used Programs in Other Course Development\"',\n",
       " '    \"##Using Canvas\\\\n\",',\n",
       " '    \"###Useful Tip:\\\\n\",',\n",
       " '    \"##Strength\\\\n\",',\n",
       " '    \"###Brief History\\\\n\",',\n",
       " '    \"###Browser Add-ons\\\\n\",',\n",
       " '    \"###Units of Measure\\\\n\",',\n",
       " '    \"###Compression\\\\n\",',\n",
       " '    \"##How to be successful in a course with online lectures.\"',\n",
       " '    \"###Pick Slide Template\"',\n",
       " '    \"#Webpage where the image was found\\\\n\",',\n",
       " '    \"#####Concrete\\\\n\",',\n",
       " '    \"#References\"',\n",
       " '    \"##Report any problems\\\\n\",',\n",
       " '    \"####Assembled Systems\"',\n",
       " '    \"####Others\\\\n\",',\n",
       " '    \"##Set the Lecture Variables\"',\n",
       " '    \"###Set Program Paths\"']"
      ]
     },
     "execution_count": 19,
     "metadata": {},
     "output_type": "execute_result"
    }
   ],
   "source": [
    "titles = [title for title in list(titles) if \"=\" not in title]\n",
    "titles"
   ]
  },
  {
   "cell_type": "code",
   "execution_count": 25,
   "metadata": {
    "collapsed": false
   },
   "outputs": [],
   "source": [
    "pound = re.compile('#+')\n",
    "change = dict()\n",
    "for title in titles:\n",
    "    found = pound.findall(title)[0]\n",
    "    change[title] = title.replace(found,found+' ')"
   ]
  },
  {
   "cell_type": "code",
   "execution_count": 30,
   "metadata": {
    "collapsed": false
   },
   "outputs": [
    {
     "data": {
      "text/plain": [
       "4"
      ]
     },
     "execution_count": 30,
     "metadata": {},
     "output_type": "execute_result"
    }
   ],
   "source": [
    "a = \"1 1 1 3 1\"\n",
    "li=a.split(\" \")\n",
    "li.count('1')\n"
   ]
  },
  {
   "cell_type": "code",
   "execution_count": 32,
   "metadata": {
    "collapsed": true
   },
   "outputs": [],
   "source": [
    "import shutil"
   ]
  },
  {
   "cell_type": "code",
   "execution_count": 36,
   "metadata": {
    "collapsed": false
   },
   "outputs": [
    {
     "name": "stdout",
     "output_type": "stream",
     "text": [
      "773:     \"#References\"\n",
      "789:     \"##Report any problems\\n\",\n",
      "466:     \"#References\"\n",
      "482:     \"##Report any problems\\n\",\n",
      "253:     \"#References\"\n",
      "269:     \"##Report any problems\\n\",\n",
      "804:     \"####Wikipedia\\n\",\n",
      "821:     \"#####Misc.\\n\",\n",
      "81:     \"##Introduction\\n\",\n",
      "107:     \"###Brief History\\n\",\n",
      "811:     \"#####Concrete\\n\",\n",
      "771:     \"#References\"\n",
      "787:     \"##Report any problems\\n\",\n",
      "324:     \"#References\"\n",
      "340:     \"##Report any problems\\n\",\n",
      "344:     \"#References\"\n",
      "360:     \"##Report any problems\\n\",\n",
      "79:     \"####Basic Materials\"\n",
      "231:     \"###Set Program Paths\"\n",
      "61:     \"###Slide Templates\"\n",
      "38:     \"###Base Create Audio File Path\"\n",
      "274:     \"#Fix audio path\\n\",\n",
      "138:     \"####Special Lectures\"\n",
      "305:     \"###Make Lecture Audio Entry\"\n",
      "254:     \"###Load Slide-show Templates and Build Lecture\"\n",
      "198:     \"###Generate Table of Content\"\n",
      "330:     \"###Make Blank Lecture\"\n",
      "176:     \"###Pick Slide Template\"\n",
      "18:     \"##Set the Lecture Variables\"\n",
      "120:     \"####Assembled Systems\"\n",
      "372:     \"###Installation\\n\",\n",
      "539:     \"#References\"\n",
      "555:     \"##Report any problems\\n\",\n",
      "335:     \"##Additional References\\n\",\n",
      "343:     \"###Other Sources\\n\",\n",
      "337:     \"###Wikipedia\\n\",\n",
      "304:     \"#References\"\n",
      "320:     \"##Report any problems\\n\",\n",
      "272:     \"##Embed YOUTUBE VIDEO HERE\"\n",
      "261:     \"##Using Canvas\\n\",\n",
      "83:     \"###Useful Tip:\\n\",\n",
      "320:     \"#References\"\n",
      "336:     \"##Report any problems\\n\",\n",
      "72:     \"###Browser Add-ons\\n\",\n",
      "357:     \"#References\"\n",
      "373:     \"##Report any problems\\n\",\n",
      "20:     \"#Image url\\n\",\n",
      "18:     \"#Webpage where the image was found\\n\",\n",
      "737:     \"###Additional References\\n\",\n",
      "739:     \"####Wikipedia\\n\",\n",
      "81:     \"##Introduction\\n\",\n",
      "366:     \"##Strength\\n\",\n",
      "706:     \"#References\"\n",
      "722:     \"##Report any problems\\n\",\n",
      "748:     \"####Others\\n\",\n",
      "105:     \"###Units of Measure\\n\",\n",
      "607:     \"###Compression\\n\",\n",
      "690:     \"#References\"\n",
      "706:     \"##Report any problems\\n\",\n",
      "319:     \"#References\"\n",
      "335:     \"##Report any problems\\n\",\n",
      "6:     \"##How to be successful in a course with online lectures.\"\n",
      "40:     \"#References\"\n",
      "56:     \"##Report any problems\\n\",\n",
      "394:     \"##Additional References\"\n",
      "363:     \"#References\"\n",
      "379:     \"##Report any problems\\n\",\n",
      "197:     \"##Wrapping Up\\n\",\n",
      "142:     \"##Types of Plastics\\n\",\n",
      "85:     \"##Introduction\\n\",\n",
      "219:     \"#References\"\n",
      "235:     \"##Report any problems\\n\",\n",
      "56:     \"##Previously Used Programs in Other Course Development\"\n",
      "286:     \"###Temperature Effects:\\n\",\n",
      "795:     \"#References\"\n",
      "811:     \"##Report any problems\\n\",\n",
      "774:     \"##Final Notes\\n\",\n",
      "74:     \"##Introduction\"\n",
      "373:     \"#References\"\n",
      "389:     \"##Report any problems\\n\",\n",
      "54:     \"###Edit These!\\n\",\n",
      "98:     \"###Timber - Hard Wood vs Soft Wood\\n\",\n",
      "118:     \"###Manufacturing\\n\",\n",
      "108:     \"###Structural Panels\\n\",\n",
      "85:     \"##Introduction\\n\",\n",
      "905:     \"#References\"\n",
      "921:     \"##Report any problems\\n\",\n"
     ]
    }
   ],
   "source": [
    "for file in f:\n",
    "    with open(file,'r') as notebook:\n",
    "        text = notebook.read()\n",
    "    txt = text.splitlines()\n",
    "    update = txt.copy()\n",
    "    for key, value in change.items():\n",
    "        for index, line in enumerate(txt):\n",
    "            if key in line:\n",
    "                print(\"%d: %s\"%(index, key))\n",
    "                update[index]=value\n",
    "    if update!=txt:\n",
    "        shutil.move(file,'./backup/'+file)\n",
    "        new_text = '\\n'.join(update)\n",
    "        with open(file,'w') as notebook:\n",
    "            notebook.write(new_text)"
   ]
  }
 ],
 "metadata": {
  "kernelspec": {
   "display_name": "Python 3",
   "language": "python",
   "name": "python3"
  },
  "language_info": {
   "codemirror_mode": {
    "name": "ipython",
    "version": 3
   },
   "file_extension": ".py",
   "mimetype": "text/x-python",
   "name": "python",
   "nbconvert_exporter": "python",
   "pygments_lexer": "ipython3",
   "version": "3.4.0"
  }
 },
 "nbformat": 4,
 "nbformat_minor": 0
}
