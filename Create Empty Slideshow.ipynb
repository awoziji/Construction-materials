{
 "cells": [
  {
   "cell_type": "code",
   "execution_count": 1,
   "metadata": {
    "collapsed": true
   },
   "outputs": [],
   "source": [
    "Slide_show_name = \"Steel\"\n",
    "number_of_slides = 8"
   ]
  },
  {
   "cell_type": "code",
   "execution_count": 2,
   "metadata": {
    "collapsed": true
   },
   "outputs": [],
   "source": [
    "path = \"./Slideshow_source/\"\n",
    "header = path+\"Blank Lecture Header.txt\"\n",
    "slide = path+\"Blank Lecture Main Slides.txt\"\n",
    "footer = path+\"Blank Lecture Footer.txt\""
   ]
  },
  {
   "cell_type": "code",
   "execution_count": 3,
   "metadata": {
    "collapsed": false
   },
   "outputs": [],
   "source": [
    "original_title = \"Lecture Title\"\n",
    "with open(header, 'r') as f:\n",
    "    txt = f.read()\n",
    "    txt = txt.replace(original_title, Slide_show_name)\n",
    "with open(slide, 'r') as f:\n",
    "    slide_txt = f.read()\n",
    "for i in range(number_of_slides):\n",
    "    slide = slide_txt.replace(\"Slide Title\", \"Slide %d Title\"%(i+1))\n",
    "    txt += slide\n",
    "with open(footer, 'r') as f:\n",
    "    txt += f.read()"
   ]
  },
  {
   "cell_type": "code",
   "execution_count": 4,
   "metadata": {
    "collapsed": true
   },
   "outputs": [],
   "source": [
    "with open(Slide_show_name+\".ipynb\",'w')as f:\n",
    "    f.write(txt)"
   ]
  }
 ],
 "metadata": {
  "kernelspec": {
   "display_name": "Python 3",
   "language": "python",
   "name": "python3"
  },
  "language_info": {
   "codemirror_mode": {
    "name": "ipython",
    "version": 3
   },
   "file_extension": ".py",
   "mimetype": "text/x-python",
   "name": "python",
   "nbconvert_exporter": "python",
   "pygments_lexer": "ipython3",
   "version": "3.4.0"
  }
 },
 "nbformat": 4,
 "nbformat_minor": 0
}
