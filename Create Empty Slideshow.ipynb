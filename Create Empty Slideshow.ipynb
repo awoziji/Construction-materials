{
 "cells": [
  {
   "cell_type": "code",
   "execution_count": 1,
   "metadata": {
    "collapsed": true
   },
   "outputs": [],
   "source": [
    "import os"
   ]
  },
  {
   "cell_type": "markdown",
   "metadata": {},
   "source": [
    "##Set the Lecture Variables"
   ]
  },
  {
   "cell_type": "code",
   "execution_count": 2,
   "metadata": {
    "collapsed": true
   },
   "outputs": [],
   "source": [
    "Slide_show_name = \"Steel\"\n",
    "Week_number = 1\n",
    "number_of_slides = 8"
   ]
  },
  {
   "cell_type": "markdown",
   "metadata": {},
   "source": [
    "###Set Program Paths"
   ]
  },
  {
   "cell_type": "code",
   "execution_count": 3,
   "metadata": {
    "collapsed": true
   },
   "outputs": [],
   "source": [
    "path = \"./Slideshow_source/\"\n",
    "header = path+\"Blank Lecture Header.txt\"\n",
    "slide = path+\"Blank Lecture Main Slides.txt\"\n",
    "footer = path+\"Blank Lecture Footer.txt\""
   ]
  },
  {
   "cell_type": "markdown",
   "metadata": {},
   "source": [
    "###Load Templates and Build Lecture"
   ]
  },
  {
   "cell_type": "code",
   "execution_count": 4,
   "metadata": {
    "collapsed": false
   },
   "outputs": [],
   "source": [
    "original_title = \"Lecture Title\"\n",
    "with open(header, 'r') as f:\n",
    "    txt = f.read()\n",
    "    txt = txt.replace(original_title, Slide_show_name)\n",
    "with open(slide, 'r') as f:\n",
    "    slide_txt = f.read()\n",
    "slide_txt = slide_txt.replace(\"Week_1\",\"Week_%d\"%Week_number)\n",
    "slide_txt = slide_txt.replace(\"Lecture_Title\",Slide_show_name)\n",
    "for i in range(number_of_slides):\n",
    "    slide = slide_txt.replace(\"Slide Title\", \"Slide %d Title\"%(i+1))\n",
    "    txt += slide\n",
    "with open(footer, 'r') as f:\n",
    "    txt += f.read()"
   ]
  },
  {
   "cell_type": "markdown",
   "metadata": {},
   "source": [
    "###Make Lecture Audio Entry"
   ]
  },
  {
   "cell_type": "code",
   "execution_count": 5,
   "metadata": {
    "collapsed": true
   },
   "outputs": [],
   "source": [
    "d = \"./Lecture_Audio/Week_%d/%s\"%(Week_number,Slide_show_name)\n",
    "if not os.path.exists(d):\n",
    "    os.makedirs(d)"
   ]
  },
  {
   "cell_type": "markdown",
   "metadata": {},
   "source": [
    "###Make Blank Lecture"
   ]
  },
  {
   "cell_type": "code",
   "execution_count": 6,
   "metadata": {
    "collapsed": true
   },
   "outputs": [],
   "source": [
    "with open(Slide_show_name+\".ipynb\",'w')as f:\n",
    "    f.write(txt)"
   ]
  }
 ],
 "metadata": {
  "kernelspec": {
   "display_name": "Python 3",
   "language": "python",
   "name": "python3"
  },
  "language_info": {
   "codemirror_mode": {
    "name": "ipython",
    "version": 3
   },
   "file_extension": ".py",
   "mimetype": "text/x-python",
   "name": "python",
   "nbconvert_exporter": "python",
   "pygments_lexer": "ipython3",
   "version": "3.4.0"
  }
 },
 "nbformat": 4,
 "nbformat_minor": 0
}
