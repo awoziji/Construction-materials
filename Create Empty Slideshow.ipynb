{
 "cells": [
  {
   "cell_type": "code",
   "execution_count": 1,
   "metadata": {
    "collapsed": true
   },
   "outputs": [],
   "source": [
    "Slide_show_name = \"Steel\"\n",
    "number_of_slides = 6"
   ]
  },
  {
   "cell_type": "code",
   "execution_count": 2,
   "metadata": {
    "collapsed": true
   },
   "outputs": [],
   "source": [
    "path = \"./Slideshow_source/\"\n",
    "header = path+\"Blank Lecture Header.txt\"\n",
    "slide = path+\"Blank Lecture Main Slides.txt\"\n",
    "footer = path+\"Blank Lecture Footer.txt\""
   ]
  },
  {
   "cell_type": "code",
   "execution_count": 3,
   "metadata": {
    "collapsed": true
   },
   "outputs": [],
   "source": [
    "with open(header, 'r') as f:\n",
    "    txt = f.read()\n",
    "with open(slide, 'r') as f:\n",
    "    slide_txt = f.read()\n",
    "txt += slide_txt*number_of_slides\n",
    "with open(footer, 'r') as f:\n",
    "    txt += f.read()"
   ]
  },
  {
   "cell_type": "code",
   "execution_count": 4,
   "metadata": {
    "collapsed": true
   },
   "outputs": [],
   "source": [
    "with open(Slide_show_name+\".ipynb\",'w')as f:\n",
    "    f.write(txt)"
   ]
  }
 ],
 "metadata": {
  "kernelspec": {
   "display_name": "Python 3",
   "language": "python",
   "name": "python3"
  },
  "language_info": {
   "codemirror_mode": {
    "name": "ipython",
    "version": 3
   },
   "file_extension": ".py",
   "mimetype": "text/x-python",
   "name": "python",
   "nbconvert_exporter": "python",
   "pygments_lexer": "ipython3",
   "version": "3.4.0"
  }
 },
 "nbformat": 4,
 "nbformat_minor": 0
}
