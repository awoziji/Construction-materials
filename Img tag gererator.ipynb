{
 "cells": [
  {
   "cell_type": "code",
   "execution_count": 7,
   "metadata": {
    "collapsed": false
   },
   "outputs": [
    {
     "name": "stdout",
     "output_type": "stream",
     "text": [
      "<a href = \"https://en.wikipedia.org/wiki/Hammer\"> <img src=\"https://upload.wikimedia.org/wikipedia/commons/thumb/8/84/Claw-hammer.jpg/440px-Claw-hammer.jpg\" alt = \"Hammer image\" Title=\"Claw Hammer\"  style=\"max-width:200px; max-height:200px; border:1px solid blue; float:right; margin-left:10px;\"/></a>\n"
     ]
    }
   ],
   "source": [
    "img_tmp = \"\"\"<a href = \"REF\">\n",
    "<img src=\"SOURCE\" alt = \"ALT\" Title=\"TITLE\" \n",
    "style=\"max-width:SIZEpx; max-height:SIZEpx; border:1px solid blue; float:LOCAL; margin-NOT_LOCAL:10px;\"/></a>\"\"\"\n",
    "\n",
    "#Webpage where the image was found\n",
    "Ref =     \"https://en.wikipedia.org/wiki/Hammer\"\n",
    "#Image url\n",
    "img =     \"https://upload.wikimedia.org/wikipedia/commons/thumb/8/84/Claw-hammer.jpg/440px-Claw-hammer.jpg\"\n",
    "Alt_txt = \"Hammer image\" #What shows up when no image is there\n",
    "Title =   \"Claw Hammer\" #Hoover Text\n",
    "Size =    200 #px\n",
    "local =   'r'\n",
    "\n",
    "Locations = {'l':'left', 'r':'right'}\n",
    "Location = Locations[local]\n",
    "not_L = 'r' if local == 'l' else 'l'\n",
    "Not_Location = Locations[not_L]\n",
    "\n",
    "img_tmp = img_tmp.replace('REF',Ref)\n",
    "img_tmp = img_tmp.replace('SOURCE',img)\n",
    "img_tmp = img_tmp.replace('ALT',Alt_txt)\n",
    "img_tmp = img_tmp.replace('TITLE',Title)\n",
    "img_tmp = img_tmp.replace('SIZE',str(Size))\n",
    "img_tmp = img_tmp.replace('NOT_LOCAL',Not_Location)\n",
    "img_tmp = img_tmp.replace('LOCAL',Location)\n",
    "\n",
    "print(' '.join(img_tmp.splitlines()))"
   ]
  }
 ],
 "metadata": {
  "kernelspec": {
   "display_name": "Python 3",
   "language": "python",
   "name": "python3"
  },
  "language_info": {
   "codemirror_mode": {
    "name": "ipython",
    "version": 3
   },
   "file_extension": ".py",
   "mimetype": "text/x-python",
   "name": "python",
   "nbconvert_exporter": "python",
   "pygments_lexer": "ipython3",
   "version": "3.4.0"
  }
 },
 "nbformat": 4,
 "nbformat_minor": 0
}
