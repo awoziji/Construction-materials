{
 "cells": [
  {
   "cell_type": "code",
   "execution_count": 1,
   "metadata": {
    "collapsed": true
   },
   "outputs": [],
   "source": [
    "import re"
   ]
  },
  {
   "cell_type": "code",
   "execution_count": 15,
   "metadata": {
    "collapsed": false
   },
   "outputs": [],
   "source": [
    "with open(\"index.html\",'r') as f:\n",
    "    index = f.read()\n"
   ]
  },
  {
   "cell_type": "code",
   "execution_count": 14,
   "metadata": {
    "collapsed": true
   },
   "outputs": [],
   "source": [
    "open_tag = \"<\\w+\"\n",
    "close_tag = \"</\\w+\"\n",
    "inline_close_tag = \"/>\"\n",
    "ot = re.compile(open_tag)\n",
    "ct = re.compile(close_tag)\n",
    "it = re.compile(inline_close_tag)"
   ]
  },
  {
   "cell_type": "code",
   "execution_count": 17,
   "metadata": {
    "collapsed": false
   },
   "outputs": [
    {
     "name": "stdout",
     "output_type": "stream",
     "text": [
      "0\n"
     ]
    }
   ],
   "source": [
    "OT = ot.findall(index)\n",
    "CT = ct.findall(index)\n",
    "IT = it.findall(index)\n",
    "count_diff = len(OT) - len(CT) - len(IT)\n",
    "print(count_diff)"
   ]
  },
  {
   "cell_type": "code",
   "execution_count": 10,
   "metadata": {
    "collapsed": false
   },
   "outputs": [],
   "source": [
    "nCT = [tag.replace(\"<\",\"</\") for tag in OT]"
   ]
  },
  {
   "cell_type": "code",
   "execution_count": 13,
   "metadata": {
    "collapsed": false
   },
   "outputs": [
    {
     "name": "stdout",
     "output_type": "stream",
     "text": [
      "Difference = -3 for tag '</meta'\n",
      "Difference = -1 for tag '</img'\n",
      "Difference = -1 for tag '</link'\n"
     ]
    }
   ],
   "source": [
    "tgSet = list(set(nCT))\n",
    "for tag in tgSet:\n",
    "    match = CT.count(tag)-nCT.count(tag)\n",
    "    if match != 0:\n",
    "        print(\"Difference = %d for tag '%s'\"%(match,tag))"
   ]
  }
 ],
 "metadata": {
  "kernelspec": {
   "display_name": "Python 3",
   "language": "python",
   "name": "python3"
  },
  "language_info": {
   "codemirror_mode": {
    "name": "ipython",
    "version": 3
   },
   "file_extension": ".py",
   "mimetype": "text/x-python",
   "name": "python",
   "nbconvert_exporter": "python",
   "pygments_lexer": "ipython3",
   "version": "3.4.0"
  }
 },
 "nbformat": 4,
 "nbformat_minor": 0
}
