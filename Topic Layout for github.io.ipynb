{
 "cells": [
  {
   "cell_type": "code",
   "execution_count": 7,
   "metadata": {
    "collapsed": false
   },
   "outputs": [
    {
     "name": "stdout",
     "output_type": "stream",
     "text": [
      "<h3>\n",
      "<a id=\"Module-0\" class=\"anchor\" href=\"#Module-0\" aria-hidden=\"true\"><span class=\"octicon octicon-link\"></span></a>Module 0 - Greeting</h3>\n",
      "\n",
      "\n",
      "<h3>\n",
      "<a id=\"Module-1\" class=\"anchor\" href=\"#Module-1\" aria-hidden=\"true\"><span class=\"octicon octicon-link\"></span></a>Module 1 - Sustainability</h3>\n",
      "\n",
      "\n",
      "<h3>\n",
      "<a id=\"Module-2\" class=\"anchor\" href=\"#Module-2\" aria-hidden=\"true\"><span class=\"octicon octicon-link\"></span></a>Module 2 - Steel and Aluminum</h3>\n",
      "\n",
      "\n",
      "<h3>\n",
      "<a id=\"Module-3\" class=\"anchor\" href=\"#Module-3\" aria-hidden=\"true\"><span class=\"octicon octicon-link\"></span></a>Module 3 - Wood</h3>\n",
      "\n",
      "\n",
      "<h3>\n",
      "<a id=\"Module-4\" class=\"anchor\" href=\"#Module-4\" aria-hidden=\"true\"><span class=\"octicon octicon-link\"></span></a>Module 4 - Asphalt</h3>\n",
      "\n",
      "\n",
      "<h3>\n",
      "<a id=\"Module-5\" class=\"anchor\" href=\"#Module-5\" aria-hidden=\"true\"><span class=\"octicon octicon-link\"></span></a>Module 5 - Concrete</h3>\n",
      "\n",
      "\n",
      "<h3>\n",
      "<a id=\"Module-6\" class=\"anchor\" href=\"#Module-6\" aria-hidden=\"true\"><span class=\"octicon octicon-link\"></span></a>Module 6 - Masonry</h3>\n",
      "\n",
      "\n",
      "<h3>\n",
      "<a id=\"Module-7\" class=\"anchor\" href=\"#Module-7\" aria-hidden=\"true\"><span class=\"octicon octicon-link\"></span></a>Module 7 - Moisture</h3>\n",
      "\n",
      "\n",
      "<h3>\n",
      "<a id=\"Module-8\" class=\"anchor\" href=\"#Module-8\" aria-hidden=\"true\"><span class=\"octicon octicon-link\"></span></a>Module 8 - Flooring</h3>\n",
      "\n",
      "\n",
      "<h3>\n",
      "<a id=\"Module-9\" class=\"anchor\" href=\"#Module-9\" aria-hidden=\"true\"><span class=\"octicon octicon-link\"></span></a>Module 9 - Carpet</h3>\n",
      "\n",
      "\n",
      "<h3>\n",
      "<a id=\"Module-10\" class=\"anchor\" href=\"#Module-10\" aria-hidden=\"true\"><span class=\"octicon octicon-link\"></span></a>Module 10 - Gypsum</h3>\n",
      "\n",
      "\n",
      "<h3>\n",
      "<a id=\"Module-11\" class=\"anchor\" href=\"#Module-11\" aria-hidden=\"true\"><span class=\"octicon octicon-link\"></span></a>Module 11 - Paint</h3>\n",
      "\n",
      "\n",
      "<h3>\n",
      "<a id=\"Module-12\" class=\"anchor\" href=\"#Module-12\" aria-hidden=\"true\"><span class=\"octicon octicon-link\"></span></a>Module 12 - Glass and Plastic</h3>\n",
      "\n",
      "\n"
     ]
    }
   ],
   "source": [
    "txt = \"\"\"<h3>\n",
    "<a id=\"{id}\" class=\"anchor\" href=\"#{id}\" aria-hidden=\"true\"><span class=\"octicon octicon-link\"></span></a>{title}</h3>\n",
    "\"\"\"\n",
    "\n",
    "base = {\"{id}\":\"Module \",\"{title}\":\"topic\"}\n",
    "\n",
    "topics = [\"Greeting\",\n",
    "         \"Sustainability\",\n",
    "         \"Steel and Aluminum\",\n",
    "         \"Wood\",\n",
    "         \"Asphalt\",\n",
    "         \"Concrete\",\n",
    "         \"Masonry\",\n",
    "         \"Moisture\",\n",
    "         \"Flooring\",\n",
    "         \"Carpet\",\n",
    "         \"Gypsum\",\n",
    "         \"Paint\",\n",
    "         \"Glass and Plastic\"]\n",
    "\n",
    "for index, topic in enumerate(topics):\n",
    "    base['{id}'] = \"Module-\"+str(index)\n",
    "    base['{title}'] = topic\n",
    "    \n",
    "    TXT = txt.replace('{id}',base['{id}'])\n",
    "    TXT = TXT.replace('{title}',\"Module \"+str(index)+\" - \"+base['{title}'])\n",
    "    TXT+='\\n'\n",
    "    print(TXT)"
   ]
  },
  {
   "cell_type": "code",
   "execution_count": null,
   "metadata": {
    "collapsed": true
   },
   "outputs": [],
   "source": []
  }
 ],
 "metadata": {
  "kernelspec": {
   "display_name": "Python 3",
   "language": "python",
   "name": "python3"
  },
  "language_info": {
   "codemirror_mode": {
    "name": "ipython",
    "version": 3
   },
   "file_extension": ".py",
   "mimetype": "text/x-python",
   "name": "python",
   "nbconvert_exporter": "python",
   "pygments_lexer": "ipython3",
   "version": "3.4.0"
  }
 },
 "nbformat": 4,
 "nbformat_minor": 0
}
