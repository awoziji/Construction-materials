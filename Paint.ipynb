{
 "cells": [
  {
   "cell_type": "markdown",
   "metadata": {
    "slideshow": {
     "slide_type": "slide"
    }
   },
   "source": [
    "# Paint"
   ]
  },
  {
   "cell_type": "markdown",
   "metadata": {
    "slideshow": {
     "slide_type": "-"
    }
   },
   "source": [
    "Embedded YouTube Video"
   ]
  },
  {
   "cell_type": "markdown",
   "metadata": {
    "slideshow": {
     "slide_type": "slide"
    }
   },
   "source": [
    "## Slide Show Table of Contents"
   ]
  },
  {
   "cell_type": "markdown",
   "metadata": {},
   "source": [
    "<audio controls data-autoplay preload>\n",
    " <source src=\"mp3 Path\"\n",
    "     type='audio/mp3'>\n",
    " <p>Your user agent does not support the HTML5 Audio element or the files are missing.</p>\n",
    "</audio>"
   ]
  },
  {
   "cell_type": "markdown",
   "metadata": {
    "slideshow": {
     "slide_type": "-"
    }
   },
   "source": [
    "* [Paint](#)\n",
    "    * [Slide 1 Title](#/2)\n",
    "    * [Slide 2 Title](#/3)\n",
    "    * [Slide 3 Title](#/4)\n",
    "    * [Slide 4 Title](#/5)\n",
    "    * [Slide 5 Title](#/6)\n",
    "    * [Slide 6 Title](#/7)\n",
    "    * [Slide 7 Title](#/8)\n",
    "    * [Slide 8 Title](#/9)\n",
    "    * [Slide 9 Title](#/10)\n",
    "    * [References](#/11)\n"
   ]
  },
  {
   "cell_type": "markdown",
   "metadata": {
    "slideshow": {
     "slide_type": "slide"
    }
   },
   "source": [
    "## Introduction"
   ]
  },
  {
   "cell_type": "markdown",
   "metadata": {},
   "source": [
    "Edit Slide Audio\n",
    "<audio controls data-autoplay preload>\n",
    " <source src=\"https://github.com/damontallen/Construction-materials/raw/master/Lecture_Audio/Week_11/Paint/Paint-Slide_Title.mp3\"\n",
    "         type='audio/mp3'>\n",
    " <p>Your user agent does not support the HTML5 Audio element or the files is missing.</p>\n",
    "</audio>"
   ]
  },
  {
   "cell_type": "markdown",
   "metadata": {},
   "source": [
    "The order of this lecture is based on the order of thinking when deciding to [paint](https://en.wikipedia.org/wiki/Paint).  The thought process is backward from actually painting since you have to have the final product in mind first and then investigate what is needed to accomplish it.  \n",
    "\n",
    "There is evidence that humans have been using paint for at least 100,000 years.  I could go into the history a little but with the changes that have occurred since the industrial revolution and later most of what I would cover would be irrelevant.  Before starting to write this lecture I thumbed through a book written in 1919, titled “1995 Paint Questions Answered” (1995 in this case refers to the number of questions and not the year) and I was somewhat surprised at the general lack of relevance to what is done today.  I'm not saying information like what is discussed in topic 811, “Paint for Banner Work” might still be useful but I don't think it is too common to paint on silk anymore.  Admittedly I do not spend a great deal of time discussing painting with professionals and I am only guessing but I'm going to go with my gut on this one.\n",
    "\n",
    "I will be one of the first to say if you are working on a historic project it is useful to have these old references to see about matching technique and appearance but beyond that… Paint has come a long way recently with the elimination of lead in most paints and additives that help with ultraviolet protection.  Anyway let's get started."
   ]
  },
  {
   "cell_type": "markdown",
   "metadata": {
    "slideshow": {
     "slide_type": "slide"
    }
   },
   "source": [
    "## Finish Types"
   ]
  },
  {
   "cell_type": "markdown",
   "metadata": {},
   "source": [
    "Edit Slide Audio\n",
    "<audio controls data-autoplay preload>\n",
    " <source src=\"https://github.com/damontallen/Construction-materials/raw/master/Lecture_Audio/Week_11/Paint/Paint-Slide_Title.mp3\"\n",
    "         type='audio/mp3'>\n",
    " <p>Your user agent does not support the HTML5 Audio element or the files is missing.</p>\n",
    "</audio>"
   ]
  },
  {
   "cell_type": "markdown",
   "metadata": {},
   "source": [
    "<a href = \"https://en.wikipedia.org/wiki/Paint\"> <img src=\"https://upload.wikimedia.org/wikipedia/commons/thumb/b/bd/EWM_paint_2007.jpg/300px-EWM_paint_2007.jpg\" alt = \"Paints image\" Title=\"Paint\"  style=\"max-width:300px; max-height:300px; border:1px solid blue; float:right; margin-left:10px;\"/></a>\n",
    "There are three or four (depending on how you count) types of finishes you can achieve with paint.  These include flat or matte finish, semi-gloss also sometimes called eggshell, gloss, and transparent.  The last of these is often not considered a painted finish but due to the similarity of application and purpose it is going to be included here.\n",
    "\n",
    "Flat finishes are excellent for creating even lighting conditions in a space.  Unlike all the other finishes a flat finish will not reflect a light source so there is reduced glare.  This creates soft lighting conditions  which are pleasing to the eye.  \n",
    "\n",
    "The drawback of flat paints is that the painted surface is generally less durable than a gloss or semi-gloss finish and is more prone to accumulating dirt.  For this reason flat finishes should be limited to light-duty areas such as small private offices, living rooms, or adult bedrooms.\n",
    "\n",
    "Semi-gloss is as you might expect somewhere between gloss and flat finishes.  It is more durable than flat finishes but still not durable enough to be applied on horizontal surfaces below the ceiling.  This finish may not appear to have the correct surface appearance initially; it may be too glossy.  This has to do with some paints' drying processes and should be given at least a few days before making a determination on whether or not the surface needs to have a different finish.\n",
    "\n",
    "Because of the increased durability of semi-gloss it can be cleaned more easily.  This means it can be used in higher traffic areas such as private corridors, larger offices, entry ways, and children's rooms.  It will have some glare caused by reflected light so if that is a problem it should only be used in areas where furnishings can be used to block direct glare.\n",
    "\n",
    "Gloss finishes are the most durable and as such horizontal surfaces will generally by glossy.  Floors that are painted will typically be glossy because the resistance to cleaners and abrasion.  Not every glossy paint will satisfy these requirements but the ones that do are likely to be glossy.  \n",
    "\n",
    "Due to the need for regular cleaning, areas that have high amounts of moisture, grease, or other airborne contaminants are heavy-duty conditions and should have gloss finishes (or at least semi-gloss).  Areas like kitchens, bathrooms, recreation rooms, public corridors, apartments or other public spaces should be considered heavy-duty conditions for painted surfaces.\n",
    "\n",
    "Transparent finishes are different than the ones I've already listed in that they can practically fall into any of the previous categories.  Depending on the material used a transparent finish can be used for a floor finish or a finish around windows and doors.  Generally a transparent finish is over wood but transparent finishes can be used over stone and I have even heard of a clear epoxy being used over river rock gravel to form a decorative floor.\n",
    "\n",
    "If a transparent finish is used over wood though it can be made up of various parts.  It can consist of a top clear layer (or mostly clear layer) and a color layer (like a stain) beneath or it can consist of a blend of color and clear, or just a clear layer over wood.  There are other bit and pieces to what makes up a transparent finish over wood but the details of those have to do with the components that make up the finish.  I'll be covering the categories of paint chemistry next.\n"
   ]
  },
  {
   "cell_type": "markdown",
   "metadata": {
    "slideshow": {
     "slide_type": "slide"
    }
   },
   "source": [
    "## Paint Types"
   ]
  },
  {
   "cell_type": "markdown",
   "metadata": {},
   "source": [
    "Edit Slide Audio\n",
    "<audio controls data-autoplay preload>\n",
    " <source src=\"https://github.com/damontallen/Construction-materials/raw/master/Lecture_Audio/Week_11/Paint/Paint-Slide_Title.mp3\"\n",
    "         type='audio/mp3'>\n",
    " <p>Your user agent does not support the HTML5 Audio element or the files is missing.</p>\n",
    "</audio>"
   ]
  },
  {
   "cell_type": "markdown",
   "metadata": {},
   "source": [
    "When talking about types of paint you are going to be referring to the type of binder used in the paint.  The most common types of binders are oil-based, acrylic, latex, and epoxies.  These are by no means the only binders the can be used but they are the most common in construction.  Oil-based paints consist of a pigment suspended in a drying oil like [linseed oil](https://en.wikipedia.org/wiki/Linseed_oil).  Drying oils are a type of oil that cross-links when exposed to air.  This is not the same as drying and does not have to do with the evaporation of any solvent present.  That being said it is important to have adequate ventilation when using oil-based paints.  This type of paint is slow drying and as such it is important to only apply it when the environmental conditions are going to be conducive to drying.  The advantage of oil paint is that it is generally very durable and it leaves a smoother finish.  One additional problem with oil pain is that it will crack when it gets old.\n",
    "\n",
    "Acrylic paint uses water for the solvent and as such you only need soap and water for clean up.  When the water evaporates the acrylic particles bind together in a polymerization process.  The drying process is much quicker than with oil paint and in recent years the formulation of acrylic paint has improved leading to durability that approaches that of oil without the cracking.\n",
    "\n",
    "Latex paint is actually a misnomer; there is no latex in latex paint.  The term used in the United States to refers to and paint that is water based.  That means the acrylic paint will often be called latex-acrylic.  Another type of paint that is referred to as latex uses vinyl as a binder.  Vinyl is more susceptible to damage from ultraviolet light and generally results in a weaker finish.  However vinyl is cheaper than acrylic and that is why it is still in use.\n",
    "\n",
    "Epoxy paint is a two part system that is mixed together right before application.  Epoxy paints are very durable and cure into cross-linked polymer films.  They provide excellent chemical resistance, good solvent resistance, good acid resistance, and very good abrasion resistance.  They are difficult to clean up and can be very expensive.  Additionally they can be brittle and susceptible to ultraviolet damage.  \n",
    "\n",
    "There is another type of binder known as urethane (as in polyurethane) is also very durable but more generally used in painting metal surfaces.  It is common in high wear areas like handrails but not exclusively used."
   ]
  },
  {
   "cell_type": "markdown",
   "metadata": {
    "slideshow": {
     "slide_type": "slide"
    }
   },
   "source": [
    "## Surface Considerations"
   ]
  },
  {
   "cell_type": "markdown",
   "metadata": {},
   "source": [
    "Edit Slide Audio\n",
    "<audio controls data-autoplay preload>\n",
    " <source src=\"https://github.com/damontallen/Construction-materials/raw/master/Lecture_Audio/Week_11/Paint/Paint-Slide_Title.mp3\"\n",
    "         type='audio/mp3'>\n",
    " <p>Your user agent does not support the HTML5 Audio element or the files is missing.</p>\n",
    "</audio>"
   ]
  },
  {
   "cell_type": "markdown",
   "metadata": {},
   "source": [
    "For interior surfaces like walls and ceilings your are likely going to be painting over one of three things, paper, plaster, or masonry.  Both plaster and masonry are going to chemically similar to concrete so on the off chance that you are painting a concrete wall or ceiling you can just use the same material.  That is not to say that there can't be differences like if the concrete is below grade and you have moisture issues but if that is the case then look at what is covered with regards to floors.  \n",
    "\n",
    "Now, you are probably wondering what I meant when I said paper.  In this case I am referring to the paper covering of drywall and not wallpaper.  In any case when we are considering surface conditions we are really considering what type of primer is needed.  Primer is a type of paint that serves as a bonding agent between the material of the surface and the top layer of paint.  The type of primer will also depend on whether the surface is interior or exterior.  That is to say will the final painted surface be regularly exposed to ultraviolet, rain, and cold or will it likely be exposed to cleaners and abrasion regularly?  \n",
    "\n",
    "For plaster and paper on the interior of a building the you are more likely going to be looking at a water based primer though if your top coat is going to be oil-based then there are some primers that are oil based that will work.  However some modern formulations of water based primers will be capable of supporting a oil based top coat.  One concern that should be addressed is that masonry walls can be very porous and it may be necessary to use a block filler or cement grout to fill the voids prior to priming.\n",
    "\n",
    "The trim that surrounds the openings in the interior of a building is likely to be either wood or metal.  Both of these surfaces are likely to need a primer that is not water based.  Water will raise the grain of wood making it rough and water can also cause damage to metal.  Once the primer is dry an acrylic top coat can be used but it may be better, for the metal at least, to go with an oil topcoat.  The reason for this is trim is more likely to get cleaned on a regular basis and thus it will need the added durability.  \n",
    "\n",
    "As for floors we at really only considering concrete and wood.  It is possible that metal floors are being used but if that is the case then there are likely additional considerations that need to be accounted for like chemical exposure and extreme wear.  Either one of these may necessitate the use of special treatment.  For a concrete floor that is going to have regular exposure to water you do not want to have a water based paint.  This has also been true for wood floors.  That being said in resent years there have been improvements in water based paints and some have proven adequate for the job.  The type of topcoat that you will likely have to apply is called an [enamel](https://en.wikipedia.org/wiki/Enamel_paint) paint.  These paints are [alkyd](https://en.wikipedia.org/wiki/Alkyd) based (a type of oil paint) and are generally glossy.\n",
    "\n",
    "In addition to enamel on wood floors you may end up using a transparent finish like polyurethane.  If that is the case then, depending on the desired final result, you may be applying a stain to the floor.  It is also likely that some preparation will need to be done to the floor in the way of filling small holes and defects.  Filler needs to have time to dry and then be sanded smooth prior to additional finishing.  Some fillers may need to be applied after the stain and first coat of polyurethane is applied.  The reason for this is that the filler will not absorb stain to the same amount as the wood and it is likely that a slightly different formulation of stain will need to be used.  \n",
    "\n",
    "[Stain](https://en.wikipedia.org/wiki/Wood_stain) is generally a solvent (not water) based product that contains a color that is not opaque.  If the wood is not [sealed](https://en.wikipedia.org/wiki/Sealant#Types_of_sealants) prior to applying the stain, the stain may not absorb evenly and the final product may end up with a blotchy finish (test a few samples prior to settling on the final procedure).\n",
    "\n"
   ]
  },
  {
   "cell_type": "markdown",
   "metadata": {
    "slideshow": {
     "slide_type": "slide"
    }
   },
   "source": [
    "## Exterior"
   ]
  },
  {
   "cell_type": "markdown",
   "metadata": {},
   "source": [
    "Edit Slide Audio\n",
    "<audio controls data-autoplay preload>\n",
    " <source src=\"https://github.com/damontallen/Construction-materials/raw/master/Lecture_Audio/Week_11/Paint/Paint-Slide_Title.mp3\"\n",
    "         type='audio/mp3'>\n",
    " <p>Your user agent does not support the HTML5 Audio element or the files is missing.</p>\n",
    "</audio>"
   ]
  },
  {
   "cell_type": "markdown",
   "metadata": {},
   "source": [
    "Exterior walls and roofs are going to have different requirements places on them than paints and coatings that are not exposed to sun and rain.  The differences are seen in both the preparation and final  coat.  For instance a metal roof may require specialty paint that includes metal particulates.  It also may need to be treated with an acid to act as a primer.  However you are still likely going to be looking at an oil-base primer and paint.  \n",
    "\n",
    "If you are looking at wood walls on the exterior of a building you are also likely going to be looking at an oil-bases primer, though, again, this has become less of a certainty in recent years with advances in water based paints.  That being said it is still likely that you will need an oil-bases finish if there are knots or stains that need to be covered in the wood.\n",
    "\n",
    "For masonry and concrete you could be using almost anything but the more water that needs to be resisted the more durable of a paint or coating will need to be applied.  There are special coatings that need to be used if the concrete or masonry is going to be below grade.  Not all concrete or masonry surfaces below grade need to be coated, only the ones that need to have water prevented from penetrating the structure.\n",
    "\n",
    "That should be sufficient to get you started in your reading.  One last thing that is not covered in your text; [shellac](https://en.wikipedia.org/wiki/Shellac) is a natural product that comes from an insect.  It is not used in construction much anymore but it may be needed in a historic project in order to match an existing finish."
   ]
  },
  {
   "cell_type": "markdown",
   "metadata": {
    "slideshow": {
     "slide_type": "slide"
    }
   },
   "source": [
    "## Slide 6 Title"
   ]
  },
  {
   "cell_type": "markdown",
   "metadata": {},
   "source": [
    "Edit Slide Audio\n",
    "<audio controls data-autoplay preload>\n",
    " <source src=\"https://github.com/damontallen/Construction-materials/raw/master/Lecture_Audio/Week_11/Paint/Paint-Slide_Title.mp3\"\n",
    "         type='audio/mp3'>\n",
    " <p>Your user agent does not support the HTML5 Audio element or the files is missing.</p>\n",
    "</audio>"
   ]
  },
  {
   "cell_type": "markdown",
   "metadata": {},
   "source": [
    "Slide Content"
   ]
  },
  {
   "cell_type": "markdown",
   "metadata": {
    "slideshow": {
     "slide_type": "slide"
    }
   },
   "source": [
    "## Slide 7 Title"
   ]
  },
  {
   "cell_type": "markdown",
   "metadata": {},
   "source": [
    "Edit Slide Audio\n",
    "<audio controls data-autoplay preload>\n",
    " <source src=\"https://github.com/damontallen/Construction-materials/raw/master/Lecture_Audio/Week_11/Paint/Paint-Slide_Title.mp3\"\n",
    "         type='audio/mp3'>\n",
    " <p>Your user agent does not support the HTML5 Audio element or the files is missing.</p>\n",
    "</audio>"
   ]
  },
  {
   "cell_type": "markdown",
   "metadata": {},
   "source": [
    "Slide Content"
   ]
  },
  {
   "cell_type": "markdown",
   "metadata": {
    "slideshow": {
     "slide_type": "slide"
    }
   },
   "source": [
    "## Slide 8 Title"
   ]
  },
  {
   "cell_type": "markdown",
   "metadata": {},
   "source": [
    "Edit Slide Audio\n",
    "<audio controls data-autoplay preload>\n",
    " <source src=\"https://github.com/damontallen/Construction-materials/raw/master/Lecture_Audio/Week_11/Paint/Paint-Slide_Title.mp3\"\n",
    "         type='audio/mp3'>\n",
    " <p>Your user agent does not support the HTML5 Audio element or the files is missing.</p>\n",
    "</audio>"
   ]
  },
  {
   "cell_type": "markdown",
   "metadata": {},
   "source": [
    "Slide Content"
   ]
  },
  {
   "cell_type": "markdown",
   "metadata": {
    "slideshow": {
     "slide_type": "slide"
    }
   },
   "source": [
    "# References"
   ]
  },
  {
   "cell_type": "markdown",
   "metadata": {},
   "source": [
    "[UF Class website](https://ufl.instructure.com/courses/) \n",
    "\n",
    "[Github.io version of course website](http://damontallen.github.io/Construction-materials/) *(Do not use this link if you are taking this course in Summer A or B.)*\n",
    "\n",
    "\n",
    "[IPython.org](http://ipython.org/) *(IPython is the opensource software used in the development of much of this course.)*\n",
    "\n",
    "[Complete Software List](http://nbviewer.ipython.org/github/damontallen/Construction-materials/blob/master/Resources.ipynb)\n",
    "\n",
    "## Report any problems\n",
    "\n",
    "[Issues](https://github.com/damontallen/Construction-materials/issues) Please report any problems that occurred during the viewing of this or any other lecture.\n",
    "\n",
    "Alternative Reporting - Email <a href=\"mailto:damontallen@gmail.com?Subject=Construction%20Materials%20Lecture%20Problems\" target=\"_top\">damontallen@gmail.com</a>"
   ]
  },
  {
   "cell_type": "markdown",
   "metadata": {
    "slideshow": {
     "slide_type": "skip"
    }
   },
   "source": [
    "## Additional References"
   ]
  },
  {
   "cell_type": "markdown",
   "metadata": {
    "slideshow": {
     "slide_type": "skip"
    }
   },
   "source": [
    "Wikipedia:\n",
    "\n",
    "* [Oil Paint](https://en.wikipedia.org/wiki/Oil_paint)\n",
    "* [Drying Oil](https://en.wikipedia.org/wiki/Drying_oil)\n",
    "* [Acrylic Paint](https://en.wikipedia.org/wiki/Acrylic_paint)\n",
    "* [Emulsion Polymerization](https://en.wikipedia.org/wiki/Emulsion_polymerization)\n",
    "\n",
    "Other Sources:\n",
    "\n",
    "* [DIY Stackexchange](http://diy.stackexchange.com/questions/4669/whats-the-practical-difference-between-latex-and-acrylic-water-dispersion-p)\n",
    "* [Home Depot](http://www.homedepot.com/c/exterior_paint_buying_guide_HT_BG_PA)\n"
   ]
  }
 ],
 "metadata": {
  "celltoolbar": "Slideshow",
  "kernelspec": {
   "display_name": "Python 3",
   "language": "python",
   "name": "python3"
  },
  "language_info": {
   "codemirror_mode": {
    "name": "ipython",
    "version": 3
   },
   "file_extension": ".py",
   "mimetype": "text/x-python",
   "name": "python",
   "nbconvert_exporter": "python",
   "pygments_lexer": "ipython3",
   "version": "3.4.0"
  }
 },
 "nbformat": 4,
 "nbformat_minor": 0
}
